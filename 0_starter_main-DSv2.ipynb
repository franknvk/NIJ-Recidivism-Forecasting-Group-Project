{
 "cells": [
  {
   "cell_type": "markdown",
   "id": "a67b4e5d-eb0b-4600-a37a-801fbbd473d5",
   "metadata": {},
   "source": [
    "don't work on the same notebook\n",
    "if working on the same part of the project, communicate on what is next to be done"
   ]
  },
  {
   "cell_type": "markdown",
   "id": "ae417bb9-50fe-486d-b62e-40d0f335dcf3",
   "metadata": {
    "tags": []
   },
   "source": [
    "# Project 5 (Group) -  Recidivism in Georgia x-x"
   ]
  },
  {
   "cell_type": "markdown",
   "id": "c43b68ee-b54b-4c8d-9dcc-accdbc772fb9",
   "metadata": {},
   "source": [
    "## Notebook Summary\n",
    "---\n",
    "This contents of this notebook includes the problem statement, background research, & pre-processing/data cleaning"
   ]
  },
  {
   "cell_type": "markdown",
   "id": "d7a7dc3b-dd41-4ba7-bf58-4682aa324254",
   "metadata": {
    "tags": []
   },
   "source": [
    "## Problem Statement\n",
    "---"
   ]
  },
  {
   "cell_type": "markdown",
   "id": "c752facb-9fb7-41bd-86b8-a878278af7df",
   "metadata": {},
   "source": [
    "TEXT TEXT TEXT"
   ]
  },
  {
   "cell_type": "markdown",
   "id": "bc9bb212-23f6-44e9-988b-3e0c1352241a",
   "metadata": {
    "tags": []
   },
   "source": [
    "## Background & Outside Research\n",
    "---"
   ]
  },
  {
   "cell_type": "markdown",
   "id": "765672bd-88c2-4a11-b01f-84fbd2fd8761",
   "metadata": {},
   "source": [
    "### Project Websites\n",
    "https://data.ojp.usdoj.gov/Courts/NIJ-s-Recidivism-Challenge-Full-Dataset/ynf5-u8nk \n",
    " \n",
    "https://data.ojp.usdoj.gov/stories/s/daxx-hznc\n",
    " \n",
    "https://nij.ojp.gov/funding/recidivism-forecasting-challenge#g0jtto"
   ]
  },
  {
   "cell_type": "markdown",
   "id": "ad814833-f347-438c-8965-737e3b67740d",
   "metadata": {},
   "source": [
    "### Datasets\n",
    "---\n",
    "\n",
    "TEXT TEXT [`datasets`](./datasets/) folder for this project that I will be using.\n",
    "TEXT TEXT\n",
    "* [`file.csv`](./datasets/file.csv): this dataset has the raw data collected TEXT TEXT\n"
   ]
  },
  {
   "cell_type": "markdown",
   "id": "e5ef859f-5fe7-496d-b35f-a6d806d37692",
   "metadata": {
    "tags": []
   },
   "source": [
    "--- \n",
    "# Part 1 - Data Cleaning/Pre-Processing\n",
    "\n",
    "---"
   ]
  },
  {
   "cell_type": "code",
   "execution_count": 67,
   "id": "0ad85b42-c482-4ee7-ae93-bf6a8108b24e",
   "metadata": {},
   "outputs": [],
   "source": [
    "#import libraries\n",
    "import pandas as pd\n",
    "import numpy as np\n",
    "import matplotlib.pyplot as plt\n",
    "import seaborn as sns\n",
    "import sklearn\n",
    "from sklearn.impute import KNNImputer, SimpleImputer\n",
    "from sklearn.compose import make_column_transformer\n",
    "from sklearn.preprocessing import OneHotEncoder, StandardScaler"
   ]
  },
  {
   "cell_type": "code",
   "execution_count": 2,
   "id": "f803ddc5-0d3f-4393-be61-a30b286cbbbc",
   "metadata": {},
   "outputs": [],
   "source": [
    "recid_df = pd.read_csv('./data/NIJ_s_Recidivism_Challenge_Full_Dataset.csv')\n",
    "recid_df.columns = [x.lower() for x in recid_df]"
   ]
  },
  {
   "cell_type": "code",
   "execution_count": 3,
   "id": "7e537ffb-5d6f-4db7-97d5-690b4a17fdd6",
   "metadata": {
    "tags": []
   },
   "outputs": [],
   "source": [
    "# just looking...\n",
    "# recid_df[['employment_exempt','percent_days_employed','prison_offense']].head(30)"
   ]
  },
  {
   "cell_type": "code",
   "execution_count": 4,
   "id": "9f2faa62-c2e2-48f6-b173-c4d4c62154cb",
   "metadata": {
    "tags": []
   },
   "outputs": [],
   "source": [
    "# recid_df.info()"
   ]
  },
  {
   "cell_type": "code",
   "execution_count": 5,
   "id": "9f946d5a-0a8f-46ee-8b5b-4cbc5d439221",
   "metadata": {
    "tags": []
   },
   "outputs": [
    {
     "data": {
      "text/plain": [
       "(25835, 54)"
      ]
     },
     "execution_count": 5,
     "metadata": {},
     "output_type": "execute_result"
    }
   ],
   "source": [
    "recid_df.shape"
   ]
  },
  {
   "cell_type": "code",
   "execution_count": 6,
   "id": "76bd180b-6f4d-46e7-9976-03cc91c52ef7",
   "metadata": {},
   "outputs": [
    {
     "data": {
      "text/html": [
       "<div>\n",
       "<style scoped>\n",
       "    .dataframe tbody tr th:only-of-type {\n",
       "        vertical-align: middle;\n",
       "    }\n",
       "\n",
       "    .dataframe tbody tr th {\n",
       "        vertical-align: top;\n",
       "    }\n",
       "\n",
       "    .dataframe thead th {\n",
       "        text-align: right;\n",
       "    }\n",
       "</style>\n",
       "<table border=\"1\" class=\"dataframe\">\n",
       "  <thead>\n",
       "    <tr style=\"text-align: right;\">\n",
       "      <th></th>\n",
       "      <th>count</th>\n",
       "      <th>mean</th>\n",
       "      <th>std</th>\n",
       "      <th>min</th>\n",
       "      <th>25%</th>\n",
       "      <th>50%</th>\n",
       "      <th>75%</th>\n",
       "      <th>max</th>\n",
       "    </tr>\n",
       "  </thead>\n",
       "  <tbody>\n",
       "    <tr>\n",
       "      <th>id</th>\n",
       "      <td>25835.0</td>\n",
       "      <td>13314.004838</td>\n",
       "      <td>7722.206327</td>\n",
       "      <td>1.0</td>\n",
       "      <td>6626.500000</td>\n",
       "      <td>13270.000000</td>\n",
       "      <td>20021.500000</td>\n",
       "      <td>26761.0</td>\n",
       "    </tr>\n",
       "    <tr>\n",
       "      <th>residence_puma</th>\n",
       "      <td>25835.0</td>\n",
       "      <td>12.361796</td>\n",
       "      <td>7.133742</td>\n",
       "      <td>1.0</td>\n",
       "      <td>6.000000</td>\n",
       "      <td>12.000000</td>\n",
       "      <td>18.000000</td>\n",
       "      <td>25.0</td>\n",
       "    </tr>\n",
       "    <tr>\n",
       "      <th>supervision_risk_score_first</th>\n",
       "      <td>25360.0</td>\n",
       "      <td>6.082216</td>\n",
       "      <td>2.381442</td>\n",
       "      <td>1.0</td>\n",
       "      <td>4.000000</td>\n",
       "      <td>6.000000</td>\n",
       "      <td>8.000000</td>\n",
       "      <td>10.0</td>\n",
       "    </tr>\n",
       "    <tr>\n",
       "      <th>avg_days_per_drugtest</th>\n",
       "      <td>19732.0</td>\n",
       "      <td>93.890044</td>\n",
       "      <td>117.169847</td>\n",
       "      <td>0.5</td>\n",
       "      <td>28.837366</td>\n",
       "      <td>55.424812</td>\n",
       "      <td>110.333333</td>\n",
       "      <td>1088.5</td>\n",
       "    </tr>\n",
       "    <tr>\n",
       "      <th>drugtests_thc_positive</th>\n",
       "      <td>20663.0</td>\n",
       "      <td>0.063350</td>\n",
       "      <td>0.138453</td>\n",
       "      <td>0.0</td>\n",
       "      <td>0.000000</td>\n",
       "      <td>0.000000</td>\n",
       "      <td>0.071429</td>\n",
       "      <td>1.0</td>\n",
       "    </tr>\n",
       "    <tr>\n",
       "      <th>drugtests_cocaine_positive</th>\n",
       "      <td>20663.0</td>\n",
       "      <td>0.013741</td>\n",
       "      <td>0.061233</td>\n",
       "      <td>0.0</td>\n",
       "      <td>0.000000</td>\n",
       "      <td>0.000000</td>\n",
       "      <td>0.000000</td>\n",
       "      <td>1.0</td>\n",
       "    </tr>\n",
       "    <tr>\n",
       "      <th>drugtests_meth_positive</th>\n",
       "      <td>20663.0</td>\n",
       "      <td>0.012890</td>\n",
       "      <td>0.060581</td>\n",
       "      <td>0.0</td>\n",
       "      <td>0.000000</td>\n",
       "      <td>0.000000</td>\n",
       "      <td>0.000000</td>\n",
       "      <td>1.0</td>\n",
       "    </tr>\n",
       "    <tr>\n",
       "      <th>drugtests_other_positive</th>\n",
       "      <td>20663.0</td>\n",
       "      <td>0.007550</td>\n",
       "      <td>0.041150</td>\n",
       "      <td>0.0</td>\n",
       "      <td>0.000000</td>\n",
       "      <td>0.000000</td>\n",
       "      <td>0.000000</td>\n",
       "      <td>1.0</td>\n",
       "    </tr>\n",
       "    <tr>\n",
       "      <th>percent_days_employed</th>\n",
       "      <td>25373.0</td>\n",
       "      <td>0.482331</td>\n",
       "      <td>0.425004</td>\n",
       "      <td>0.0</td>\n",
       "      <td>0.000000</td>\n",
       "      <td>0.475728</td>\n",
       "      <td>0.969325</td>\n",
       "      <td>1.0</td>\n",
       "    </tr>\n",
       "    <tr>\n",
       "      <th>jobs_per_year</th>\n",
       "      <td>25027.0</td>\n",
       "      <td>0.769295</td>\n",
       "      <td>0.813787</td>\n",
       "      <td>0.0</td>\n",
       "      <td>0.000000</td>\n",
       "      <td>0.635217</td>\n",
       "      <td>1.000000</td>\n",
       "      <td>8.0</td>\n",
       "    </tr>\n",
       "    <tr>\n",
       "      <th>training_sample</th>\n",
       "      <td>25835.0</td>\n",
       "      <td>0.697813</td>\n",
       "      <td>0.459215</td>\n",
       "      <td>0.0</td>\n",
       "      <td>0.000000</td>\n",
       "      <td>1.000000</td>\n",
       "      <td>1.000000</td>\n",
       "      <td>1.0</td>\n",
       "    </tr>\n",
       "  </tbody>\n",
       "</table>\n",
       "</div>"
      ],
      "text/plain": [
       "                                count          mean          std  min  \\\n",
       "id                            25835.0  13314.004838  7722.206327  1.0   \n",
       "residence_puma                25835.0     12.361796     7.133742  1.0   \n",
       "supervision_risk_score_first  25360.0      6.082216     2.381442  1.0   \n",
       "avg_days_per_drugtest         19732.0     93.890044   117.169847  0.5   \n",
       "drugtests_thc_positive        20663.0      0.063350     0.138453  0.0   \n",
       "drugtests_cocaine_positive    20663.0      0.013741     0.061233  0.0   \n",
       "drugtests_meth_positive       20663.0      0.012890     0.060581  0.0   \n",
       "drugtests_other_positive      20663.0      0.007550     0.041150  0.0   \n",
       "percent_days_employed         25373.0      0.482331     0.425004  0.0   \n",
       "jobs_per_year                 25027.0      0.769295     0.813787  0.0   \n",
       "training_sample               25835.0      0.697813     0.459215  0.0   \n",
       "\n",
       "                                      25%           50%           75%      max  \n",
       "id                            6626.500000  13270.000000  20021.500000  26761.0  \n",
       "residence_puma                   6.000000     12.000000     18.000000     25.0  \n",
       "supervision_risk_score_first     4.000000      6.000000      8.000000     10.0  \n",
       "avg_days_per_drugtest           28.837366     55.424812    110.333333   1088.5  \n",
       "drugtests_thc_positive           0.000000      0.000000      0.071429      1.0  \n",
       "drugtests_cocaine_positive       0.000000      0.000000      0.000000      1.0  \n",
       "drugtests_meth_positive          0.000000      0.000000      0.000000      1.0  \n",
       "drugtests_other_positive         0.000000      0.000000      0.000000      1.0  \n",
       "percent_days_employed            0.000000      0.475728      0.969325      1.0  \n",
       "jobs_per_year                    0.000000      0.635217      1.000000      8.0  \n",
       "training_sample                  0.000000      1.000000      1.000000      1.0  "
      ]
     },
     "execution_count": 6,
     "metadata": {},
     "output_type": "execute_result"
    }
   ],
   "source": [
    "recid_df.describe().T"
   ]
  },
  {
   "cell_type": "markdown",
   "id": "806e5f51-aafc-4be1-9e7a-3d1270231c2e",
   "metadata": {},
   "source": [
    "### Outliers"
   ]
  },
  {
   "cell_type": "code",
   "execution_count": 7,
   "id": "a56c37af-19f1-445f-b368-d2bedecab850",
   "metadata": {},
   "outputs": [
    {
     "data": {
      "image/png": "[encoded data removed]",
      "text/plain": [
       "<Figure size 640x480 with 1 Axes>"
      ]
     },
     "metadata": {},
     "output_type": "display_data"
    }
   ],
   "source": [
    "# avg_days_per_drugtest seems to have a large value for its max\n",
    "plt.scatter(y = recid_df['avg_days_per_drugtest'], x = recid_df['id']);\n",
    "\n",
    "#nevermind, its not a crazy outlier"
   ]
  },
  {
   "cell_type": "markdown",
   "id": "e35646d0-4f1c-4164-a927-acd4a92368e0",
   "metadata": {
    "tags": []
   },
   "source": [
    "### Nulls"
   ]
  },
  {
   "cell_type": "markdown",
   "id": "d58b4744-edf7-45ac-8f1c-c4cb1cbe7807",
   "metadata": {
    "tags": []
   },
   "source": [
    "#### Potential Ways to Handle Nulls\n",
    "Note: KNN doesn't expect data to be normally distributed, but iterativeimputer does, but we have a lot of cols so it might not be super important\n",
    "\n",
    "**pre train-test-split**\n",
    "<!-- - prison_offense - 12.7% of the data - drop nulls bc this will prob be highly correlated with other cols that'll capture -->\n",
    "\n",
    "**post train-test-split**\n",
    "\n",
    "KNNimputer\n",
    "- gang_affiliated - 12% of the data, initial thinking is to drop OR knn imputer\n",
    "<!-- - drugtests_thc_positive\n",
    "- drugtests_cocaine_positive\n",
    "- drugtests_meth_positive\n",
    "- drugtests_other_positive\n",
    "\n",
    "Impute with Median\n",
    "- avg_days_per_drugtest - we could impute with median, it's skewed very left -->\n",
    "\n",
    "-Impute with Mean\n",
    "- supervision_risk_score_first - pretty normal distribution, use mean\n",
    "\n",
    "-Impute with most frequent\n",
    "- supervision_level_first - 7% of the data - most frequent - 'Standard', use mode\n",
    "\n",
    "-TBD - need to think about this\n",
    "<!-- - percent_days_employed - employment_exempt = true then this will be 0. iterative imputer (filling in vals based on weights of the features) -->\n",
    "<!-- - jobs_per_year - 3% - we could drop or if we want to keep KNNImputer. I don't think mode, mean, median will be helpful here -->"
   ]
  },
  {
   "cell_type": "code",
   "execution_count": 8,
   "id": "28aaa1f8-0852-4123-901e-250bafade7f7",
   "metadata": {},
   "outputs": [
    {
     "data": {
      "text/html": [
       "<div>\n",
       "<style scoped>\n",
       "    .dataframe tbody tr th:only-of-type {\n",
       "        vertical-align: middle;\n",
       "    }\n",
       "\n",
       "    .dataframe tbody tr th {\n",
       "        vertical-align: top;\n",
       "    }\n",
       "\n",
       "    .dataframe thead th {\n",
       "        text-align: right;\n",
       "    }\n",
       "</style>\n",
       "<table border=\"1\" class=\"dataframe\">\n",
       "  <thead>\n",
       "    <tr style=\"text-align: right;\">\n",
       "      <th></th>\n",
       "      <th>0</th>\n",
       "    </tr>\n",
       "  </thead>\n",
       "  <tbody>\n",
       "    <tr>\n",
       "      <th>gang_affiliated</th>\n",
       "      <td>3167</td>\n",
       "    </tr>\n",
       "    <tr>\n",
       "      <th>supervision_risk_score_first</th>\n",
       "      <td>475</td>\n",
       "    </tr>\n",
       "    <tr>\n",
       "      <th>supervision_level_first</th>\n",
       "      <td>1720</td>\n",
       "    </tr>\n",
       "    <tr>\n",
       "      <th>prison_offense</th>\n",
       "      <td>3277</td>\n",
       "    </tr>\n",
       "    <tr>\n",
       "      <th>avg_days_per_drugtest</th>\n",
       "      <td>6103</td>\n",
       "    </tr>\n",
       "    <tr>\n",
       "      <th>drugtests_thc_positive</th>\n",
       "      <td>5172</td>\n",
       "    </tr>\n",
       "    <tr>\n",
       "      <th>drugtests_cocaine_positive</th>\n",
       "      <td>5172</td>\n",
       "    </tr>\n",
       "    <tr>\n",
       "      <th>drugtests_meth_positive</th>\n",
       "      <td>5172</td>\n",
       "    </tr>\n",
       "    <tr>\n",
       "      <th>drugtests_other_positive</th>\n",
       "      <td>5172</td>\n",
       "    </tr>\n",
       "    <tr>\n",
       "      <th>percent_days_employed</th>\n",
       "      <td>462</td>\n",
       "    </tr>\n",
       "    <tr>\n",
       "      <th>jobs_per_year</th>\n",
       "      <td>808</td>\n",
       "    </tr>\n",
       "  </tbody>\n",
       "</table>\n",
       "</div>"
      ],
      "text/plain": [
       "                                 0\n",
       "gang_affiliated               3167\n",
       "supervision_risk_score_first   475\n",
       "supervision_level_first       1720\n",
       "prison_offense                3277\n",
       "avg_days_per_drugtest         6103\n",
       "drugtests_thc_positive        5172\n",
       "drugtests_cocaine_positive    5172\n",
       "drugtests_meth_positive       5172\n",
       "drugtests_other_positive      5172\n",
       "percent_days_employed          462\n",
       "jobs_per_year                  808"
      ]
     },
     "execution_count": 8,
     "metadata": {},
     "output_type": "execute_result"
    }
   ],
   "source": [
    "#checking for nulls\n",
    "nulls = pd.DataFrame(recid_df.isna().sum())\n",
    "nulls = nulls.loc[nulls[0] != 0]\n",
    "nulls"
   ]
  },
  {
   "cell_type": "code",
   "execution_count": 9,
   "id": "4cdbfe12-21d5-49df-9069-6847598525ee",
   "metadata": {},
   "outputs": [],
   "source": [
    "# filling in NaNs with 0 for the following columns\n",
    "drug_cols = recid_df.filter(like='drugtest').columns\n",
    "recid_df[drug_cols] = recid_df[drug_cols].fillna(0)"
   ]
  },
  {
   "cell_type": "markdown",
   "id": "059c10e8-64d4-4a31-9d16-7d4e68e88a7e",
   "metadata": {},
   "source": [
    "There are no 0 values so NAN must represent 0\n",
    "- drugtests_thc_positive\n",
    "- drugtests_cocaine_positive\n",
    "- drugtests_meth_positive\n",
    "- drugtests_other_positive\n",
    "- avg_days_per_drugtest "
   ]
  },
  {
   "cell_type": "code",
   "execution_count": 10,
   "id": "990b1e60-c28c-4c37-8eee-3a2475b8bb39",
   "metadata": {},
   "outputs": [],
   "source": [
    "#drop the prison offense with NANs, not enough to justify keeping and what would be best way to immpute if we kept? \n",
    "#12.8% of the data removed\n",
    "\n",
    "recid_df.dropna(subset ='prison_offense', inplace = True)"
   ]
  },
  {
   "cell_type": "code",
   "execution_count": 11,
   "id": "a2b62b00-a81c-46ca-82a5-8d3f33308e10",
   "metadata": {},
   "outputs": [
    {
     "data": {
      "text/plain": [
       "percent_days_employed  employment_exempt\n",
       "0.000000               False                0.277015\n",
       "1.000000               False                0.184857\n",
       "0.000000               True                 0.044317\n",
       "1.000000               True                 0.020239\n",
       "0.500000               False                0.000497\n",
       "                                              ...   \n",
       "0.420485               False                0.000045\n",
       "0.420502               False                0.000045\n",
       "0.420945               False                0.000045\n",
       "0.421209               False                0.000045\n",
       "0.629335               True                 0.000045\n",
       "Length: 9815, dtype: float64"
      ]
     },
     "execution_count": 11,
     "metadata": {},
     "output_type": "execute_result"
    }
   ],
   "source": [
    "#looking at how these two cols are related\n",
    "#maybe clerical differences in how work is measured. When looking at distribution we notice high vals of 0% and 1%\n",
    "\n",
    "employ_cols = ['percent_days_employed','employment_exempt']\n",
    "recid_df[employ_cols].value_counts(normalize = True)"
   ]
  },
  {
   "cell_type": "code",
   "execution_count": 12,
   "id": "4416b617-c7ed-47e5-bcfc-1af4eb6d9520",
   "metadata": {},
   "outputs": [],
   "source": [
    "#drop jobs_per_year since there is a relationship to percent days employed, a better metric of employement would be percent_days regardless\n",
    "recid_df.drop(columns = 'jobs_per_year',inplace = True)\n",
    "\n",
    "#percent_days_employed is 2% of the data and would be difficult to impute since its a continuous variable\n",
    "recid_df.dropna(subset = ['percent_days_employed'],inplace = True)"
   ]
  },
  {
   "cell_type": "code",
   "execution_count": 13,
   "id": "3cb5cd09-c539-4b34-ae32-032fea1da440",
   "metadata": {},
   "outputs": [
    {
     "data": {
      "text/plain": [
       "1    0.697009\n",
       "0    0.302991\n",
       "Name: training_sample, dtype: float64"
      ]
     },
     "execution_count": 13,
     "metadata": {},
     "output_type": "execute_result"
    }
   ],
   "source": [
    "# because we dropped rows, just checking that training and test still have a 70-30 split\n",
    "recid_df['training_sample'].value_counts(normalize=True)"
   ]
  },
  {
   "cell_type": "markdown",
   "id": "e59ff228-c73c-4d59-878f-92523c287c4c",
   "metadata": {},
   "source": [
    "#### Looking at distribution of cols with Nulls to decide how to handle"
   ]
  },
  {
   "cell_type": "code",
   "execution_count": 14,
   "id": "95c5a376-52d8-4d86-a339-2e281bc42b44",
   "metadata": {},
   "outputs": [
    {
     "data": {
      "image/png": "[encoded data removed]",
      "text/plain": [
       "<Figure size 1000x400 with 2 Axes>"
      ]
     },
     "metadata": {},
     "output_type": "display_data"
    }
   ],
   "source": [
    "#create subplots\n",
    "fig, ax = plt.subplots(1,2,figsize = (10,4))\n",
    "\n",
    "sns.histplot(data=recid_df,x='avg_days_per_drugtest', ax=ax[0])\n",
    "sns.histplot(data=recid_df,x='supervision_level_first', ax=ax[1]);"
   ]
  },
  {
   "cell_type": "code",
   "execution_count": 15,
   "id": "e67e3735-3ed5-4cf2-8f42-30211bf99b5a",
   "metadata": {},
   "outputs": [
    {
     "data": {
      "image/png": "[encoded data removed]",
      "text/plain": [
       "<Figure size 1000x400 with 2 Axes>"
      ]
     },
     "metadata": {},
     "output_type": "display_data"
    }
   ],
   "source": [
    "fig, ax = plt.subplots(1,2,figsize = (10,4))\n",
    "\n",
    "sns.histplot(data=recid_df,x='avg_days_per_drugtest', ax=ax[0])\n",
    "sns.histplot(data=recid_df,x='percent_days_employed', ax=ax[1]);"
   ]
  },
  {
   "cell_type": "code",
   "execution_count": 16,
   "id": "5b3a63af-529b-43b2-b6d3-ad5d7455364a",
   "metadata": {},
   "outputs": [
    {
     "data": {
      "image/png": "[encoded data removed]",
      "text/plain": [
       "<Figure size 1200x800 with 4 Axes>"
      ]
     },
     "metadata": {},
     "output_type": "display_data"
    }
   ],
   "source": [
    "fig, ax = plt.subplots(2,2,figsize = (12,8))\n",
    "\n",
    "sns.histplot(data=recid_df,x='drugtests_thc_positive', ax=ax[0,0])\n",
    "sns.histplot(data=recid_df,x='drugtests_cocaine_positive', ax=ax[0,1])\n",
    "sns.histplot(data=recid_df,x='drugtests_meth_positive', ax=ax[1,0])\n",
    "sns.histplot(data=recid_df,x='drugtests_other_positive', ax=ax[1,1]);"
   ]
  },
  {
   "cell_type": "code",
   "execution_count": 17,
   "id": "3e44d468-ea78-411f-93b6-a55635937899",
   "metadata": {},
   "outputs": [
    {
     "data": {
      "image/png": "[encoded data removed]",
      "text/plain": [
       "<Figure size 640x480 with 1 Axes>"
      ]
     },
     "metadata": {},
     "output_type": "display_data"
    }
   ],
   "source": [
    "sns.histplot(data=recid_df,x='prison_offense');"
   ]
  },
  {
   "cell_type": "code",
   "execution_count": 18,
   "id": "d5de6087-587c-474c-b1c0-ebb835101a2c",
   "metadata": {
    "tags": []
   },
   "outputs": [],
   "source": [
    "# objects_df = recid_df.select_dtypes(include = 'object')\n",
    "# numeric_df = recid_df.select_dtypes(include = ['float64','int64'])\n",
    "# bool_df = recid_df.select_dtypes(include = ['bool'])"
   ]
  },
  {
   "cell_type": "code",
   "execution_count": 19,
   "id": "4b0286c4-260c-4e7e-9b80-42beb44014ea",
   "metadata": {
    "tags": []
   },
   "outputs": [],
   "source": [
    "# print(objects_df.shape)\n",
    "# print(numeric_df.shape)\n",
    "# print(bool_df.shape)"
   ]
  },
  {
   "cell_type": "markdown",
   "id": "93520c8d-c49b-42b4-a2b4-326770f44f14",
   "metadata": {},
   "source": [
    "## Binary Columns to Numeric"
   ]
  },
  {
   "cell_type": "code",
   "execution_count": 20,
   "id": "14bf3a05-6769-475b-b8fd-38b9b5b6188b",
   "metadata": {},
   "outputs": [],
   "source": [
    "#checking for nulls - no nulls!\n",
    "# bool_df.isna().sum()"
   ]
  },
  {
   "cell_type": "code",
   "execution_count": 21,
   "id": "f4d8401a-72fc-43e8-8d21-b0eaea6f8208",
   "metadata": {},
   "outputs": [],
   "source": [
    "#converting booleans to binary values true 1- false 0\n",
    "for cols in recid_df.select_dtypes(include = ['bool']).columns:\n",
    "    recid_df[cols].replace({True: 1, False: 0}, inplace=True)"
   ]
  },
  {
   "cell_type": "code",
   "execution_count": 22,
   "id": "4d6dc9d9-38e6-4995-9818-1c4dcb053d54",
   "metadata": {},
   "outputs": [],
   "source": [
    "#convert M to 1 and F to 0  for gender\n",
    "recid_df['gender'].replace({'M': 1, 'F': 0}, inplace=True)"
   ]
  },
  {
   "cell_type": "code",
   "execution_count": 23,
   "id": "4185063e-cb02-4ae4-961a-73deffb1f43e",
   "metadata": {},
   "outputs": [],
   "source": [
    "#convert BLACK to 1 and WHITE to 0  for race\n",
    "recid_df['race'].replace({'BLACK': 1, 'WHITE': 0}, inplace=True)"
   ]
  },
  {
   "cell_type": "markdown",
   "id": "b4cb441c-603c-493e-95b0-a013e5f3aca4",
   "metadata": {},
   "source": [
    "#### Converting 'Dependents' from ordinal to Binary/Numeric"
   ]
  },
  {
   "cell_type": "code",
   "execution_count": 24,
   "id": "69710052-e041-4d8a-8968-4a14eec7cc68",
   "metadata": {},
   "outputs": [],
   "source": [
    "#converting '2' and '3 or more' to 1\n",
    "recid_df['dependents'].replace({'0': 0, '1': 1, '2': 1, '3 or more': 1}, inplace=True)\n",
    "recid_df.rename({'dependents': 'has_dependents'}, inplace=True)"
   ]
  },
  {
   "cell_type": "code",
   "execution_count": 25,
   "id": "9fa26bac-1de6-461c-85a0-3d6173f034be",
   "metadata": {},
   "outputs": [
    {
     "data": {
      "text/html": [
       "<div>\n",
       "<style scoped>\n",
       "    .dataframe tbody tr th:only-of-type {\n",
       "        vertical-align: middle;\n",
       "    }\n",
       "\n",
       "    .dataframe tbody tr th {\n",
       "        vertical-align: top;\n",
       "    }\n",
       "\n",
       "    .dataframe thead th {\n",
       "        text-align: right;\n",
       "    }\n",
       "</style>\n",
       "<table border=\"1\" class=\"dataframe\">\n",
       "  <thead>\n",
       "    <tr style=\"text-align: right;\">\n",
       "      <th></th>\n",
       "      <th>id</th>\n",
       "      <th>gender</th>\n",
       "      <th>race</th>\n",
       "      <th>age_at_release</th>\n",
       "      <th>residence_puma</th>\n",
       "      <th>gang_affiliated</th>\n",
       "      <th>supervision_risk_score_first</th>\n",
       "      <th>supervision_level_first</th>\n",
       "      <th>education_level</th>\n",
       "      <th>dependents</th>\n",
       "      <th>...</th>\n",
       "      <th>drugtests_cocaine_positive</th>\n",
       "      <th>drugtests_meth_positive</th>\n",
       "      <th>drugtests_other_positive</th>\n",
       "      <th>percent_days_employed</th>\n",
       "      <th>employment_exempt</th>\n",
       "      <th>recidivism_within_3years</th>\n",
       "      <th>recidivism_arrest_year1</th>\n",
       "      <th>recidivism_arrest_year2</th>\n",
       "      <th>recidivism_arrest_year3</th>\n",
       "      <th>training_sample</th>\n",
       "    </tr>\n",
       "  </thead>\n",
       "  <tbody>\n",
       "    <tr>\n",
       "      <th>0</th>\n",
       "      <td>1</td>\n",
       "      <td>1</td>\n",
       "      <td>1</td>\n",
       "      <td>43-47</td>\n",
       "      <td>16</td>\n",
       "      <td>False</td>\n",
       "      <td>3.0</td>\n",
       "      <td>Standard</td>\n",
       "      <td>At least some college</td>\n",
       "      <td>1</td>\n",
       "      <td>...</td>\n",
       "      <td>0.0</td>\n",
       "      <td>0.000000</td>\n",
       "      <td>0.0</td>\n",
       "      <td>0.488562</td>\n",
       "      <td>0</td>\n",
       "      <td>0</td>\n",
       "      <td>0</td>\n",
       "      <td>0</td>\n",
       "      <td>0</td>\n",
       "      <td>1</td>\n",
       "    </tr>\n",
       "    <tr>\n",
       "      <th>1</th>\n",
       "      <td>2</td>\n",
       "      <td>1</td>\n",
       "      <td>1</td>\n",
       "      <td>33-37</td>\n",
       "      <td>16</td>\n",
       "      <td>False</td>\n",
       "      <td>6.0</td>\n",
       "      <td>Specialized</td>\n",
       "      <td>Less than HS diploma</td>\n",
       "      <td>1</td>\n",
       "      <td>...</td>\n",
       "      <td>0.0</td>\n",
       "      <td>0.000000</td>\n",
       "      <td>0.0</td>\n",
       "      <td>0.425234</td>\n",
       "      <td>0</td>\n",
       "      <td>1</td>\n",
       "      <td>0</td>\n",
       "      <td>0</td>\n",
       "      <td>1</td>\n",
       "      <td>1</td>\n",
       "    </tr>\n",
       "    <tr>\n",
       "      <th>2</th>\n",
       "      <td>3</td>\n",
       "      <td>1</td>\n",
       "      <td>1</td>\n",
       "      <td>48 or older</td>\n",
       "      <td>24</td>\n",
       "      <td>False</td>\n",
       "      <td>7.0</td>\n",
       "      <td>High</td>\n",
       "      <td>At least some college</td>\n",
       "      <td>1</td>\n",
       "      <td>...</td>\n",
       "      <td>0.0</td>\n",
       "      <td>0.166667</td>\n",
       "      <td>0.0</td>\n",
       "      <td>0.000000</td>\n",
       "      <td>0</td>\n",
       "      <td>1</td>\n",
       "      <td>0</td>\n",
       "      <td>1</td>\n",
       "      <td>0</td>\n",
       "      <td>1</td>\n",
       "    </tr>\n",
       "    <tr>\n",
       "      <th>3</th>\n",
       "      <td>4</td>\n",
       "      <td>1</td>\n",
       "      <td>0</td>\n",
       "      <td>38-42</td>\n",
       "      <td>16</td>\n",
       "      <td>False</td>\n",
       "      <td>7.0</td>\n",
       "      <td>High</td>\n",
       "      <td>Less than HS diploma</td>\n",
       "      <td>1</td>\n",
       "      <td>...</td>\n",
       "      <td>0.0</td>\n",
       "      <td>0.000000</td>\n",
       "      <td>0.0</td>\n",
       "      <td>1.000000</td>\n",
       "      <td>0</td>\n",
       "      <td>0</td>\n",
       "      <td>0</td>\n",
       "      <td>0</td>\n",
       "      <td>0</td>\n",
       "      <td>1</td>\n",
       "    </tr>\n",
       "    <tr>\n",
       "      <th>4</th>\n",
       "      <td>5</td>\n",
       "      <td>1</td>\n",
       "      <td>0</td>\n",
       "      <td>33-37</td>\n",
       "      <td>16</td>\n",
       "      <td>False</td>\n",
       "      <td>4.0</td>\n",
       "      <td>Specialized</td>\n",
       "      <td>Less than HS diploma</td>\n",
       "      <td>1</td>\n",
       "      <td>...</td>\n",
       "      <td>0.0</td>\n",
       "      <td>0.058824</td>\n",
       "      <td>0.0</td>\n",
       "      <td>0.203562</td>\n",
       "      <td>0</td>\n",
       "      <td>1</td>\n",
       "      <td>1</td>\n",
       "      <td>0</td>\n",
       "      <td>0</td>\n",
       "      <td>1</td>\n",
       "    </tr>\n",
       "  </tbody>\n",
       "</table>\n",
       "<p>5 rows × 53 columns</p>\n",
       "</div>"
      ],
      "text/plain": [
       "   id  gender  race age_at_release  residence_puma gang_affiliated  \\\n",
       "0   1       1     1          43-47              16           False   \n",
       "1   2       1     1          33-37              16           False   \n",
       "2   3       1     1    48 or older              24           False   \n",
       "3   4       1     0          38-42              16           False   \n",
       "4   5       1     0          33-37              16           False   \n",
       "\n",
       "   supervision_risk_score_first supervision_level_first  \\\n",
       "0                           3.0                Standard   \n",
       "1                           6.0             Specialized   \n",
       "2                           7.0                    High   \n",
       "3                           7.0                    High   \n",
       "4                           4.0             Specialized   \n",
       "\n",
       "         education_level  dependents  ... drugtests_cocaine_positive  \\\n",
       "0  At least some college           1  ...                        0.0   \n",
       "1   Less than HS diploma           1  ...                        0.0   \n",
       "2  At least some college           1  ...                        0.0   \n",
       "3   Less than HS diploma           1  ...                        0.0   \n",
       "4   Less than HS diploma           1  ...                        0.0   \n",
       "\n",
       "  drugtests_meth_positive drugtests_other_positive percent_days_employed  \\\n",
       "0                0.000000                      0.0              0.488562   \n",
       "1                0.000000                      0.0              0.425234   \n",
       "2                0.166667                      0.0              0.000000   \n",
       "3                0.000000                      0.0              1.000000   \n",
       "4                0.058824                      0.0              0.203562   \n",
       "\n",
       "  employment_exempt recidivism_within_3years recidivism_arrest_year1  \\\n",
       "0                 0                        0                       0   \n",
       "1                 0                        1                       0   \n",
       "2                 0                        1                       0   \n",
       "3                 0                        0                       0   \n",
       "4                 0                        1                       1   \n",
       "\n",
       "  recidivism_arrest_year2  recidivism_arrest_year3  training_sample  \n",
       "0                       0                        0                1  \n",
       "1                       0                        1                1  \n",
       "2                       1                        0                1  \n",
       "3                       0                        0                1  \n",
       "4                       0                        0                1  \n",
       "\n",
       "[5 rows x 53 columns]"
      ]
     },
     "execution_count": 25,
     "metadata": {},
     "output_type": "execute_result"
    }
   ],
   "source": [
    "recid_df.head()"
   ]
  },
  {
   "cell_type": "markdown",
   "id": "d24e9b3c-4daa-4e05-ad67-616d5a275941",
   "metadata": {},
   "source": [
    "## Train and Test Split"
   ]
  },
  {
   "cell_type": "code",
   "execution_count": 26,
   "id": "26070d44-8f82-461a-b356-b4332a78259d",
   "metadata": {},
   "outputs": [
    {
     "data": {
      "text/plain": [
       "1    0.697009\n",
       "0    0.302991\n",
       "Name: training_sample, dtype: float64"
      ]
     },
     "execution_count": 26,
     "metadata": {},
     "output_type": "execute_result"
    }
   ],
   "source": [
    "# the data was already split into train_test_split, confirming it's still a 70-30 split\n",
    "recid_df['training_sample'].value_counts(normalize=True)"
   ]
  },
  {
   "cell_type": "code",
   "execution_count": 27,
   "id": "8df07587-e4ef-495b-b578-7ccbf380dd65",
   "metadata": {},
   "outputs": [],
   "source": [
    "train = recid_df.loc[recid_df['training_sample'] == 1]\n",
    "test = recid_df.loc[recid_df['training_sample'] == 0]"
   ]
  },
  {
   "cell_type": "code",
   "execution_count": 28,
   "id": "1244d61a-273e-4afe-b996-419a6805973c",
   "metadata": {},
   "outputs": [
    {
     "data": {
      "text/plain": [
       "(15429, 53)"
      ]
     },
     "execution_count": 28,
     "metadata": {},
     "output_type": "execute_result"
    }
   ],
   "source": [
    "train.shape"
   ]
  },
  {
   "cell_type": "code",
   "execution_count": 29,
   "id": "f908eb7b-d97d-49a3-bac1-36082d147ad7",
   "metadata": {},
   "outputs": [
    {
     "data": {
      "text/html": [
       "<div>\n",
       "<style scoped>\n",
       "    .dataframe tbody tr th:only-of-type {\n",
       "        vertical-align: middle;\n",
       "    }\n",
       "\n",
       "    .dataframe tbody tr th {\n",
       "        vertical-align: top;\n",
       "    }\n",
       "\n",
       "    .dataframe thead th {\n",
       "        text-align: right;\n",
       "    }\n",
       "</style>\n",
       "<table border=\"1\" class=\"dataframe\">\n",
       "  <thead>\n",
       "    <tr style=\"text-align: right;\">\n",
       "      <th></th>\n",
       "      <th>id</th>\n",
       "      <th>gender</th>\n",
       "      <th>race</th>\n",
       "      <th>age_at_release</th>\n",
       "      <th>residence_puma</th>\n",
       "      <th>gang_affiliated</th>\n",
       "      <th>supervision_risk_score_first</th>\n",
       "      <th>supervision_level_first</th>\n",
       "      <th>education_level</th>\n",
       "      <th>dependents</th>\n",
       "      <th>...</th>\n",
       "      <th>drugtests_cocaine_positive</th>\n",
       "      <th>drugtests_meth_positive</th>\n",
       "      <th>drugtests_other_positive</th>\n",
       "      <th>percent_days_employed</th>\n",
       "      <th>employment_exempt</th>\n",
       "      <th>recidivism_within_3years</th>\n",
       "      <th>recidivism_arrest_year1</th>\n",
       "      <th>recidivism_arrest_year2</th>\n",
       "      <th>recidivism_arrest_year3</th>\n",
       "      <th>training_sample</th>\n",
       "    </tr>\n",
       "  </thead>\n",
       "  <tbody>\n",
       "    <tr>\n",
       "      <th>0</th>\n",
       "      <td>1</td>\n",
       "      <td>1</td>\n",
       "      <td>1</td>\n",
       "      <td>43-47</td>\n",
       "      <td>16</td>\n",
       "      <td>False</td>\n",
       "      <td>3.0</td>\n",
       "      <td>Standard</td>\n",
       "      <td>At least some college</td>\n",
       "      <td>1</td>\n",
       "      <td>...</td>\n",
       "      <td>0.0</td>\n",
       "      <td>0.0</td>\n",
       "      <td>0.0</td>\n",
       "      <td>0.488562</td>\n",
       "      <td>0</td>\n",
       "      <td>0</td>\n",
       "      <td>0</td>\n",
       "      <td>0</td>\n",
       "      <td>0</td>\n",
       "      <td>1</td>\n",
       "    </tr>\n",
       "    <tr>\n",
       "      <th>1</th>\n",
       "      <td>2</td>\n",
       "      <td>1</td>\n",
       "      <td>1</td>\n",
       "      <td>33-37</td>\n",
       "      <td>16</td>\n",
       "      <td>False</td>\n",
       "      <td>6.0</td>\n",
       "      <td>Specialized</td>\n",
       "      <td>Less than HS diploma</td>\n",
       "      <td>1</td>\n",
       "      <td>...</td>\n",
       "      <td>0.0</td>\n",
       "      <td>0.0</td>\n",
       "      <td>0.0</td>\n",
       "      <td>0.425234</td>\n",
       "      <td>0</td>\n",
       "      <td>1</td>\n",
       "      <td>0</td>\n",
       "      <td>0</td>\n",
       "      <td>1</td>\n",
       "      <td>1</td>\n",
       "    </tr>\n",
       "  </tbody>\n",
       "</table>\n",
       "<p>2 rows × 53 columns</p>\n",
       "</div>"
      ],
      "text/plain": [
       "   id  gender  race age_at_release  residence_puma gang_affiliated  \\\n",
       "0   1       1     1          43-47              16           False   \n",
       "1   2       1     1          33-37              16           False   \n",
       "\n",
       "   supervision_risk_score_first supervision_level_first  \\\n",
       "0                           3.0                Standard   \n",
       "1                           6.0             Specialized   \n",
       "\n",
       "         education_level  dependents  ... drugtests_cocaine_positive  \\\n",
       "0  At least some college           1  ...                        0.0   \n",
       "1   Less than HS diploma           1  ...                        0.0   \n",
       "\n",
       "  drugtests_meth_positive drugtests_other_positive percent_days_employed  \\\n",
       "0                     0.0                      0.0              0.488562   \n",
       "1                     0.0                      0.0              0.425234   \n",
       "\n",
       "  employment_exempt recidivism_within_3years recidivism_arrest_year1  \\\n",
       "0                 0                        0                       0   \n",
       "1                 0                        1                       0   \n",
       "\n",
       "  recidivism_arrest_year2  recidivism_arrest_year3  training_sample  \n",
       "0                       0                        0                1  \n",
       "1                       0                        1                1  \n",
       "\n",
       "[2 rows x 53 columns]"
      ]
     },
     "execution_count": 29,
     "metadata": {},
     "output_type": "execute_result"
    }
   ],
   "source": [
    "train.head(2)"
   ]
  },
  {
   "cell_type": "code",
   "execution_count": 30,
   "id": "78db30e8-8a30-4105-b063-263b897dba33",
   "metadata": {
    "tags": []
   },
   "outputs": [
    {
     "data": {
      "text/plain": [
       "(6707, 53)"
      ]
     },
     "execution_count": 30,
     "metadata": {},
     "output_type": "execute_result"
    }
   ],
   "source": [
    "test.shape"
   ]
  },
  {
   "cell_type": "code",
   "execution_count": 31,
   "id": "877fedd2-4e6f-48a2-9e32-7e4cede8ec67",
   "metadata": {},
   "outputs": [
    {
     "data": {
      "text/html": [
       "<div>\n",
       "<style scoped>\n",
       "    .dataframe tbody tr th:only-of-type {\n",
       "        vertical-align: middle;\n",
       "    }\n",
       "\n",
       "    .dataframe tbody tr th {\n",
       "        vertical-align: top;\n",
       "    }\n",
       "\n",
       "    .dataframe thead th {\n",
       "        text-align: right;\n",
       "    }\n",
       "</style>\n",
       "<table border=\"1\" class=\"dataframe\">\n",
       "  <thead>\n",
       "    <tr style=\"text-align: right;\">\n",
       "      <th></th>\n",
       "      <th>id</th>\n",
       "      <th>gender</th>\n",
       "      <th>race</th>\n",
       "      <th>age_at_release</th>\n",
       "      <th>residence_puma</th>\n",
       "      <th>gang_affiliated</th>\n",
       "      <th>supervision_risk_score_first</th>\n",
       "      <th>supervision_level_first</th>\n",
       "      <th>education_level</th>\n",
       "      <th>dependents</th>\n",
       "      <th>...</th>\n",
       "      <th>drugtests_cocaine_positive</th>\n",
       "      <th>drugtests_meth_positive</th>\n",
       "      <th>drugtests_other_positive</th>\n",
       "      <th>percent_days_employed</th>\n",
       "      <th>employment_exempt</th>\n",
       "      <th>recidivism_within_3years</th>\n",
       "      <th>recidivism_arrest_year1</th>\n",
       "      <th>recidivism_arrest_year2</th>\n",
       "      <th>recidivism_arrest_year3</th>\n",
       "      <th>training_sample</th>\n",
       "    </tr>\n",
       "  </thead>\n",
       "  <tbody>\n",
       "    <tr>\n",
       "      <th>5</th>\n",
       "      <td>6</td>\n",
       "      <td>1</td>\n",
       "      <td>0</td>\n",
       "      <td>38-42</td>\n",
       "      <td>17</td>\n",
       "      <td>False</td>\n",
       "      <td>5.0</td>\n",
       "      <td>Standard</td>\n",
       "      <td>High School Diploma</td>\n",
       "      <td>0</td>\n",
       "      <td>...</td>\n",
       "      <td>0.0</td>\n",
       "      <td>0.0</td>\n",
       "      <td>0.0</td>\n",
       "      <td>0.674252</td>\n",
       "      <td>0</td>\n",
       "      <td>0</td>\n",
       "      <td>0</td>\n",
       "      <td>0</td>\n",
       "      <td>0</td>\n",
       "      <td>0</td>\n",
       "    </tr>\n",
       "    <tr>\n",
       "      <th>7</th>\n",
       "      <td>8</td>\n",
       "      <td>1</td>\n",
       "      <td>1</td>\n",
       "      <td>38-42</td>\n",
       "      <td>16</td>\n",
       "      <td>False</td>\n",
       "      <td>5.0</td>\n",
       "      <td>High</td>\n",
       "      <td>High School Diploma</td>\n",
       "      <td>1</td>\n",
       "      <td>...</td>\n",
       "      <td>0.0</td>\n",
       "      <td>0.0</td>\n",
       "      <td>0.0</td>\n",
       "      <td>0.469446</td>\n",
       "      <td>0</td>\n",
       "      <td>0</td>\n",
       "      <td>0</td>\n",
       "      <td>0</td>\n",
       "      <td>0</td>\n",
       "      <td>0</td>\n",
       "    </tr>\n",
       "  </tbody>\n",
       "</table>\n",
       "<p>2 rows × 53 columns</p>\n",
       "</div>"
      ],
      "text/plain": [
       "   id  gender  race age_at_release  residence_puma gang_affiliated  \\\n",
       "5   6       1     0          38-42              17           False   \n",
       "7   8       1     1          38-42              16           False   \n",
       "\n",
       "   supervision_risk_score_first supervision_level_first      education_level  \\\n",
       "5                           5.0                Standard  High School Diploma   \n",
       "7                           5.0                    High  High School Diploma   \n",
       "\n",
       "   dependents  ... drugtests_cocaine_positive drugtests_meth_positive  \\\n",
       "5           0  ...                        0.0                     0.0   \n",
       "7           1  ...                        0.0                     0.0   \n",
       "\n",
       "  drugtests_other_positive percent_days_employed employment_exempt  \\\n",
       "5                      0.0              0.674252                 0   \n",
       "7                      0.0              0.469446                 0   \n",
       "\n",
       "  recidivism_within_3years recidivism_arrest_year1 recidivism_arrest_year2  \\\n",
       "5                        0                       0                       0   \n",
       "7                        0                       0                       0   \n",
       "\n",
       "   recidivism_arrest_year3  training_sample  \n",
       "5                        0                0  \n",
       "7                        0                0  \n",
       "\n",
       "[2 rows x 53 columns]"
      ]
     },
     "execution_count": 31,
     "metadata": {},
     "output_type": "execute_result"
    }
   ],
   "source": [
    "test.head(2)"
   ]
  },
  {
   "cell_type": "code",
   "execution_count": 32,
   "id": "bbe1ed22-f154-4915-a45d-aa88739e0b1f",
   "metadata": {},
   "outputs": [],
   "source": [
    "#drop targets & training_sample col from train/test df & reassign to new df\n",
    "X_train_df = train.drop(columns = ['recidivism_within_3years','recidivism_arrest_year1', 'recidivism_arrest_year2', 'recidivism_arrest_year3', 'training_sample'])\n",
    "X_test_df = test.drop(columns = ['recidivism_within_3years','recidivism_arrest_year1', 'recidivism_arrest_year2', 'recidivism_arrest_year3', 'training_sample'])"
   ]
  },
  {
   "cell_type": "code",
   "execution_count": 33,
   "id": "8d65a94e-ceab-4504-b442-5bed82a723d5",
   "metadata": {},
   "outputs": [
    {
     "data": {
      "text/html": [
       "<div>\n",
       "<style scoped>\n",
       "    .dataframe tbody tr th:only-of-type {\n",
       "        vertical-align: middle;\n",
       "    }\n",
       "\n",
       "    .dataframe tbody tr th {\n",
       "        vertical-align: top;\n",
       "    }\n",
       "\n",
       "    .dataframe thead th {\n",
       "        text-align: right;\n",
       "    }\n",
       "</style>\n",
       "<table border=\"1\" class=\"dataframe\">\n",
       "  <thead>\n",
       "    <tr style=\"text-align: right;\">\n",
       "      <th></th>\n",
       "      <th>id</th>\n",
       "      <th>gender</th>\n",
       "      <th>race</th>\n",
       "      <th>age_at_release</th>\n",
       "      <th>residence_puma</th>\n",
       "      <th>gang_affiliated</th>\n",
       "      <th>supervision_risk_score_first</th>\n",
       "      <th>supervision_level_first</th>\n",
       "      <th>education_level</th>\n",
       "      <th>dependents</th>\n",
       "      <th>...</th>\n",
       "      <th>program_attendances</th>\n",
       "      <th>program_unexcusedabsences</th>\n",
       "      <th>residence_changes</th>\n",
       "      <th>avg_days_per_drugtest</th>\n",
       "      <th>drugtests_thc_positive</th>\n",
       "      <th>drugtests_cocaine_positive</th>\n",
       "      <th>drugtests_meth_positive</th>\n",
       "      <th>drugtests_other_positive</th>\n",
       "      <th>percent_days_employed</th>\n",
       "      <th>employment_exempt</th>\n",
       "    </tr>\n",
       "  </thead>\n",
       "  <tbody>\n",
       "    <tr>\n",
       "      <th>0</th>\n",
       "      <td>1</td>\n",
       "      <td>1</td>\n",
       "      <td>1</td>\n",
       "      <td>43-47</td>\n",
       "      <td>16</td>\n",
       "      <td>False</td>\n",
       "      <td>3.0</td>\n",
       "      <td>Standard</td>\n",
       "      <td>At least some college</td>\n",
       "      <td>1</td>\n",
       "      <td>...</td>\n",
       "      <td>6</td>\n",
       "      <td>0</td>\n",
       "      <td>2</td>\n",
       "      <td>612.000000</td>\n",
       "      <td>0.0</td>\n",
       "      <td>0.0</td>\n",
       "      <td>0.0</td>\n",
       "      <td>0.0</td>\n",
       "      <td>0.488562</td>\n",
       "      <td>0</td>\n",
       "    </tr>\n",
       "    <tr>\n",
       "      <th>1</th>\n",
       "      <td>2</td>\n",
       "      <td>1</td>\n",
       "      <td>1</td>\n",
       "      <td>33-37</td>\n",
       "      <td>16</td>\n",
       "      <td>False</td>\n",
       "      <td>6.0</td>\n",
       "      <td>Specialized</td>\n",
       "      <td>Less than HS diploma</td>\n",
       "      <td>1</td>\n",
       "      <td>...</td>\n",
       "      <td>0</td>\n",
       "      <td>0</td>\n",
       "      <td>2</td>\n",
       "      <td>35.666667</td>\n",
       "      <td>0.0</td>\n",
       "      <td>0.0</td>\n",
       "      <td>0.0</td>\n",
       "      <td>0.0</td>\n",
       "      <td>0.425234</td>\n",
       "      <td>0</td>\n",
       "    </tr>\n",
       "  </tbody>\n",
       "</table>\n",
       "<p>2 rows × 48 columns</p>\n",
       "</div>"
      ],
      "text/plain": [
       "   id  gender  race age_at_release  residence_puma gang_affiliated  \\\n",
       "0   1       1     1          43-47              16           False   \n",
       "1   2       1     1          33-37              16           False   \n",
       "\n",
       "   supervision_risk_score_first supervision_level_first  \\\n",
       "0                           3.0                Standard   \n",
       "1                           6.0             Specialized   \n",
       "\n",
       "         education_level  dependents  ... program_attendances  \\\n",
       "0  At least some college           1  ...                   6   \n",
       "1   Less than HS diploma           1  ...                   0   \n",
       "\n",
       "  program_unexcusedabsences residence_changes avg_days_per_drugtest  \\\n",
       "0                         0                 2            612.000000   \n",
       "1                         0                 2             35.666667   \n",
       "\n",
       "  drugtests_thc_positive drugtests_cocaine_positive drugtests_meth_positive  \\\n",
       "0                    0.0                        0.0                     0.0   \n",
       "1                    0.0                        0.0                     0.0   \n",
       "\n",
       "  drugtests_other_positive  percent_days_employed  employment_exempt  \n",
       "0                      0.0               0.488562                  0  \n",
       "1                      0.0               0.425234                  0  \n",
       "\n",
       "[2 rows x 48 columns]"
      ]
     },
     "execution_count": 33,
     "metadata": {},
     "output_type": "execute_result"
    }
   ],
   "source": [
    "X_train_df.head(2)"
   ]
  },
  {
   "cell_type": "raw",
   "id": "fd0f6f04-7c0e-429c-bdf6-77bfb44b094e",
   "metadata": {},
   "source": [
    "X_test_df.head(2)"
   ]
  },
  {
   "cell_type": "code",
   "execution_count": 34,
   "id": "f57ccd3e-9b39-449b-be3d-0cf5103425f6",
   "metadata": {},
   "outputs": [],
   "source": [
    "y_train = train[['id','recidivism_within_3years']]\n",
    "y_test = test[['id','recidivism_within_3years']]\n",
    "\n",
    "\n",
    "#if we want to use the recidivism_arrest_yearX for a separate model\n",
    "y_train2 = train[['id', 'recidivism_arrest_year1', 'recidivism_arrest_year2', 'recidivism_arrest_year3']]\n",
    "y_test2 = test[['id','recidivism_arrest_year1', 'recidivism_arrest_year2', 'recidivism_arrest_year3']]"
   ]
  },
  {
   "cell_type": "markdown",
   "id": "feef29d9-1c75-4236-8531-8fd5420e0f32",
   "metadata": {},
   "source": [
    "## Impute Missing Values"
   ]
  },
  {
   "cell_type": "markdown",
   "id": "969715d1-86b4-4434-9209-1859b1cb5028",
   "metadata": {},
   "source": [
    "## Train"
   ]
  },
  {
   "cell_type": "markdown",
   "id": "35e8ac55-238b-4877-bd3b-35203a08c0da",
   "metadata": {},
   "source": [
    "### Impute supervision_risk_score_first (mean) & supervision_level_first (mode)"
   ]
  },
  {
   "cell_type": "code",
   "execution_count": 35,
   "id": "6a909089-eef3-4abe-8930-29eb42c57e73",
   "metadata": {},
   "outputs": [],
   "source": [
    "# impute 'supervision_risk_score_first' with mean and 'supervision_level_first' with most frequent using a transformer\n",
    "\n",
    "imputer1 = SimpleImputer(strategy='mean')\n",
    "imputer2 = SimpleImputer(strategy=\"most_frequent\")\n",
    "\n",
    "imputer = make_column_transformer((imputer1,['supervision_risk_score_first']),\n",
    "                                  (imputer2,['supervision_level_first']),\n",
    "                                  remainder='passthrough',\n",
    "                                  verbose_feature_names_out=False)"
   ]
  },
  {
   "cell_type": "code",
   "execution_count": 36,
   "id": "d070edb0-ff07-4408-9912-ecf3bd3f9379",
   "metadata": {},
   "outputs": [
    {
     "data": {
      "text/plain": [
       "array([[3.0, 'Standard', 1, ..., 0.0, 0.488562092, 0],\n",
       "       [6.0, 'Specialized', 2, ..., 0.0, 0.425233645, 0],\n",
       "       [7.0, 'High', 3, ..., 0.0, 0.0, 0],\n",
       "       ...,\n",
       "       [3.0, 'Standard', 26731, ..., 0.0, 1.0, 0],\n",
       "       [4.0, 'Standard', 26734, ..., 0.0, 0.574742268, 0],\n",
       "       [3.0, 'Standard', 26743, ..., 0.0, 0.181518152, 0]], dtype=object)"
      ]
     },
     "execution_count": 36,
     "metadata": {},
     "output_type": "execute_result"
    }
   ],
   "source": [
    "#fit & transform train\n",
    "imputer.fit_transform(X_train_df)"
   ]
  },
  {
   "cell_type": "code",
   "execution_count": 37,
   "id": "acc410c7-9ff7-4329-80a7-b607d6b2a461",
   "metadata": {},
   "outputs": [],
   "source": [
    "#convert to df\n",
    "X_train_df_imp = pd.DataFrame(imputer.fit_transform(X_train_df), columns= imputer.get_feature_names_out(), index=X_train_df.index)"
   ]
  },
  {
   "cell_type": "code",
   "execution_count": 38,
   "id": "aa525ac4-9db4-4739-9a87-48621a3d5a91",
   "metadata": {},
   "outputs": [
    {
     "data": {
      "text/plain": [
       "array([[5.0, 'Standard', 6, ..., 0.0, 0.674252002, 0],\n",
       "       [5.0, 'High', 8, ..., 0.0, 0.469446441, 0],\n",
       "       [5.0, 'Specialized', 12, ..., 0.0, 0.0, 1],\n",
       "       ...,\n",
       "       [6.0, 'Standard', 26680, ..., 0.0, 0.163793103, 0],\n",
       "       [7.0, 'Standard', 26681, ..., 0.13333334, 0.344155844, 0],\n",
       "       [8.0, 'Standard', 26701, ..., 0.0, 0.0, 0]], dtype=object)"
      ]
     },
     "execution_count": 38,
     "metadata": {},
     "output_type": "execute_result"
    }
   ],
   "source": [
    "#apply transformer to test df\n",
    "imputer.fit_transform(X_test_df)"
   ]
  },
  {
   "cell_type": "code",
   "execution_count": 39,
   "id": "5ea88e7f-a99f-4eec-89e1-60f22a404e66",
   "metadata": {},
   "outputs": [
    {
     "data": {
      "text/html": [
       "<div>\n",
       "<style scoped>\n",
       "    .dataframe tbody tr th:only-of-type {\n",
       "        vertical-align: middle;\n",
       "    }\n",
       "\n",
       "    .dataframe tbody tr th {\n",
       "        vertical-align: top;\n",
       "    }\n",
       "\n",
       "    .dataframe thead th {\n",
       "        text-align: right;\n",
       "    }\n",
       "</style>\n",
       "<table border=\"1\" class=\"dataframe\">\n",
       "  <thead>\n",
       "    <tr style=\"text-align: right;\">\n",
       "      <th></th>\n",
       "      <th>supervision_risk_score_first</th>\n",
       "      <th>supervision_level_first</th>\n",
       "      <th>id</th>\n",
       "      <th>gender</th>\n",
       "      <th>race</th>\n",
       "      <th>age_at_release</th>\n",
       "      <th>residence_puma</th>\n",
       "      <th>gang_affiliated</th>\n",
       "      <th>education_level</th>\n",
       "      <th>dependents</th>\n",
       "      <th>...</th>\n",
       "      <th>program_attendances</th>\n",
       "      <th>program_unexcusedabsences</th>\n",
       "      <th>residence_changes</th>\n",
       "      <th>avg_days_per_drugtest</th>\n",
       "      <th>drugtests_thc_positive</th>\n",
       "      <th>drugtests_cocaine_positive</th>\n",
       "      <th>drugtests_meth_positive</th>\n",
       "      <th>drugtests_other_positive</th>\n",
       "      <th>percent_days_employed</th>\n",
       "      <th>employment_exempt</th>\n",
       "    </tr>\n",
       "  </thead>\n",
       "  <tbody>\n",
       "    <tr>\n",
       "      <th>5</th>\n",
       "      <td>5.0</td>\n",
       "      <td>Standard</td>\n",
       "      <td>6</td>\n",
       "      <td>1</td>\n",
       "      <td>0</td>\n",
       "      <td>38-42</td>\n",
       "      <td>17</td>\n",
       "      <td>False</td>\n",
       "      <td>High School Diploma</td>\n",
       "      <td>0</td>\n",
       "      <td>...</td>\n",
       "      <td>0</td>\n",
       "      <td>0</td>\n",
       "      <td>3 or more</td>\n",
       "      <td>474.6</td>\n",
       "      <td>0.0</td>\n",
       "      <td>0.0</td>\n",
       "      <td>0.0</td>\n",
       "      <td>0.0</td>\n",
       "      <td>0.674252</td>\n",
       "      <td>0</td>\n",
       "    </tr>\n",
       "    <tr>\n",
       "      <th>7</th>\n",
       "      <td>5.0</td>\n",
       "      <td>High</td>\n",
       "      <td>8</td>\n",
       "      <td>1</td>\n",
       "      <td>1</td>\n",
       "      <td>38-42</td>\n",
       "      <td>16</td>\n",
       "      <td>False</td>\n",
       "      <td>High School Diploma</td>\n",
       "      <td>1</td>\n",
       "      <td>...</td>\n",
       "      <td>0</td>\n",
       "      <td>0</td>\n",
       "      <td>0</td>\n",
       "      <td>34.775</td>\n",
       "      <td>0.0</td>\n",
       "      <td>0.0</td>\n",
       "      <td>0.0</td>\n",
       "      <td>0.0</td>\n",
       "      <td>0.469446</td>\n",
       "      <td>0</td>\n",
       "    </tr>\n",
       "    <tr>\n",
       "      <th>11</th>\n",
       "      <td>5.0</td>\n",
       "      <td>Specialized</td>\n",
       "      <td>12</td>\n",
       "      <td>1</td>\n",
       "      <td>1</td>\n",
       "      <td>33-37</td>\n",
       "      <td>16</td>\n",
       "      <td>False</td>\n",
       "      <td>High School Diploma</td>\n",
       "      <td>1</td>\n",
       "      <td>...</td>\n",
       "      <td>10 or more</td>\n",
       "      <td>0</td>\n",
       "      <td>0</td>\n",
       "      <td>8.04</td>\n",
       "      <td>0.04</td>\n",
       "      <td>0.0</td>\n",
       "      <td>0.08</td>\n",
       "      <td>0.0</td>\n",
       "      <td>0.0</td>\n",
       "      <td>1</td>\n",
       "    </tr>\n",
       "    <tr>\n",
       "      <th>14</th>\n",
       "      <td>7.0</td>\n",
       "      <td>Standard</td>\n",
       "      <td>15</td>\n",
       "      <td>1</td>\n",
       "      <td>0</td>\n",
       "      <td>33-37</td>\n",
       "      <td>5</td>\n",
       "      <td>False</td>\n",
       "      <td>Less than HS diploma</td>\n",
       "      <td>1</td>\n",
       "      <td>...</td>\n",
       "      <td>6</td>\n",
       "      <td>0</td>\n",
       "      <td>1</td>\n",
       "      <td>98.75</td>\n",
       "      <td>0.0</td>\n",
       "      <td>0.0</td>\n",
       "      <td>0.0</td>\n",
       "      <td>0.0</td>\n",
       "      <td>0.0</td>\n",
       "      <td>1</td>\n",
       "    </tr>\n",
       "    <tr>\n",
       "      <th>22</th>\n",
       "      <td>4.0</td>\n",
       "      <td>Standard</td>\n",
       "      <td>23</td>\n",
       "      <td>0</td>\n",
       "      <td>0</td>\n",
       "      <td>48 or older</td>\n",
       "      <td>5</td>\n",
       "      <td>NaN</td>\n",
       "      <td>High School Diploma</td>\n",
       "      <td>0</td>\n",
       "      <td>...</td>\n",
       "      <td>6</td>\n",
       "      <td>0</td>\n",
       "      <td>0</td>\n",
       "      <td>15.5</td>\n",
       "      <td>0.0</td>\n",
       "      <td>0.0</td>\n",
       "      <td>0.055556</td>\n",
       "      <td>0.0</td>\n",
       "      <td>0.0</td>\n",
       "      <td>0</td>\n",
       "    </tr>\n",
       "  </tbody>\n",
       "</table>\n",
       "<p>5 rows × 48 columns</p>\n",
       "</div>"
      ],
      "text/plain": [
       "   supervision_risk_score_first supervision_level_first  id gender race  \\\n",
       "5                           5.0                Standard   6      1    0   \n",
       "7                           5.0                    High   8      1    1   \n",
       "11                          5.0             Specialized  12      1    1   \n",
       "14                          7.0                Standard  15      1    0   \n",
       "22                          4.0                Standard  23      0    0   \n",
       "\n",
       "   age_at_release residence_puma gang_affiliated       education_level  \\\n",
       "5           38-42             17           False   High School Diploma   \n",
       "7           38-42             16           False   High School Diploma   \n",
       "11          33-37             16           False   High School Diploma   \n",
       "14          33-37              5           False  Less than HS diploma   \n",
       "22    48 or older              5             NaN   High School Diploma   \n",
       "\n",
       "   dependents  ... program_attendances program_unexcusedabsences  \\\n",
       "5           0  ...                   0                         0   \n",
       "7           1  ...                   0                         0   \n",
       "11          1  ...          10 or more                         0   \n",
       "14          1  ...                   6                         0   \n",
       "22          0  ...                   6                         0   \n",
       "\n",
       "   residence_changes avg_days_per_drugtest drugtests_thc_positive  \\\n",
       "5          3 or more                 474.6                    0.0   \n",
       "7                  0                34.775                    0.0   \n",
       "11                 0                  8.04                   0.04   \n",
       "14                 1                 98.75                    0.0   \n",
       "22                 0                  15.5                    0.0   \n",
       "\n",
       "   drugtests_cocaine_positive drugtests_meth_positive  \\\n",
       "5                         0.0                     0.0   \n",
       "7                         0.0                     0.0   \n",
       "11                        0.0                    0.08   \n",
       "14                        0.0                     0.0   \n",
       "22                        0.0                0.055556   \n",
       "\n",
       "   drugtests_other_positive percent_days_employed employment_exempt  \n",
       "5                       0.0              0.674252                 0  \n",
       "7                       0.0              0.469446                 0  \n",
       "11                      0.0                   0.0                 1  \n",
       "14                      0.0                   0.0                 1  \n",
       "22                      0.0                   0.0                 0  \n",
       "\n",
       "[5 rows x 48 columns]"
      ]
     },
     "execution_count": 39,
     "metadata": {},
     "output_type": "execute_result"
    }
   ],
   "source": [
    "X_test_df_imp = pd.DataFrame(imputer.fit_transform(X_test_df), columns= imputer.get_feature_names_out(), index=X_test_df.index)\n",
    "X_test_df_imp.head()"
   ]
  },
  {
   "cell_type": "markdown",
   "id": "126ff019-36dc-44e8-a396-dcfa97494a98",
   "metadata": {},
   "source": [
    "### Encode Categorical Columns\n",
    "Need this done before KNN can happen"
   ]
  },
  {
   "cell_type": "markdown",
   "id": "d87f3dd2-7fa8-471c-9340-8f10f1e2b622",
   "metadata": {
    "jupyter": {
     "source_hidden": true
    },
    "tags": []
   },
   "source": [
    "'gang_affiliated'\n",
    "\n",
    "OHE\n",
    "- 'age_at_release'\n",
    "- 'supervision_level_first'\n",
    "- 'education_level'\n",
    "- 'prison_offense'\n",
    "- 'prison_years'\n",
    "\n",
    "Convert to Numeric - Ordinal\n",
    "- 'prior_arrest_episodes_felony'\n",
    "- 'prior_arrest_episodes_misd'\n",
    "- 'prior_arrest_episodes_violent'\n",
    "- 'prior_arrest_episodes_property'\n",
    "- 'prior_arrest_episodes_drug'\n",
    "- 'prior_arrest_episodes_ppviolationcharges'\n",
    "- 'prior_conviction_episodes_felony'\n",
    "- 'prior_conviction_episodes_misd',\n",
    "- 'prior_conviction_episodes_prop'\n",
    "- 'prior_conviction_episodes_drug',\n",
    "- 'delinquency_reports'\n",
    "- 'program_unexcusedabsences'\n",
    "- 'residence_changes'"
   ]
  },
  {
   "cell_type": "code",
   "execution_count": 40,
   "id": "1fcec8a7-c34f-47c2-a0a7-00834919cfab",
   "metadata": {},
   "outputs": [
    {
     "name": "stdout",
     "output_type": "stream",
     "text": [
      "prior_arrest_episodes_felony ['6' '7' '8' '4' '10 or more' '3' '9' '5' '2' '1' '0']\n",
      "prior_arrest_episodes_misd ['6 or more' '4' '3' '5' '2' '0' '1']\n",
      "prior_arrest_episodes_violent ['1' '3 or more' '0' '2']\n",
      "prior_arrest_episodes_property ['3' '0' '2' '5 or more' '1' '4']\n",
      "prior_arrest_episodes_drug ['3' '2' '1' '5 or more' '0' '4']\n",
      "prior_arrest_episodes_ppviolationcharges ['4' '5 or more' '3' '1' '2' '0']\n",
      "prior_conviction_episodes_felony ['3 or more' '1' '2' '0']\n",
      "prior_conviction_episodes_misd ['3' '4 or more' '2' '0' '1']\n",
      "prior_conviction_episodes_prop ['2' '0' '1' '3 or more']\n",
      "prior_conviction_episodes_drug ['2 or more' '1' '0']\n",
      "delinquency_reports ['0' '4 or more' '3' '2' '1']\n",
      "program_unexcusedabsences ['0' '2' '1' '3 or more']\n",
      "program_attendances ['6' '0' '7' '9' '10 or more' '1' '4' '3' '5' '2' '8']\n",
      "residence_changes ['2' '0' '3 or more' '1']\n"
     ]
    },
    {
     "data": {
      "text/plain": [
       "[None,\n",
       " None,\n",
       " None,\n",
       " None,\n",
       " None,\n",
       " None,\n",
       " None,\n",
       " None,\n",
       " None,\n",
       " None,\n",
       " None,\n",
       " None,\n",
       " None,\n",
       " None]"
      ]
     },
     "execution_count": 40,
     "metadata": {},
     "output_type": "execute_result"
    }
   ],
   "source": [
    "#unique vals for cols to turn to ordinal vals\n",
    "cols_to_numeric = ['prior_arrest_episodes_felony',\n",
    "                   'prior_arrest_episodes_misd',\n",
    "                   'prior_arrest_episodes_violent',\n",
    "                   'prior_arrest_episodes_property',\n",
    "                   'prior_arrest_episodes_drug',\n",
    "                   'prior_arrest_episodes_ppviolationcharges',\n",
    "                   'prior_conviction_episodes_felony',\n",
    "                   'prior_conviction_episodes_misd',\n",
    "                   'prior_conviction_episodes_prop',\n",
    "                   'prior_conviction_episodes_drug',\n",
    "                   'delinquency_reports',\n",
    "                   'program_unexcusedabsences',\n",
    "                   'program_attendances', #DS added this one in\n",
    "                   'residence_changes']  #DS added this one in\n",
    "\n",
    "[print(col, X_train_df_imp[col].unique()) for col in cols_to_numeric]"
   ]
  },
  {
   "cell_type": "code",
   "execution_count": 41,
   "id": "84553ed0-1544-489e-8d8a-2450bfa74d49",
   "metadata": {},
   "outputs": [],
   "source": [
    "# strip 'or more' from all vals from the cols above\n",
    "for c in cols_to_numeric:\n",
    "    X_train_df_imp[c] = X_train_df_imp[c].str.strip(' or more')"
   ]
  },
  {
   "cell_type": "code",
   "execution_count": 42,
   "id": "c1a50909-bd47-492d-a6ea-9fd9b7bab3db",
   "metadata": {},
   "outputs": [
    {
     "data": {
      "text/plain": [
       "array(['6', '4', '3', '5', '2', '0', '1'], dtype=object)"
      ]
     },
     "execution_count": 42,
     "metadata": {},
     "output_type": "execute_result"
    }
   ],
   "source": [
    "#checking that changes were made\n",
    "X_train_df_imp['prior_arrest_episodes_misd'].unique()"
   ]
  },
  {
   "cell_type": "code",
   "execution_count": 43,
   "id": "d2f17e29-8ded-4c3f-a4af-76f9653993d4",
   "metadata": {},
   "outputs": [],
   "source": [
    "#converting these columns to numeric\n",
    "for c in cols_to_numeric:\n",
    "    X_train_df_imp[c] = pd.to_numeric(X_train_df_imp[c])"
   ]
  },
  {
   "cell_type": "code",
   "execution_count": 44,
   "id": "c0939418-2006-4150-b244-b6440d53a55b",
   "metadata": {},
   "outputs": [
    {
     "data": {
      "text/plain": [
       "dtype('int64')"
      ]
     },
     "execution_count": 44,
     "metadata": {},
     "output_type": "execute_result"
    }
   ],
   "source": [
    "#checking that changes were made\n",
    "X_train_df_imp['prior_arrest_episodes_misd'].dtype"
   ]
  },
  {
   "cell_type": "code",
   "execution_count": 45,
   "id": "4013552e-f5d4-4a84-ad62-4e584e0e560b",
   "metadata": {},
   "outputs": [],
   "source": [
    "# strip 'or more' from all vals from the cols above\n",
    "for c in cols_to_numeric:\n",
    "    X_test_df_imp[c] = X_test_df_imp[c].str.strip(' or more')"
   ]
  },
  {
   "cell_type": "code",
   "execution_count": 46,
   "id": "0c70ba72-9311-4d6a-a5fa-c68bb60eb632",
   "metadata": {},
   "outputs": [
    {
     "data": {
      "text/plain": [
       "array(['0', '6', '1', '3', '4', '2', '5'], dtype=object)"
      ]
     },
     "execution_count": 46,
     "metadata": {},
     "output_type": "execute_result"
    }
   ],
   "source": [
    "#checking that changes were made\n",
    "X_test_df_imp['prior_arrest_episodes_misd'].unique()"
   ]
  },
  {
   "cell_type": "code",
   "execution_count": 47,
   "id": "6f7c5a60-bfde-4d48-8989-696fae873f76",
   "metadata": {},
   "outputs": [],
   "source": [
    "#converting these columns to numeric\n",
    "for c in cols_to_numeric:\n",
    "    X_test_df_imp[c] = pd.to_numeric(X_test_df_imp[c])"
   ]
  },
  {
   "cell_type": "code",
   "execution_count": 48,
   "id": "4fe30ef1-0412-4427-b36f-e9035703f804",
   "metadata": {},
   "outputs": [
    {
     "data": {
      "text/plain": [
       "dtype('int64')"
      ]
     },
     "execution_count": 48,
     "metadata": {},
     "output_type": "execute_result"
    }
   ],
   "source": [
    "#checking that changes were made\n",
    "X_test_df_imp['prior_arrest_episodes_misd'].dtype"
   ]
  },
  {
   "cell_type": "markdown",
   "id": "e43f114a-64e1-4cd2-94cd-8d68b02491bf",
   "metadata": {},
   "source": [
    "### Converting select object columns to numeric"
   ]
  },
  {
   "cell_type": "code",
   "execution_count": 49,
   "id": "b9d44d1d-487e-489f-9d8e-12448066cad9",
   "metadata": {},
   "outputs": [
    {
     "data": {
      "text/plain": [
       "Index(['supervision_risk_score_first', 'supervision_level_first', 'id',\n",
       "       'gender', 'race', 'age_at_release', 'residence_puma', 'gang_affiliated',\n",
       "       'education_level', 'dependents', 'prison_offense', 'prison_years',\n",
       "       'prior_arrest_episodes_dvcharges', 'prior_arrest_episodes_guncharges',\n",
       "       'prior_conviction_episodes_viol',\n",
       "       'prior_conviction_episodes_ppviolationcharges',\n",
       "       'prior_conviction_episodes_domesticviolencecharges',\n",
       "       'prior_conviction_episodes_guncharges', 'prior_revocations_parole',\n",
       "       'prior_revocations_probation', 'condition_mh_sa', 'condition_cog_ed',\n",
       "       'condition_other', 'violations_electronicmonitoring',\n",
       "       'violations_instruction', 'violations_failtoreport',\n",
       "       'violations_movewithoutpermission', 'avg_days_per_drugtest',\n",
       "       'drugtests_thc_positive', 'drugtests_cocaine_positive',\n",
       "       'drugtests_meth_positive', 'drugtests_other_positive',\n",
       "       'percent_days_employed', 'employment_exempt'],\n",
       "      dtype='object')"
      ]
     },
     "execution_count": 49,
     "metadata": {},
     "output_type": "execute_result"
    }
   ],
   "source": [
    "X_train_df_imp.select_dtypes(['object']).columns"
   ]
  },
  {
   "cell_type": "code",
   "execution_count": 50,
   "id": "6201abb0-112b-4e79-a0c3-43900be2c1ec",
   "metadata": {},
   "outputs": [],
   "source": [
    "#changing incorrect dtypes for cols from obj to numeric\n",
    "\n",
    "obj_to_numeric = ['gender', 'race', 'dependents', 'prior_arrest_episodes_dvcharges', 'prior_arrest_episodes_guncharges',\n",
    "       'prior_conviction_episodes_viol',\n",
    "       'prior_conviction_episodes_ppviolationcharges',\n",
    "       'prior_conviction_episodes_domesticviolencecharges',\n",
    "       'prior_conviction_episodes_guncharges', 'prior_revocations_parole',\n",
    "       'prior_revocations_probation', 'condition_mh_sa', 'condition_cog_ed',\n",
    "       'condition_other', 'violations_electronicmonitoring',\n",
    "       'violations_instruction', 'violations_failtoreport',\n",
    "       'violations_movewithoutpermission','employment_exempt', 'avg_days_per_drugtest',\n",
    "       'drugtests_thc_positive', 'drugtests_cocaine_positive',\n",
    "       'drugtests_meth_positive', 'drugtests_other_positive',\n",
    "       'percent_days_employed', 'supervision_risk_score_first']"
   ]
  },
  {
   "cell_type": "code",
   "execution_count": 51,
   "id": "aed34303-444f-4dbf-8cf5-a0db7aa9aaf0",
   "metadata": {},
   "outputs": [],
   "source": [
    "#converting these columns to numeric on train/test\n",
    "for c in obj_to_numeric:\n",
    "    X_train_df_imp[c] = pd.to_numeric(X_train_df_imp[c])\n",
    "    \n",
    "for c in obj_to_numeric:\n",
    "    X_test_df_imp[c] = pd.to_numeric(X_test_df_imp[c])"
   ]
  },
  {
   "cell_type": "code",
   "execution_count": 52,
   "id": "1c223044-a1fa-417c-9d9c-b85ac3fac855",
   "metadata": {},
   "outputs": [
    {
     "data": {
      "text/plain": [
       "6.000000     0.149135\n",
       "7.000000     0.143172\n",
       "5.000000     0.130015\n",
       "8.000000     0.114913\n",
       "4.000000     0.107719\n",
       "9.000000     0.100395\n",
       "10.000000    0.088211\n",
       "3.000000     0.080109\n",
       "2.000000     0.044980\n",
       "1.000000     0.021972\n",
       "6.154461     0.019379\n",
       "Name: supervision_risk_score_first, dtype: float64"
      ]
     },
     "execution_count": 52,
     "metadata": {},
     "output_type": "execute_result"
    }
   ],
   "source": [
    "#going to convert into integers based on what the data dict says - should be 1-10 score\n",
    "X_train_df_imp['supervision_risk_score_first'].value_counts(normalize=True)"
   ]
  },
  {
   "cell_type": "code",
   "execution_count": 53,
   "id": "89c4631c-f82f-46f0-8859-140fd491a996",
   "metadata": {
    "tags": []
   },
   "outputs": [],
   "source": [
    "X_train_df_imp['supervision_risk_score_first'] = X_train_df_imp['supervision_risk_score_first'].astype(int)\n",
    "X_test_df_imp['supervision_risk_score_first'] = X_test_df_imp['supervision_risk_score_first'].astype(int)\n",
    "# X_train_df_imp['supervision_risk_score_first'].value_counts(normalize=True)"
   ]
  },
  {
   "cell_type": "markdown",
   "id": "74540761-1c26-4c46-8e42-c856d8a666ae",
   "metadata": {},
   "source": [
    "#### KNN Imputer: Gang Affilated\n",
    "- categorical columns need to be numeric or encoded before imputing\n",
    "- Scale all numerical columns but: residence_puma, id"
   ]
  },
  {
   "cell_type": "code",
   "execution_count": 54,
   "id": "f6a4b75c-0e6e-4d21-8c1c-98a0d788282a",
   "metadata": {},
   "outputs": [
    {
     "data": {
      "text/html": [
       "<div>\n",
       "<style scoped>\n",
       "    .dataframe tbody tr th:only-of-type {\n",
       "        vertical-align: middle;\n",
       "    }\n",
       "\n",
       "    .dataframe tbody tr th {\n",
       "        vertical-align: top;\n",
       "    }\n",
       "\n",
       "    .dataframe thead th {\n",
       "        text-align: right;\n",
       "    }\n",
       "</style>\n",
       "<table border=\"1\" class=\"dataframe\">\n",
       "  <thead>\n",
       "    <tr style=\"text-align: right;\">\n",
       "      <th></th>\n",
       "      <th>supervision_level_first</th>\n",
       "      <th>id</th>\n",
       "      <th>age_at_release</th>\n",
       "      <th>residence_puma</th>\n",
       "      <th>gang_affiliated</th>\n",
       "      <th>education_level</th>\n",
       "      <th>prison_offense</th>\n",
       "      <th>prison_years</th>\n",
       "    </tr>\n",
       "  </thead>\n",
       "  <tbody>\n",
       "    <tr>\n",
       "      <th>0</th>\n",
       "      <td>Standard</td>\n",
       "      <td>1</td>\n",
       "      <td>43-47</td>\n",
       "      <td>16</td>\n",
       "      <td>False</td>\n",
       "      <td>At least some college</td>\n",
       "      <td>Drug</td>\n",
       "      <td>More than 3 years</td>\n",
       "    </tr>\n",
       "    <tr>\n",
       "      <th>1</th>\n",
       "      <td>Specialized</td>\n",
       "      <td>2</td>\n",
       "      <td>33-37</td>\n",
       "      <td>16</td>\n",
       "      <td>False</td>\n",
       "      <td>Less than HS diploma</td>\n",
       "      <td>Violent/Non-Sex</td>\n",
       "      <td>More than 3 years</td>\n",
       "    </tr>\n",
       "    <tr>\n",
       "      <th>2</th>\n",
       "      <td>High</td>\n",
       "      <td>3</td>\n",
       "      <td>48 or older</td>\n",
       "      <td>24</td>\n",
       "      <td>False</td>\n",
       "      <td>At least some college</td>\n",
       "      <td>Drug</td>\n",
       "      <td>1-2 years</td>\n",
       "    </tr>\n",
       "  </tbody>\n",
       "</table>\n",
       "</div>"
      ],
      "text/plain": [
       "  supervision_level_first id age_at_release residence_puma gang_affiliated  \\\n",
       "0                Standard  1          43-47             16           False   \n",
       "1             Specialized  2          33-37             16           False   \n",
       "2                    High  3    48 or older             24           False   \n",
       "\n",
       "         education_level   prison_offense       prison_years  \n",
       "0  At least some college             Drug  More than 3 years  \n",
       "1   Less than HS diploma  Violent/Non-Sex  More than 3 years  \n",
       "2  At least some college             Drug          1-2 years  "
      ]
     },
     "execution_count": 54,
     "metadata": {},
     "output_type": "execute_result"
    }
   ],
   "source": [
    "X_train_df_imp.select_dtypes(['object']).head(3)"
   ]
  },
  {
   "cell_type": "code",
   "execution_count": 55,
   "id": "bc10fc41-faca-47a1-9dae-1a5e74b3499a",
   "metadata": {},
   "outputs": [
    {
     "data": {
      "text/html": [
       "<div>\n",
       "<style scoped>\n",
       "    .dataframe tbody tr th:only-of-type {\n",
       "        vertical-align: middle;\n",
       "    }\n",
       "\n",
       "    .dataframe tbody tr th {\n",
       "        vertical-align: top;\n",
       "    }\n",
       "\n",
       "    .dataframe thead th {\n",
       "        text-align: right;\n",
       "    }\n",
       "</style>\n",
       "<table border=\"1\" class=\"dataframe\">\n",
       "  <thead>\n",
       "    <tr style=\"text-align: right;\">\n",
       "      <th></th>\n",
       "      <th>supervision_level_first</th>\n",
       "      <th>id</th>\n",
       "      <th>age_at_release</th>\n",
       "      <th>residence_puma</th>\n",
       "      <th>gang_affiliated</th>\n",
       "      <th>education_level</th>\n",
       "      <th>prison_offense</th>\n",
       "      <th>prison_years</th>\n",
       "    </tr>\n",
       "  </thead>\n",
       "  <tbody>\n",
       "    <tr>\n",
       "      <th>5</th>\n",
       "      <td>Standard</td>\n",
       "      <td>6</td>\n",
       "      <td>38-42</td>\n",
       "      <td>17</td>\n",
       "      <td>False</td>\n",
       "      <td>High School Diploma</td>\n",
       "      <td>Property</td>\n",
       "      <td>More than 3 years</td>\n",
       "    </tr>\n",
       "    <tr>\n",
       "      <th>7</th>\n",
       "      <td>High</td>\n",
       "      <td>8</td>\n",
       "      <td>38-42</td>\n",
       "      <td>16</td>\n",
       "      <td>False</td>\n",
       "      <td>High School Diploma</td>\n",
       "      <td>Drug</td>\n",
       "      <td>Greater than 2 to 3 years</td>\n",
       "    </tr>\n",
       "    <tr>\n",
       "      <th>11</th>\n",
       "      <td>Specialized</td>\n",
       "      <td>12</td>\n",
       "      <td>33-37</td>\n",
       "      <td>16</td>\n",
       "      <td>False</td>\n",
       "      <td>High School Diploma</td>\n",
       "      <td>Other</td>\n",
       "      <td>1-2 years</td>\n",
       "    </tr>\n",
       "  </tbody>\n",
       "</table>\n",
       "</div>"
      ],
      "text/plain": [
       "   supervision_level_first  id age_at_release residence_puma gang_affiliated  \\\n",
       "5                 Standard   6          38-42             17           False   \n",
       "7                     High   8          38-42             16           False   \n",
       "11             Specialized  12          33-37             16           False   \n",
       "\n",
       "        education_level prison_offense               prison_years  \n",
       "5   High School Diploma       Property          More than 3 years  \n",
       "7   High School Diploma           Drug  Greater than 2 to 3 years  \n",
       "11  High School Diploma          Other                  1-2 years  "
      ]
     },
     "execution_count": 55,
     "metadata": {},
     "output_type": "execute_result"
    }
   ],
   "source": [
    "X_test_df_imp.select_dtypes(['object']).head(3)"
   ]
  },
  {
   "cell_type": "markdown",
   "id": "aff7143a-c19d-4323-b709-524bfa90cb06",
   "metadata": {},
   "source": [
    "### OHE Select Categorical Columns"
   ]
  },
  {
   "cell_type": "code",
   "execution_count": 56,
   "id": "2e012b7b-d00f-42b3-b29a-d0b45323b0d6",
   "metadata": {},
   "outputs": [],
   "source": [
    "#instantiate OHE\n",
    "ohe = OneHotEncoder(sparse=False, drop='if_binary')\n",
    "\n",
    "#list of cols to dummy\n",
    "cols_to_ohe = ['age_at_release',\n",
    "               'supervision_level_first',\n",
    "               'education_level',\n",
    "               'prison_offense',\n",
    "               'prison_years']\n",
    "\n",
    "#create transformer to apply OHE to select ols only\n",
    "transformer = make_column_transformer((ohe, cols_to_ohe),\n",
    "                                      remainder = 'passthrough',\n",
    "                                      verbose_feature_names_out = False)"
   ]
  },
  {
   "cell_type": "code",
   "execution_count": 57,
   "id": "132e4800-8487-4cd9-9a21-a77cddd7fd53",
   "metadata": {},
   "outputs": [
    {
     "data": {
      "text/plain": [
       "array([[0.0, 0.0, 0.0, ..., 0.0, 0.674252002, 0],\n",
       "       [0.0, 0.0, 0.0, ..., 0.0, 0.469446441, 0],\n",
       "       [0.0, 0.0, 0.0, ..., 0.0, 0.0, 1],\n",
       "       ...,\n",
       "       [0.0, 0.0, 1.0, ..., 0.0, 0.163793103, 0],\n",
       "       [0.0, 1.0, 0.0, ..., 0.13333334, 0.344155844, 0],\n",
       "       [0.0, 1.0, 0.0, ..., 0.0, 0.0, 0]], dtype=object)"
      ]
     },
     "execution_count": 57,
     "metadata": {},
     "output_type": "execute_result"
    }
   ],
   "source": [
    "transformer.fit_transform(X_train_df_imp)\n",
    "transformer.transform(X_test_df_imp)"
   ]
  },
  {
   "cell_type": "code",
   "execution_count": 58,
   "id": "670ccf45-1221-4f4f-9a07-93930975f257",
   "metadata": {},
   "outputs": [],
   "source": [
    "#convert to dataframe\n",
    "X_train_encoded = pd.DataFrame(transformer.fit_transform(X_train_df_imp), columns = transformer.get_feature_names_out(), index=X_train_df_imp.index)\n",
    "X_test_encoded = pd.DataFrame(transformer.transform(X_test_df_imp), columns = transformer.get_feature_names_out(), index=X_test_df_imp.index)"
   ]
  },
  {
   "cell_type": "markdown",
   "id": "cfe860c8-0fad-4661-a52f-d32421d56314",
   "metadata": {},
   "source": [
    "### Scale Data"
   ]
  },
  {
   "cell_type": "code",
   "execution_count": 74,
   "id": "91b27286-a939-4a34-86ae-42652737c2d5",
   "metadata": {},
   "outputs": [],
   "source": [
    "#instantiate sc\n",
    "sc = StandardScaler()\n",
    "\n",
    "#list of cols\n",
    "cols_to_scale = X_train_encoded.drop(columns=['id','residence_puma', 'gang_affiliated']).columns.values\n",
    "\n",
    "#create transformer to apply OHE to select ols only\n",
    "scaler = make_column_transformer((sc, cols_to_scale),\n",
    "                                 remainder = 'passthrough',\n",
    "                                 verbose_feature_names_out = False)"
   ]
  },
  {
   "cell_type": "code",
   "execution_count": 76,
   "id": "7067d2ff-51ac-4174-8f87-b442091abca8",
   "metadata": {},
   "outputs": [],
   "source": [
    "#fit transform \n",
    "Z_train = scaler.fit_transform(X_train_encoded)\n",
    "Z_test = scaler.transform(X_test_encoded)\n",
    "\n",
    "#turn into df\n",
    "Z_train = pd.DataFrame(Z_train, columns=scaler.get_feature_names_out(), index=X_train_encoded.index)\n",
    "Z_test = pd.DataFrame(Z_test, columns=scaler.get_feature_names_out(), index=X_test_encoded.index)"
   ]
  },
  {
   "cell_type": "markdown",
   "id": "4960baa4-9c8b-4c10-85a4-b4c8013f7fc1",
   "metadata": {},
   "source": [
    "### KNNImputer for 'gang_affiliated' Nulls"
   ]
  },
  {
   "cell_type": "code",
   "execution_count": 81,
   "id": "2beaff23-5247-4427-b70a-fe4ef528bdc9",
   "metadata": {},
   "outputs": [
    {
     "data": {
      "text/plain": [
       "0"
      ]
     },
     "execution_count": 81,
     "metadata": {},
     "output_type": "execute_result"
    }
   ],
   "source": [
    "#instantiate KNNImputer\n",
    "knn_imp = KNNImputer()\n",
    "\n",
    "X_train_knn = knn_imp.fit_transform(Z_train)\n",
    "\n",
    "#convert to df\n",
    "X_train_knn = pd.DataFrame(X_train_knn,columns = Z_train.columns, index=Z_train.index)\n",
    "\n",
    "#checking that nulls were filled in\n",
    "X_train_knn['gang_affiliated'].isna().sum()"
   ]
  },
  {
   "cell_type": "code",
   "execution_count": 82,
   "id": "3aee10e9-d3f9-4725-880a-23026d38576e",
   "metadata": {},
   "outputs": [
    {
     "data": {
      "text/plain": [
       "0"
      ]
     },
     "execution_count": 82,
     "metadata": {},
     "output_type": "execute_result"
    }
   ],
   "source": [
    "#instantiate KNNImputer\n",
    "knn_imp2 = KNNImputer()\n",
    "\n",
    "X_test_knn = knn_imp2.fit_transform(Z_test)\n",
    "\n",
    "#convert to df\n",
    "X_test_knn = pd.DataFrame(X_test_knn,columns = Z_test.columns, index=Z_test.index)\n",
    "\n",
    "#checking that nulls were filled in\n",
    "X_test_knn['gang_affiliated'].isna().sum()"
   ]
  },
  {
   "cell_type": "code",
   "execution_count": 83,
   "id": "5dea1508-abdc-4122-ae7f-7a4c6a1aafc2",
   "metadata": {},
   "outputs": [],
   "source": [
    "#rounding vals for 'gang_affiliated' col\n",
    "X_train_knn['gang_affiliated'] = X_train_knn[['gang_affiliated']].round()\n",
    "X_test_knn['gang_affiliated'] = X_test_knn[['gang_affiliated']].round()"
   ]
  },
  {
   "cell_type": "code",
   "execution_count": 84,
   "id": "26bf7a01-2212-40a8-94c8-06f4824349c8",
   "metadata": {},
   "outputs": [
    {
     "data": {
      "text/html": [
       "<div>\n",
       "<style scoped>\n",
       "    .dataframe tbody tr th:only-of-type {\n",
       "        vertical-align: middle;\n",
       "    }\n",
       "\n",
       "    .dataframe tbody tr th {\n",
       "        vertical-align: top;\n",
       "    }\n",
       "\n",
       "    .dataframe thead th {\n",
       "        text-align: right;\n",
       "    }\n",
       "</style>\n",
       "<table border=\"1\" class=\"dataframe\">\n",
       "  <thead>\n",
       "    <tr style=\"text-align: right;\">\n",
       "      <th></th>\n",
       "      <th>age_at_release_18-22</th>\n",
       "      <th>age_at_release_23-27</th>\n",
       "      <th>age_at_release_28-32</th>\n",
       "      <th>age_at_release_33-37</th>\n",
       "      <th>age_at_release_38-42</th>\n",
       "      <th>age_at_release_43-47</th>\n",
       "      <th>age_at_release_48 or older</th>\n",
       "      <th>supervision_level_first_High</th>\n",
       "      <th>supervision_level_first_Specialized</th>\n",
       "      <th>supervision_level_first_Standard</th>\n",
       "      <th>...</th>\n",
       "      <th>avg_days_per_drugtest</th>\n",
       "      <th>drugtests_thc_positive</th>\n",
       "      <th>drugtests_cocaine_positive</th>\n",
       "      <th>drugtests_meth_positive</th>\n",
       "      <th>drugtests_other_positive</th>\n",
       "      <th>percent_days_employed</th>\n",
       "      <th>employment_exempt</th>\n",
       "      <th>id</th>\n",
       "      <th>residence_puma</th>\n",
       "      <th>gang_affiliated</th>\n",
       "    </tr>\n",
       "  </thead>\n",
       "  <tbody>\n",
       "    <tr>\n",
       "      <th>0</th>\n",
       "      <td>-0.295491</td>\n",
       "      <td>-0.502045</td>\n",
       "      <td>-0.48131</td>\n",
       "      <td>-0.441200</td>\n",
       "      <td>-0.354558</td>\n",
       "      <td>2.909578</td>\n",
       "      <td>-0.420153</td>\n",
       "      <td>-0.614483</td>\n",
       "      <td>-0.640670</td>\n",
       "      <td>1.139914</td>\n",
       "      <td>...</td>\n",
       "      <td>4.922330</td>\n",
       "      <td>-0.398177</td>\n",
       "      <td>-0.200406</td>\n",
       "      <td>-0.194036</td>\n",
       "      <td>-0.162822</td>\n",
       "      <td>0.016395</td>\n",
       "      <td>-0.399112</td>\n",
       "      <td>1.0</td>\n",
       "      <td>16.0</td>\n",
       "      <td>0.0</td>\n",
       "    </tr>\n",
       "    <tr>\n",
       "      <th>1</th>\n",
       "      <td>-0.295491</td>\n",
       "      <td>-0.502045</td>\n",
       "      <td>-0.48131</td>\n",
       "      <td>2.266546</td>\n",
       "      <td>-0.354558</td>\n",
       "      <td>-0.343692</td>\n",
       "      <td>-0.420153</td>\n",
       "      <td>-0.614483</td>\n",
       "      <td>1.560866</td>\n",
       "      <td>-0.877259</td>\n",
       "      <td>...</td>\n",
       "      <td>-0.331993</td>\n",
       "      <td>-0.398177</td>\n",
       "      <td>-0.200406</td>\n",
       "      <td>-0.194036</td>\n",
       "      <td>-0.162822</td>\n",
       "      <td>-0.132771</td>\n",
       "      <td>-0.399112</td>\n",
       "      <td>2.0</td>\n",
       "      <td>16.0</td>\n",
       "      <td>0.0</td>\n",
       "    </tr>\n",
       "    <tr>\n",
       "      <th>2</th>\n",
       "      <td>-0.295491</td>\n",
       "      <td>-0.502045</td>\n",
       "      <td>-0.48131</td>\n",
       "      <td>-0.441200</td>\n",
       "      <td>-0.354558</td>\n",
       "      <td>-0.343692</td>\n",
       "      <td>2.380083</td>\n",
       "      <td>1.627384</td>\n",
       "      <td>-0.640670</td>\n",
       "      <td>-0.877259</td>\n",
       "      <td>...</td>\n",
       "      <td>0.196782</td>\n",
       "      <td>2.221204</td>\n",
       "      <td>-0.200406</td>\n",
       "      <td>2.913829</td>\n",
       "      <td>-0.162822</td>\n",
       "      <td>-1.134383</td>\n",
       "      <td>-0.399112</td>\n",
       "      <td>3.0</td>\n",
       "      <td>24.0</td>\n",
       "      <td>0.0</td>\n",
       "    </tr>\n",
       "    <tr>\n",
       "      <th>3</th>\n",
       "      <td>-0.295491</td>\n",
       "      <td>-0.502045</td>\n",
       "      <td>-0.48131</td>\n",
       "      <td>-0.441200</td>\n",
       "      <td>2.820413</td>\n",
       "      <td>-0.343692</td>\n",
       "      <td>-0.420153</td>\n",
       "      <td>1.627384</td>\n",
       "      <td>-0.640670</td>\n",
       "      <td>-0.877259</td>\n",
       "      <td>...</td>\n",
       "      <td>-0.425592</td>\n",
       "      <td>-0.398177</td>\n",
       "      <td>-0.200406</td>\n",
       "      <td>-0.194036</td>\n",
       "      <td>-0.162822</td>\n",
       "      <td>1.221056</td>\n",
       "      <td>-0.399112</td>\n",
       "      <td>4.0</td>\n",
       "      <td>16.0</td>\n",
       "      <td>0.0</td>\n",
       "    </tr>\n",
       "    <tr>\n",
       "      <th>4</th>\n",
       "      <td>-0.295491</td>\n",
       "      <td>-0.502045</td>\n",
       "      <td>-0.48131</td>\n",
       "      <td>2.266546</td>\n",
       "      <td>-0.354558</td>\n",
       "      <td>-0.343692</td>\n",
       "      <td>-0.420153</td>\n",
       "      <td>-0.614483</td>\n",
       "      <td>1.560866</td>\n",
       "      <td>-0.877259</td>\n",
       "      <td>...</td>\n",
       "      <td>-0.446400</td>\n",
       "      <td>-0.398177</td>\n",
       "      <td>-0.200406</td>\n",
       "      <td>0.902857</td>\n",
       "      <td>-0.162822</td>\n",
       "      <td>-0.654904</td>\n",
       "      <td>-0.399112</td>\n",
       "      <td>5.0</td>\n",
       "      <td>16.0</td>\n",
       "      <td>0.0</td>\n",
       "    </tr>\n",
       "  </tbody>\n",
       "</table>\n",
       "<p>5 rows × 65 columns</p>\n",
       "</div>"
      ],
      "text/plain": [
       "   age_at_release_18-22  age_at_release_23-27  age_at_release_28-32  \\\n",
       "0             -0.295491             -0.502045              -0.48131   \n",
       "1             -0.295491             -0.502045              -0.48131   \n",
       "2             -0.295491             -0.502045              -0.48131   \n",
       "3             -0.295491             -0.502045              -0.48131   \n",
       "4             -0.295491             -0.502045              -0.48131   \n",
       "\n",
       "   age_at_release_33-37  age_at_release_38-42  age_at_release_43-47  \\\n",
       "0             -0.441200             -0.354558              2.909578   \n",
       "1              2.266546             -0.354558             -0.343692   \n",
       "2             -0.441200             -0.354558             -0.343692   \n",
       "3             -0.441200              2.820413             -0.343692   \n",
       "4              2.266546             -0.354558             -0.343692   \n",
       "\n",
       "   age_at_release_48 or older  supervision_level_first_High  \\\n",
       "0                   -0.420153                     -0.614483   \n",
       "1                   -0.420153                     -0.614483   \n",
       "2                    2.380083                      1.627384   \n",
       "3                   -0.420153                      1.627384   \n",
       "4                   -0.420153                     -0.614483   \n",
       "\n",
       "   supervision_level_first_Specialized  supervision_level_first_Standard  ...  \\\n",
       "0                            -0.640670                          1.139914  ...   \n",
       "1                             1.560866                         -0.877259  ...   \n",
       "2                            -0.640670                         -0.877259  ...   \n",
       "3                            -0.640670                         -0.877259  ...   \n",
       "4                             1.560866                         -0.877259  ...   \n",
       "\n",
       "   avg_days_per_drugtest  drugtests_thc_positive  drugtests_cocaine_positive  \\\n",
       "0               4.922330               -0.398177                   -0.200406   \n",
       "1              -0.331993               -0.398177                   -0.200406   \n",
       "2               0.196782                2.221204                   -0.200406   \n",
       "3              -0.425592               -0.398177                   -0.200406   \n",
       "4              -0.446400               -0.398177                   -0.200406   \n",
       "\n",
       "   drugtests_meth_positive  drugtests_other_positive  percent_days_employed  \\\n",
       "0                -0.194036                 -0.162822               0.016395   \n",
       "1                -0.194036                 -0.162822              -0.132771   \n",
       "2                 2.913829                 -0.162822              -1.134383   \n",
       "3                -0.194036                 -0.162822               1.221056   \n",
       "4                 0.902857                 -0.162822              -0.654904   \n",
       "\n",
       "   employment_exempt   id  residence_puma  gang_affiliated  \n",
       "0          -0.399112  1.0            16.0              0.0  \n",
       "1          -0.399112  2.0            16.0              0.0  \n",
       "2          -0.399112  3.0            24.0              0.0  \n",
       "3          -0.399112  4.0            16.0              0.0  \n",
       "4          -0.399112  5.0            16.0              0.0  \n",
       "\n",
       "[5 rows x 65 columns]"
      ]
     },
     "execution_count": 84,
     "metadata": {},
     "output_type": "execute_result"
    }
   ],
   "source": [
    "X_train_knn.head()"
   ]
  },
  {
   "cell_type": "code",
   "execution_count": 88,
   "id": "39be5488-3955-4fd3-8bbd-a49cc3d6144d",
   "metadata": {},
   "outputs": [],
   "source": [
    "## Scale 'gang_affiliated' column\n",
    "\n",
    "#instantiate sc\n",
    "sc2 = StandardScaler()\n",
    "\n",
    "#list of cols\n",
    "cols_to_scale = X_train_knn.drop(columns=['id','residence_puma']).columns.values\n",
    "\n",
    "#create transformer to apply OHE to select ols only\n",
    "scaler2 = make_column_transformer((sc2, cols_to_scale),\n",
    "                                 remainder = 'passthrough',\n",
    "                                 verbose_feature_names_out = False)\n"
   ]
  },
  {
   "cell_type": "code",
   "execution_count": 90,
   "id": "4b5b473d-9e39-4552-925a-27f1fb6aff06",
   "metadata": {},
   "outputs": [],
   "source": [
    "#fit transform \n",
    "X_train_final = scaler2.fit_transform(X_train_knn)\n",
    "X_test_final = scaler2.transform(X_test_knn)\n",
    "\n",
    "#turn into df\n",
    "X_train_final = pd.DataFrame(X_train_final, columns=scaler2.get_feature_names_out(), index=X_train_knn.index)\n",
    "X_test_final = pd.DataFrame(X_test_final, columns=scaler2.get_feature_names_out(), index=X_test_knn.index)"
   ]
  },
  {
   "cell_type": "code",
   "execution_count": 96,
   "id": "f6661014-346f-4b47-a2b1-d0b16366c522",
   "metadata": {},
   "outputs": [],
   "source": [
    "#Export to csv\n",
    "X_train_final.to_csv('./cleaned_data/X_train_final.csv')\n",
    "X_test_final.to_csv('./cleaned_data/X_test_final.csv')\n",
    "y_train.to_csv('./cleaned_data/y_train.csv')\n",
    "y_test.to_csv('./cleaned_data/y_test.csv')"
   ]
  },
  {
   "cell_type": "markdown",
   "id": "9889a27b-f49f-482a-b4a4-de89cf13559a",
   "metadata": {},
   "source": [
    "### Correlations"
   ]
  },
  {
   "cell_type": "code",
   "execution_count": 93,
   "id": "19f0d0f3-3910-484d-a912-a23ec768b2d0",
   "metadata": {},
   "outputs": [],
   "source": [
    "# #plot correlation of features to target val\n",
    "# plt.figure(figsize=(6,12))\n",
    "# sns.heatmap(pd.merge(X_train_knn, y_train, on='id').corr()[['recidivism_within_3years']].sort_values('recidivism_within_3years', ascending=False),\n",
    "#             annot=True);"
   ]
  },
  {
   "cell_type": "code",
   "execution_count": null,
   "id": "d41d1f9d-6d35-4e1d-9c7d-3d455efc87e7",
   "metadata": {},
   "outputs": [],
   "source": []
  }
 ],
 "metadata": {
  "kernelspec": {
   "display_name": "Python 3 (ipykernel)",
   "language": "python",
   "name": "python3"
  },
  "language_info": {
   "codemirror_mode": {
    "name": "ipython",
    "version": 3
   },
   "file_extension": ".py",
   "mimetype": "text/x-python",
   "name": "python",
   "nbconvert_exporter": "python",
   "pygments_lexer": "ipython3",
   "version": "3.9.13"
  }
 },
 "nbformat": 4,
 "nbformat_minor": 5
}
