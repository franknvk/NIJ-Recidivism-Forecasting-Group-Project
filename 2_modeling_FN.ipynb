{
 "cells": [
  {
   "cell_type": "code",
   "execution_count": 45,
   "id": "0d4a3271-9b34-4b9e-8eca-73d783cf3e92",
   "metadata": {},
   "outputs": [
    {
     "name": "stdout",
     "output_type": "stream",
     "text": [
      "Collecting scikit-optimize\n",
      "  Using cached scikit_optimize-0.9.0-py2.py3-none-any.whl (100 kB)\n",
      "Requirement already satisfied: scipy>=0.19.1 in /Users/franknovak/opt/anaconda3/lib/python3.9/site-packages (from scikit-optimize) (1.9.1)\n",
      "Requirement already satisfied: joblib>=0.11 in /Users/franknovak/opt/anaconda3/lib/python3.9/site-packages (from scikit-optimize) (1.1.0)\n",
      "Collecting pyaml>=16.9\n",
      "  Using cached pyaml-21.10.1-py2.py3-none-any.whl (24 kB)\n",
      "Requirement already satisfied: numpy>=1.13.3 in /Users/franknovak/opt/anaconda3/lib/python3.9/site-packages (from scikit-optimize) (1.21.5)\n",
      "Requirement already satisfied: scikit-learn>=0.20.0 in /Users/franknovak/opt/anaconda3/lib/python3.9/site-packages (from scikit-optimize) (1.0.2)\n",
      "Requirement already satisfied: PyYAML in /Users/franknovak/opt/anaconda3/lib/python3.9/site-packages (from pyaml>=16.9->scikit-optimize) (6.0)\n",
      "Requirement already satisfied: threadpoolctl>=2.0.0 in /Users/franknovak/opt/anaconda3/lib/python3.9/site-packages (from scikit-learn>=0.20.0->scikit-optimize) (2.2.0)\n",
      "Installing collected packages: pyaml, scikit-optimize\n",
      "Successfully installed pyaml-21.10.1 scikit-optimize-0.9.0\n"
     ]
    }
   ],
   "source": [
    "! pip install scikit-optimize"
   ]
  },
  {
   "cell_type": "code",
   "execution_count": 49,
   "id": "9b2f87ac-d163-4151-9321-1dd16d77eae0",
   "metadata": {},
   "outputs": [],
   "source": [
    "import pandas as pd\n",
    "import numpy as np\n",
    "\n",
    "from sklearn.linear_model import LogisticRegression, Lasso\n",
    "from sklearn.model_selection import GridSearchCV\n",
    "from sklearn.ensemble import RandomForestClassifier\n",
    "from sklearn.preprocessing import PolynomialFeatures\n",
    "from sklearn.inspection import permutation_importance\n",
    "\n",
    "from skopt.space import Real, Categorical, Integer\n",
    "from skopt import BayesSearchCV\n",
    "\n",
    "from xgboost import XGBClassifier\n",
    "\n",
    "\n",
    "from tensorflow.keras.models import Sequential\n",
    "from tensorflow.keras.layers import Dense\n",
    "from tensorflow.keras.metrics import Precision"
   ]
  },
  {
   "cell_type": "markdown",
   "id": "fa3d0532-d609-42c1-9962-099b88db9ba8",
   "metadata": {},
   "source": [
    "### Import\n",
    "All data besides PUMA and ID are scaled. Remove ID for modeling"
   ]
  },
  {
   "cell_type": "code",
   "execution_count": null,
   "id": "04eb0897-51a6-4d8c-99c1-93a86f84260c",
   "metadata": {},
   "outputs": [],
   "source": []
  },
  {
   "cell_type": "code",
   "execution_count": 68,
   "id": "647fc47f-e9a6-45b4-9d2f-b3da987d6f9c",
   "metadata": {},
   "outputs": [],
   "source": [
    "X_train = pd.read_csv('cleaned_data/X_train_final.csv',index_col = 'Unnamed: 0')\n",
    "X_test = pd.read_csv('cleaned_data/X_test_final.csv',index_col = 'Unnamed: 0')\n",
    "\n",
    "y_train = pd.read_csv('cleaned_data/y_train.csv',index_col = 'Unnamed: 0')\n",
    "y_test = pd.read_csv('cleaned_data/y_test.csv',index_col = 'Unnamed: 0')"
   ]
  },
  {
   "cell_type": "code",
   "execution_count": 69,
   "id": "4848b153-057a-4643-90a6-aba68c7ec560",
   "metadata": {},
   "outputs": [],
   "source": [
    "X_train = X_train.drop(columns = 'id')\n",
    "X_test = X_test.drop(columns = 'id')\n",
    "\n",
    "y_train = y_train['recidivism_within_3years']\n",
    "y_test = y_test['recidivism_within_3years']"
   ]
  },
  {
   "cell_type": "markdown",
   "id": "15a6dd11-ec26-4bed-b958-2a4fe3dd5d6e",
   "metadata": {},
   "source": [
    "# Data Transformation\n",
    "Polynomial Features, ???"
   ]
  },
  {
   "cell_type": "code",
   "execution_count": 26,
   "id": "b60ad079-7dc7-4312-9fd7-29a2b816362f",
   "metadata": {},
   "outputs": [
    {
     "data": {
      "text/plain": [
       "(15429, 2145)"
      ]
     },
     "execution_count": 26,
     "metadata": {},
     "output_type": "execute_result"
    }
   ],
   "source": [
    "poly = PolynomialFeatures()\n",
    "X_train_poly = poly.fit_transform(X_train)\n",
    "X_test_poly = poly.transform(X_test)\n",
    "\n",
    "X_train_poly = pd.DataFrame(data = X_train_poly, columns = poly.get_feature_names_out(), index = X_train.index)\n",
    "X_test_poly = pd.DataFrame(data = X_test_poly, columns = poly.get_feature_names_out(), index = X_test.index)\n"
   ]
  },
  {
   "cell_type": "markdown",
   "id": "d36643ef-8296-4ac5-83d4-0fb8cdeb38db",
   "metadata": {},
   "source": [
    "# Modeling\n",
    "- What metrics do we want to be watching? Precision to reduce false negatives?\n",
    "    - Judging Criteria:\n",
    "        - (1) the accuracy of their recidivism forecasts for males and females, and the average of these two accuracy scores, \n",
    "        - (2) the fairness of their recidivism forecast accuracy when accounting for racial bias between Black and white individuals on parole, for both males and females.To measure model accuracy, NIJ calculated the mean squared error of entries using the following Brier score\n",
    " \n",
    "        \n",
    "        \n",
    "        FPR = FP/(FP+TN)\n",
    "    \n",
    "- Figure out a way to store different model metrics to compare between each and find the best\n",
    "- PCA, ~~VIF~~, Permuation Importance \n",
    "- Run models on:\n",
    "    1. The overall population\n",
    "    2. White and Black individuals\n",
    "    3. Females and males\n",
    "    4. Each five-year age group between ages 18 and 48+\n",
    "    5. A mutually exclusive combination of models 2 and 3\n",
    "    6. A mutually exclusive combination of models 2 and 4\n",
    "    7. A mutually exclusive combination of models 3 and 4\n",
    "    8. A mutually exclusive combination of models 2, 3, and 4\n"
   ]
  },
  {
   "cell_type": "markdown",
   "id": "01adeae1-e446-46cd-944a-e926dfa5cd68",
   "metadata": {},
   "source": [
    "### Baseline\n",
    "- About the same distributionn of True and False values between the train and test target values. May need to account for the unbalanced data in our modeling"
   ]
  },
  {
   "cell_type": "code",
   "execution_count": 100,
   "id": "e137852f-b4ef-4fea-b27d-08ff787bd3e6",
   "metadata": {},
   "outputs": [
    {
     "name": "stdout",
     "output_type": "stream",
     "text": [
      "train:\n",
      " 1    0.588697\n",
      "0    0.411303\n",
      "Name: recidivism_within_3years, dtype: float64\n",
      "test:\n",
      " 1    0.591322\n",
      "0    0.408678\n",
      "Name: recidivism_within_3years, dtype: float64\n"
     ]
    }
   ],
   "source": [
    "print('train:\\n',y_train.value_counts(normalize = True))\n",
    "print('test:\\n',y_test.value_counts(normalize = True))"
   ]
  },
  {
   "cell_type": "markdown",
   "id": "9ef749b9-c146-4b85-b274-ee3791029596",
   "metadata": {},
   "source": [
    "### Logistic Regression\n",
    "- Try out GridSearch/BayesSearch, Optimize Model, L1 (lasso) Penalty with Polynomail Features"
   ]
  },
  {
   "cell_type": "code",
   "execution_count": 27,
   "id": "458e4094-4575-4b44-9442-ea289568024f",
   "metadata": {},
   "outputs": [
    {
     "name": "stdout",
     "output_type": "stream",
     "text": [
      "0.702119385572623\n",
      "0.6947964812882064\n"
     ]
    }
   ],
   "source": [
    "lr = LogisticRegression(class_weight='balanced')\n",
    "lr.fit(X_train,y_train)\n",
    "print(lr.score(X_train,y_train))\n",
    "print(lr.score(X_test,y_test))"
   ]
  },
  {
   "cell_type": "code",
   "execution_count": null,
   "id": "95a1a924-befd-493b-822a-ffa40f17f2a2",
   "metadata": {},
   "outputs": [],
   "source": [
    "params = {}"
   ]
  },
  {
   "cell_type": "code",
   "execution_count": null,
   "id": "da760ced-f86e-4e4c-97e5-92a345cf91ab",
   "metadata": {},
   "outputs": [],
   "source": [
    "bayes = BayesSearchCV(lr,\n",
    "                      search_spaces = {'penalty': Categorical(['l1', 'l2']),\n",
    "                                        'solver': Categorical(['saga', 'liblinear']),\n",
    "                                        \"C\": Real(1e-6, 10, prior='log-uniform')},\n",
    "                     cv= 5,\n",
    "                     n_jobs = -1)\n",
    "bayes.fit(X_train,y_train)"
   ]
  },
  {
   "cell_type": "code",
   "execution_count": 90,
   "id": "485bc08b-8b2b-4c28-bb0e-1263681d3708",
   "metadata": {},
   "outputs": [
    {
     "data": {
      "text/plain": [
       "array([[0.70921997, 0.29078003],\n",
       "       [0.50881424, 0.49118576],\n",
       "       [0.52281508, 0.47718492],\n",
       "       ...,\n",
       "       [0.51360427, 0.48639573],\n",
       "       [0.3650297 , 0.6349703 ],\n",
       "       [0.58180874, 0.41819126]])"
      ]
     },
     "execution_count": 90,
     "metadata": {},
     "output_type": "execute_result"
    }
   ],
   "source": [
    "bayes.score(X_train,y_train)\n",
    "bayes.predict_proba(X_test)[:]"
   ]
  },
  {
   "cell_type": "markdown",
   "id": "789a26a1-4002-48f4-973c-8f679796a89b",
   "metadata": {},
   "source": [
    "### Logistic Regression\n",
    "- L1 (lasso) Penalty with Polynomail Features"
   ]
  },
  {
   "cell_type": "code",
   "execution_count": 28,
   "id": "cb275fae-ad9c-4735-beb7-bc117af03667",
   "metadata": {},
   "outputs": [
    {
     "name": "stdout",
     "output_type": "stream",
     "text": [
      "0.7607751636528615\n",
      "0.6839123304010735\n"
     ]
    }
   ],
   "source": [
    "lr = LogisticRegression(penalty='l1',solver = 'liblinear', max_iter=10000, class_weight='balanced')\n",
    "lr.fit(X_train_poly,y_train)\n",
    "print(lr.score(X_train_poly,y_train))\n",
    "print(lr.score(X_test_poly,y_test))"
   ]
  },
  {
   "cell_type": "markdown",
   "id": "a92bd6f6-b6b0-4413-8279-ce236f1b4c3d",
   "metadata": {},
   "source": [
    "### Random Forest Classifier \n",
    "- optimize parameters"
   ]
  },
  {
   "cell_type": "code",
   "execution_count": 133,
   "id": "a90c40fc-7dcb-4ca2-862a-58520a4008b2",
   "metadata": {},
   "outputs": [
    {
     "name": "stdout",
     "output_type": "stream",
     "text": [
      "0.7016008814569966\n",
      "0.6937527955867004\n"
     ]
    }
   ],
   "source": [
    "rf = RandomForestClassifier(max_depth=5)\n",
    "rf.fit(X_train,y_train)\n",
    "print(rf.score(X_train,y_train))\n",
    "print(rf.score(X_test,y_test))"
   ]
  },
  {
   "cell_type": "code",
   "execution_count": null,
   "id": "ca648ec0-0a62-4d1c-83e0-4179a4ccdc21",
   "metadata": {},
   "outputs": [],
   "source": []
  },
  {
   "cell_type": "markdown",
   "id": "3610552b-27fb-48a5-beed-3dd9469b9ac5",
   "metadata": {},
   "source": [
    "### XGBoost\n",
    "Optimizer parameters"
   ]
  },
  {
   "cell_type": "code",
   "execution_count": 143,
   "id": "4d777ce2-38dc-47a5-aa54-13d7d7bd712e",
   "metadata": {},
   "outputs": [
    {
     "name": "stdout",
     "output_type": "stream",
     "text": [
      "0.7390628038110052\n",
      "0.7250633666318771\n"
     ]
    }
   ],
   "source": [
    "xgb = XGBClassifier(max_depth=2)\n",
    "xgb.fit(X_train,y_train)\n",
    "print(xgb.score(X_train,y_train))\n",
    "print(xgb.score(X_test,y_test))"
   ]
  },
  {
   "cell_type": "code",
   "execution_count": null,
   "id": "84c4edb9-d546-4755-9a19-f605b30cfd2b",
   "metadata": {},
   "outputs": [],
   "source": []
  },
  {
   "cell_type": "markdown",
   "id": "c47d3b05-643d-4acd-ac57-2e02369e6616",
   "metadata": {},
   "source": [
    "### NN"
   ]
  },
  {
   "cell_type": "markdown",
   "id": "b8649bd4-2b7d-416c-950f-5deb03de40a5",
   "metadata": {},
   "source": [
    "Try to optimize Layers, Add Early Stopping"
   ]
  },
  {
   "cell_type": "code",
   "execution_count": null,
   "id": "1074ecdd-8031-4d30-914c-d408710a2f33",
   "metadata": {},
   "outputs": [],
   "source": [
    "model = Sequential()\n",
    "model.add(Dense(32,input_shape = (X_train.shape[1],), activation='relu'))\n",
    "model.add(Dense(32, activation='relu'))\n",
    "model.add(Dense(16, activation='relu'))\n",
    "model.add(Dense(1, activation='sigmoid'))\n",
    "\n",
    "model.compile(loss = 'bce',optimizer = 'adam', metrics=['accuracy',Precision()] )\n",
    "\n",
    "history = model.fit(x = X_train, y= y_train['history_df.filter(like='precision').plot(xlabel = 'epoch')'],validation_data=(X_test,y_test['recidivism_within_3years']),epochs=40)"
   ]
  },
  {
   "cell_type": "code",
   "execution_count": 37,
   "id": "fff72c9a-ef58-407d-a36e-520333725dac",
   "metadata": {},
   "outputs": [
    {
     "ename": "NameError",
     "evalue": "name 'history' is not defined",
     "output_type": "error",
     "traceback": [
      "\u001b[0;31m---------------------------------------------------------------------------\u001b[0m",
      "\u001b[0;31mNameError\u001b[0m                                 Traceback (most recent call last)",
      "\u001b[0;32m/var/folders/0_/1fglb9vd35q8v_1ymssrzrxw0000gn/T/ipykernel_6871/1628351274.py\u001b[0m in \u001b[0;36m<module>\u001b[0;34m\u001b[0m\n\u001b[0;32m----> 1\u001b[0;31m \u001b[0mhistory_df\u001b[0m \u001b[0;34m=\u001b[0m \u001b[0mpd\u001b[0m\u001b[0;34m.\u001b[0m\u001b[0mDataFrame\u001b[0m\u001b[0;34m(\u001b[0m\u001b[0mhistory\u001b[0m\u001b[0;34m.\u001b[0m\u001b[0mhistory\u001b[0m\u001b[0;34m,\u001b[0m\u001b[0mindex\u001b[0m \u001b[0;34m=\u001b[0m \u001b[0mhistory\u001b[0m\u001b[0;34m.\u001b[0m\u001b[0mepoch\u001b[0m\u001b[0;34m)\u001b[0m\u001b[0;34m\u001b[0m\u001b[0;34m\u001b[0m\u001b[0m\n\u001b[0m",
      "\u001b[0;31mNameError\u001b[0m: name 'history' is not defined"
     ]
    }
   ],
   "source": [
    "history_df = pd.DataFrame(history.history,index = history.epoch)"
   ]
  },
  {
   "cell_type": "code",
   "execution_count": null,
   "id": "1280bd78-9aea-4872-9cea-e8a09b913b0c",
   "metadata": {},
   "outputs": [],
   "source": []
  }
 ],
 "metadata": {
  "kernelspec": {
   "display_name": "Python 3 (ipykernel)",
   "language": "python",
   "name": "python3"
  },
  "language_info": {
   "codemirror_mode": {
    "name": "ipython",
    "version": 3
   },
   "file_extension": ".py",
   "mimetype": "text/x-python",
   "name": "python",
   "nbconvert_exporter": "python",
   "pygments_lexer": "ipython3",
   "version": "3.9.13"
  }
 },
 "nbformat": 4,
 "nbformat_minor": 5
}
