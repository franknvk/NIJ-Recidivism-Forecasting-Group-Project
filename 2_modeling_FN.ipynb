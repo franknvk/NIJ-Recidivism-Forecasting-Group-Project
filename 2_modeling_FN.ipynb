{
 "cells": [
  {
   "cell_type": "code",
   "execution_count": 124,
   "id": "0d4a3271-9b34-4b9e-8eca-73d783cf3e92",
   "metadata": {},
   "outputs": [
    {
     "name": "stdout",
     "output_type": "stream",
     "text": [
      "Collecting xgboost\n",
      "  Downloading xgboost-1.7.2-py3-none-macosx_10_15_x86_64.macosx_11_0_x86_64.macosx_12_0_x86_64.whl (1.8 MB)\n",
      "\u001b[2K     \u001b[90m━━━━━━━━━━━━━━━━━━━━━━━━━━━━━━━━━━━━━━━━\u001b[0m \u001b[32m1.8/1.8 MB\u001b[0m \u001b[31m5.8 MB/s\u001b[0m eta \u001b[36m0:00:00\u001b[0m00:01\u001b[0m00:01\u001b[0m\n",
      "\u001b[?25hRequirement already satisfied: scipy in /Users/franknovak/opt/anaconda3/lib/python3.9/site-packages (from xgboost) (1.9.1)\n",
      "Requirement already satisfied: numpy in /Users/franknovak/opt/anaconda3/lib/python3.9/site-packages (from xgboost) (1.21.5)\n",
      "Installing collected packages: xgboost\n",
      "Successfully installed xgboost-1.7.2\n"
     ]
    }
   ],
   "source": [
    "!pip install xgboost"
   ]
  },
  {
   "cell_type": "code",
   "execution_count": 125,
   "id": "9b2f87ac-d163-4151-9321-1dd16d77eae0",
   "metadata": {},
   "outputs": [],
   "source": [
    "import pandas as pd\n",
    "import numpy as np\n",
    "\n",
    "from sklearn.linear_model import LogisticRegression\n",
    "from sklearn.ensemble import RandomForestClassifier\n",
    "\n",
    "from xgboost import XGBClassifier\n",
    "\n",
    "from tensorflow.keras.models import Sequential\n",
    "from tensorflow.keras.layers import Dense\n",
    "from tensorflow.keras.metrics import Precision"
   ]
  },
  {
   "cell_type": "markdown",
   "id": "fa3d0532-d609-42c1-9962-099b88db9ba8",
   "metadata": {},
   "source": [
    "### Import\n",
    "All data besides PUMA and ID are scaled. Remove ID for modeling"
   ]
  },
  {
   "cell_type": "code",
   "execution_count": null,
   "id": "04eb0897-51a6-4d8c-99c1-93a86f84260c",
   "metadata": {},
   "outputs": [],
   "source": []
  },
  {
   "cell_type": "code",
   "execution_count": 97,
   "id": "647fc47f-e9a6-45b4-9d2f-b3da987d6f9c",
   "metadata": {},
   "outputs": [],
   "source": [
    "X_train = pd.read_csv('cleaned_data/X_train_final.csv',index_col = 'Unnamed: 0')\n",
    "X_test = pd.read_csv('cleaned_data/X_test_final.csv',index_col = 'Unnamed: 0')\n",
    "\n",
    "y_train = pd.read_csv('cleaned_data/y_train.csv',index_col = 'Unnamed: 0')\n",
    "y_test = pd.read_csv('cleaned_data/y_test.csv',index_col = 'Unnamed: 0')"
   ]
  },
  {
   "cell_type": "code",
   "execution_count": 98,
   "id": "4848b153-057a-4643-90a6-aba68c7ec560",
   "metadata": {},
   "outputs": [],
   "source": [
    "X_train = X_train.drop(columns = 'id')\n",
    "X_test = X_test.drop(columns = 'id')\n",
    "\n",
    "y_train = y_train['recidivism_within_3years']\n",
    "y_test = y_test['recidivism_within_3years']"
   ]
  },
  {
   "cell_type": "markdown",
   "id": "15a6dd11-ec26-4bed-b958-2a4fe3dd5d6e",
   "metadata": {},
   "source": [
    "# Data Transformation\n",
    "Polynomial Features, ???"
   ]
  },
  {
   "cell_type": "markdown",
   "id": "d36643ef-8296-4ac5-83d4-0fb8cdeb38db",
   "metadata": {},
   "source": [
    "# Modeling\n",
    "- What metrics do we want to be watching? Precision to reduce false negatives?\n",
    "- Figure out a way to store different model metrics to compare between each and find the best"
   ]
  },
  {
   "cell_type": "markdown",
   "id": "01adeae1-e446-46cd-944a-e926dfa5cd68",
   "metadata": {},
   "source": [
    "### Baseline\n",
    "- About the same distributionn of True and False values between the train and test target values. May need to account for the unbalanced data in our modeling"
   ]
  },
  {
   "cell_type": "code",
   "execution_count": 100,
   "id": "e137852f-b4ef-4fea-b27d-08ff787bd3e6",
   "metadata": {},
   "outputs": [
    {
     "name": "stdout",
     "output_type": "stream",
     "text": [
      "train:\n",
      " 1    0.588697\n",
      "0    0.411303\n",
      "Name: recidivism_within_3years, dtype: float64\n",
      "test:\n",
      " 1    0.591322\n",
      "0    0.408678\n",
      "Name: recidivism_within_3years, dtype: float64\n"
     ]
    }
   ],
   "source": [
    "print('train:\\n',y_train.value_counts(normalize = True))\n",
    "print('test:\\n',y_test.value_counts(normalize = True))"
   ]
  },
  {
   "cell_type": "markdown",
   "id": "9ef749b9-c146-4b85-b274-ee3791029596",
   "metadata": {},
   "source": [
    "### Logistic Regression\n",
    "- Try out GridSearch, Optimize Model"
   ]
  },
  {
   "cell_type": "code",
   "execution_count": 122,
   "id": "458e4094-4575-4b44-9442-ea289568024f",
   "metadata": {},
   "outputs": [
    {
     "name": "stdout",
     "output_type": "stream",
     "text": [
      "0.713915354203124\n",
      "0.7094080811092888\n"
     ]
    }
   ],
   "source": [
    "lr = LogisticRegression()\n",
    "lr.fit(X_train,y_train)\n",
    "print(lr.score(X_train,y_train))\n",
    "print(lr.score(X_test,y_test))"
   ]
  },
  {
   "cell_type": "code",
   "execution_count": null,
   "id": "cb275fae-ad9c-4735-beb7-bc117af03667",
   "metadata": {},
   "outputs": [],
   "source": []
  },
  {
   "cell_type": "markdown",
   "id": "a92bd6f6-b6b0-4413-8279-ce236f1b4c3d",
   "metadata": {},
   "source": [
    "### Random Forest Classifier \n",
    "- optimize parameters"
   ]
  },
  {
   "cell_type": "code",
   "execution_count": 133,
   "id": "a90c40fc-7dcb-4ca2-862a-58520a4008b2",
   "metadata": {},
   "outputs": [
    {
     "name": "stdout",
     "output_type": "stream",
     "text": [
      "0.7016008814569966\n",
      "0.6937527955867004\n"
     ]
    }
   ],
   "source": [
    "rf = RandomForestClassifier(max_depth=5)\n",
    "rf.fit(X_train,y_train)\n",
    "print(rf.score(X_train,y_train))\n",
    "print(rf.score(X_test,y_test))"
   ]
  },
  {
   "cell_type": "code",
   "execution_count": null,
   "id": "ca648ec0-0a62-4d1c-83e0-4179a4ccdc21",
   "metadata": {},
   "outputs": [],
   "source": []
  },
  {
   "cell_type": "markdown",
   "id": "3610552b-27fb-48a5-beed-3dd9469b9ac5",
   "metadata": {},
   "source": [
    "### XGBoost\n",
    "Optimizer parameters"
   ]
  },
  {
   "cell_type": "code",
   "execution_count": 143,
   "id": "4d777ce2-38dc-47a5-aa54-13d7d7bd712e",
   "metadata": {},
   "outputs": [
    {
     "name": "stdout",
     "output_type": "stream",
     "text": [
      "0.7390628038110052\n",
      "0.7250633666318771\n"
     ]
    }
   ],
   "source": [
    "xgb = XGBClassifier(max_depth=2)\n",
    "xgb.fit(X_train,y_train)\n",
    "print(xgb.score(X_train,y_train))\n",
    "print(xgb.score(X_test,y_test))"
   ]
  },
  {
   "cell_type": "code",
   "execution_count": null,
   "id": "84c4edb9-d546-4755-9a19-f605b30cfd2b",
   "metadata": {},
   "outputs": [],
   "source": []
  },
  {
   "cell_type": "markdown",
   "id": "c47d3b05-643d-4acd-ac57-2e02369e6616",
   "metadata": {},
   "source": [
    "### NN"
   ]
  },
  {
   "cell_type": "markdown",
   "id": "b8649bd4-2b7d-416c-950f-5deb03de40a5",
   "metadata": {},
   "source": [
    "Try to optimize Layers, Add Early Stopping"
   ]
  },
  {
   "cell_type": "code",
   "execution_count": null,
   "id": "1074ecdd-8031-4d30-914c-d408710a2f33",
   "metadata": {},
   "outputs": [],
   "source": [
    "model = Sequential()\n",
    "model.add(Dense(32,input_shape = (X_train.shape[1],), activation='relu'))\n",
    "model.add(Dense(32, activation='relu'))\n",
    "model.add(Dense(16, activation='relu'))\n",
    "model.add(Dense(1, activation='sigmoid'))\n",
    "\n",
    "model.compile(loss = 'bce',optimizer = 'adam', metrics=['accuracy',Precision()] )\n",
    "\n",
    "history = model.fit(x = X_train, y= y_train['history_df.filter(like='precision').plot(xlabel = 'epoch')'],validation_data=(X_test,y_test['recidivism_within_3years']),epochs=40)"
   ]
  },
  {
   "cell_type": "code",
   "execution_count": 68,
   "id": "fff72c9a-ef58-407d-a36e-520333725dac",
   "metadata": {},
   "outputs": [],
   "source": [
    "history_df = pd.DataFrame(history.history,index = history.epoch)"
   ]
  },
  {
   "cell_type": "code",
   "execution_count": null,
   "id": "1280bd78-9aea-4872-9cea-e8a09b913b0c",
   "metadata": {},
   "outputs": [],
   "source": []
  }
 ],
 "metadata": {
  "kernelspec": {
   "display_name": "Python 3 (ipykernel)",
   "language": "python",
   "name": "python3"
  },
  "language_info": {
   "codemirror_mode": {
    "name": "ipython",
    "version": 3
   },
   "file_extension": ".py",
   "mimetype": "text/x-python",
   "name": "python",
   "nbconvert_exporter": "python",
   "pygments_lexer": "ipython3",
   "version": "3.9.13"
  }
 },
 "nbformat": 4,
 "nbformat_minor": 5
}
