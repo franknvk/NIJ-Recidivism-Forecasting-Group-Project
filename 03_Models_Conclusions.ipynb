{
 "cells": [
  {
   "cell_type": "markdown",
   "id": "2f41f88a-7cf4-43b2-bbb9-7ca637099629",
   "metadata": {
    "tags": []
   },
   "source": [
    "## Notebook Summary\n",
    "---\n",
    "The contents of this notebook includes: the metric selection, individual modelings,train and test brier scores, precision scores, confusion matrix, and conclusions. "
   ]
  },
  {
   "cell_type": "code",
   "execution_count": 2,
   "id": "9b2f87ac-d163-4151-9321-1dd16d77eae0",
   "metadata": {},
   "outputs": [
    {
     "name": "stderr",
     "output_type": "stream",
     "text": [
      "2022-12-22 19:40:59.274818: I tensorflow/core/platform/cpu_feature_guard.cc:193] This TensorFlow binary is optimized with oneAPI Deep Neural Network Library (oneDNN) to use the following CPU instructions in performance-critical operations:  AVX2 FMA\n",
      "To enable them in other operations, rebuild TensorFlow with the appropriate compiler flags.\n"
     ]
    }
   ],
   "source": [
    "import pandas as pd\n",
    "import numpy as np\n",
    "import math\n",
    "import pickle\n",
    "import matplotlib.pyplot as plt\n",
    "\n",
    "from sklearn.linear_model import LogisticRegression, Lasso\n",
    "from sklearn.model_selection import GridSearchCV\n",
    "from sklearn.ensemble import RandomForestClassifier\n",
    "from sklearn.preprocessing import PolynomialFeatures, StandardScaler\n",
    "from sklearn.inspection import permutation_importance\n",
    "from sklearn.decomposition import PCA\n",
    "from sklearn.pipeline import Pipeline\n",
    "\n",
    "from sklearn.metrics import brier_score_loss, make_scorer, confusion_matrix, plot_confusion_matrix,precision_score\n",
    "\n",
    "from skopt.space import Real, Categorical, Integer\n",
    "from skopt import BayesSearchCV\n",
    "\n",
    "from xgboost import XGBClassifier\n",
    "\n",
    "from tensorflow.keras.metrics import FalsePositives\n",
    "from tensorflow.keras.models import Sequential\n",
    "from tensorflow.keras.layers import Dense\n",
    "from tensorflow.keras.metrics import Precision"
   ]
  },
  {
   "cell_type": "markdown",
   "id": "fa3d0532-d609-42c1-9962-099b88db9ba8",
   "metadata": {},
   "source": [
    "### Import\n",
    "All data besides PUMA and ID are scaled. Remove ID for modeling"
   ]
  },
  {
   "cell_type": "code",
   "execution_count": 5,
   "id": "647fc47f-e9a6-45b4-9d2f-b3da987d6f9c",
   "metadata": {},
   "outputs": [
    {
     "ename": "FileNotFoundError",
     "evalue": "[Errno 2] No such file or directory: 'cleaned_data/X_train_final.csv'",
     "output_type": "error",
     "traceback": [
      "\u001b[0;31m---------------------------------------------------------------------------\u001b[0m",
      "\u001b[0;31mFileNotFoundError\u001b[0m                         Traceback (most recent call last)",
      "\u001b[0;32m/var/folders/0_/1fglb9vd35q8v_1ymssrzrxw0000gn/T/ipykernel_10920/1450146007.py\u001b[0m in \u001b[0;36m<module>\u001b[0;34m\u001b[0m\n\u001b[0;32m----> 1\u001b[0;31m \u001b[0mX_train\u001b[0m \u001b[0;34m=\u001b[0m \u001b[0mpd\u001b[0m\u001b[0;34m.\u001b[0m\u001b[0mread_csv\u001b[0m\u001b[0;34m(\u001b[0m\u001b[0;34m'cleaned_data/X_train_final.csv'\u001b[0m\u001b[0;34m,\u001b[0m\u001b[0mindex_col\u001b[0m \u001b[0;34m=\u001b[0m \u001b[0;34m'Unnamed: 0'\u001b[0m\u001b[0;34m)\u001b[0m\u001b[0;34m\u001b[0m\u001b[0;34m\u001b[0m\u001b[0m\n\u001b[0m\u001b[1;32m      2\u001b[0m \u001b[0mX_test\u001b[0m \u001b[0;34m=\u001b[0m \u001b[0mpd\u001b[0m\u001b[0;34m.\u001b[0m\u001b[0mread_csv\u001b[0m\u001b[0;34m(\u001b[0m\u001b[0;34m'cleaned_data/X_test_final.csv'\u001b[0m\u001b[0;34m,\u001b[0m\u001b[0mindex_col\u001b[0m \u001b[0;34m=\u001b[0m \u001b[0;34m'Unnamed: 0'\u001b[0m\u001b[0;34m)\u001b[0m\u001b[0;34m\u001b[0m\u001b[0;34m\u001b[0m\u001b[0m\n\u001b[1;32m      3\u001b[0m \u001b[0mX_train\u001b[0m \u001b[0;34m=\u001b[0m \u001b[0mX_train\u001b[0m\u001b[0;34m.\u001b[0m\u001b[0mdrop\u001b[0m\u001b[0;34m(\u001b[0m\u001b[0mcolumns\u001b[0m \u001b[0;34m=\u001b[0m \u001b[0;34m'id'\u001b[0m\u001b[0;34m)\u001b[0m\u001b[0;34m\u001b[0m\u001b[0;34m\u001b[0m\u001b[0m\n\u001b[1;32m      4\u001b[0m \u001b[0mX_test\u001b[0m \u001b[0;34m=\u001b[0m \u001b[0mX_test\u001b[0m\u001b[0;34m.\u001b[0m\u001b[0mdrop\u001b[0m\u001b[0;34m(\u001b[0m\u001b[0mcolumns\u001b[0m \u001b[0;34m=\u001b[0m \u001b[0;34m'id'\u001b[0m\u001b[0;34m)\u001b[0m\u001b[0;34m\u001b[0m\u001b[0;34m\u001b[0m\u001b[0m\n\u001b[1;32m      5\u001b[0m \u001b[0;34m\u001b[0m\u001b[0m\n",
      "\u001b[0;32m~/opt/anaconda3/lib/python3.9/site-packages/pandas/util/_decorators.py\u001b[0m in \u001b[0;36mwrapper\u001b[0;34m(*args, **kwargs)\u001b[0m\n\u001b[1;32m    309\u001b[0m                     \u001b[0mstacklevel\u001b[0m\u001b[0;34m=\u001b[0m\u001b[0mstacklevel\u001b[0m\u001b[0;34m,\u001b[0m\u001b[0;34m\u001b[0m\u001b[0;34m\u001b[0m\u001b[0m\n\u001b[1;32m    310\u001b[0m                 )\n\u001b[0;32m--> 311\u001b[0;31m             \u001b[0;32mreturn\u001b[0m \u001b[0mfunc\u001b[0m\u001b[0;34m(\u001b[0m\u001b[0;34m*\u001b[0m\u001b[0margs\u001b[0m\u001b[0;34m,\u001b[0m \u001b[0;34m**\u001b[0m\u001b[0mkwargs\u001b[0m\u001b[0;34m)\u001b[0m\u001b[0;34m\u001b[0m\u001b[0;34m\u001b[0m\u001b[0m\n\u001b[0m\u001b[1;32m    312\u001b[0m \u001b[0;34m\u001b[0m\u001b[0m\n\u001b[1;32m    313\u001b[0m         \u001b[0;32mreturn\u001b[0m \u001b[0mwrapper\u001b[0m\u001b[0;34m\u001b[0m\u001b[0;34m\u001b[0m\u001b[0m\n",
      "\u001b[0;32m~/opt/anaconda3/lib/python3.9/site-packages/pandas/io/parsers/readers.py\u001b[0m in \u001b[0;36mread_csv\u001b[0;34m(filepath_or_buffer, sep, delimiter, header, names, index_col, usecols, squeeze, prefix, mangle_dupe_cols, dtype, engine, converters, true_values, false_values, skipinitialspace, skiprows, skipfooter, nrows, na_values, keep_default_na, na_filter, verbose, skip_blank_lines, parse_dates, infer_datetime_format, keep_date_col, date_parser, dayfirst, cache_dates, iterator, chunksize, compression, thousands, decimal, lineterminator, quotechar, quoting, doublequote, escapechar, comment, encoding, encoding_errors, dialect, error_bad_lines, warn_bad_lines, on_bad_lines, delim_whitespace, low_memory, memory_map, float_precision, storage_options)\u001b[0m\n\u001b[1;32m    676\u001b[0m     \u001b[0mkwds\u001b[0m\u001b[0;34m.\u001b[0m\u001b[0mupdate\u001b[0m\u001b[0;34m(\u001b[0m\u001b[0mkwds_defaults\u001b[0m\u001b[0;34m)\u001b[0m\u001b[0;34m\u001b[0m\u001b[0;34m\u001b[0m\u001b[0m\n\u001b[1;32m    677\u001b[0m \u001b[0;34m\u001b[0m\u001b[0m\n\u001b[0;32m--> 678\u001b[0;31m     \u001b[0;32mreturn\u001b[0m \u001b[0m_read\u001b[0m\u001b[0;34m(\u001b[0m\u001b[0mfilepath_or_buffer\u001b[0m\u001b[0;34m,\u001b[0m \u001b[0mkwds\u001b[0m\u001b[0;34m)\u001b[0m\u001b[0;34m\u001b[0m\u001b[0;34m\u001b[0m\u001b[0m\n\u001b[0m\u001b[1;32m    679\u001b[0m \u001b[0;34m\u001b[0m\u001b[0m\n\u001b[1;32m    680\u001b[0m \u001b[0;34m\u001b[0m\u001b[0m\n",
      "\u001b[0;32m~/opt/anaconda3/lib/python3.9/site-packages/pandas/io/parsers/readers.py\u001b[0m in \u001b[0;36m_read\u001b[0;34m(filepath_or_buffer, kwds)\u001b[0m\n\u001b[1;32m    573\u001b[0m \u001b[0;34m\u001b[0m\u001b[0m\n\u001b[1;32m    574\u001b[0m     \u001b[0;31m# Create the parser.\u001b[0m\u001b[0;34m\u001b[0m\u001b[0;34m\u001b[0m\u001b[0m\n\u001b[0;32m--> 575\u001b[0;31m     \u001b[0mparser\u001b[0m \u001b[0;34m=\u001b[0m \u001b[0mTextFileReader\u001b[0m\u001b[0;34m(\u001b[0m\u001b[0mfilepath_or_buffer\u001b[0m\u001b[0;34m,\u001b[0m \u001b[0;34m**\u001b[0m\u001b[0mkwds\u001b[0m\u001b[0;34m)\u001b[0m\u001b[0;34m\u001b[0m\u001b[0;34m\u001b[0m\u001b[0m\n\u001b[0m\u001b[1;32m    576\u001b[0m \u001b[0;34m\u001b[0m\u001b[0m\n\u001b[1;32m    577\u001b[0m     \u001b[0;32mif\u001b[0m \u001b[0mchunksize\u001b[0m \u001b[0;32mor\u001b[0m \u001b[0miterator\u001b[0m\u001b[0;34m:\u001b[0m\u001b[0;34m\u001b[0m\u001b[0;34m\u001b[0m\u001b[0m\n",
      "\u001b[0;32m~/opt/anaconda3/lib/python3.9/site-packages/pandas/io/parsers/readers.py\u001b[0m in \u001b[0;36m__init__\u001b[0;34m(self, f, engine, **kwds)\u001b[0m\n\u001b[1;32m    930\u001b[0m \u001b[0;34m\u001b[0m\u001b[0m\n\u001b[1;32m    931\u001b[0m         \u001b[0mself\u001b[0m\u001b[0;34m.\u001b[0m\u001b[0mhandles\u001b[0m\u001b[0;34m:\u001b[0m \u001b[0mIOHandles\u001b[0m \u001b[0;34m|\u001b[0m \u001b[0;32mNone\u001b[0m \u001b[0;34m=\u001b[0m \u001b[0;32mNone\u001b[0m\u001b[0;34m\u001b[0m\u001b[0;34m\u001b[0m\u001b[0m\n\u001b[0;32m--> 932\u001b[0;31m         \u001b[0mself\u001b[0m\u001b[0;34m.\u001b[0m\u001b[0m_engine\u001b[0m \u001b[0;34m=\u001b[0m \u001b[0mself\u001b[0m\u001b[0;34m.\u001b[0m\u001b[0m_make_engine\u001b[0m\u001b[0;34m(\u001b[0m\u001b[0mf\u001b[0m\u001b[0;34m,\u001b[0m \u001b[0mself\u001b[0m\u001b[0;34m.\u001b[0m\u001b[0mengine\u001b[0m\u001b[0;34m)\u001b[0m\u001b[0;34m\u001b[0m\u001b[0;34m\u001b[0m\u001b[0m\n\u001b[0m\u001b[1;32m    933\u001b[0m \u001b[0;34m\u001b[0m\u001b[0m\n\u001b[1;32m    934\u001b[0m     \u001b[0;32mdef\u001b[0m \u001b[0mclose\u001b[0m\u001b[0;34m(\u001b[0m\u001b[0mself\u001b[0m\u001b[0;34m)\u001b[0m\u001b[0;34m:\u001b[0m\u001b[0;34m\u001b[0m\u001b[0;34m\u001b[0m\u001b[0m\n",
      "\u001b[0;32m~/opt/anaconda3/lib/python3.9/site-packages/pandas/io/parsers/readers.py\u001b[0m in \u001b[0;36m_make_engine\u001b[0;34m(self, f, engine)\u001b[0m\n\u001b[1;32m   1214\u001b[0m             \u001b[0;31m# \"Union[str, PathLike[str], ReadCsvBuffer[bytes], ReadCsvBuffer[str]]\"\u001b[0m\u001b[0;34m\u001b[0m\u001b[0;34m\u001b[0m\u001b[0m\n\u001b[1;32m   1215\u001b[0m             \u001b[0;31m# , \"str\", \"bool\", \"Any\", \"Any\", \"Any\", \"Any\", \"Any\"\u001b[0m\u001b[0;34m\u001b[0m\u001b[0;34m\u001b[0m\u001b[0m\n\u001b[0;32m-> 1216\u001b[0;31m             self.handles = get_handle(  # type: ignore[call-overload]\n\u001b[0m\u001b[1;32m   1217\u001b[0m                 \u001b[0mf\u001b[0m\u001b[0;34m,\u001b[0m\u001b[0;34m\u001b[0m\u001b[0;34m\u001b[0m\u001b[0m\n\u001b[1;32m   1218\u001b[0m                 \u001b[0mmode\u001b[0m\u001b[0;34m,\u001b[0m\u001b[0;34m\u001b[0m\u001b[0;34m\u001b[0m\u001b[0m\n",
      "\u001b[0;32m~/opt/anaconda3/lib/python3.9/site-packages/pandas/io/common.py\u001b[0m in \u001b[0;36mget_handle\u001b[0;34m(path_or_buf, mode, encoding, compression, memory_map, is_text, errors, storage_options)\u001b[0m\n\u001b[1;32m    784\u001b[0m         \u001b[0;32mif\u001b[0m \u001b[0mioargs\u001b[0m\u001b[0;34m.\u001b[0m\u001b[0mencoding\u001b[0m \u001b[0;32mand\u001b[0m \u001b[0;34m\"b\"\u001b[0m \u001b[0;32mnot\u001b[0m \u001b[0;32min\u001b[0m \u001b[0mioargs\u001b[0m\u001b[0;34m.\u001b[0m\u001b[0mmode\u001b[0m\u001b[0;34m:\u001b[0m\u001b[0;34m\u001b[0m\u001b[0;34m\u001b[0m\u001b[0m\n\u001b[1;32m    785\u001b[0m             \u001b[0;31m# Encoding\u001b[0m\u001b[0;34m\u001b[0m\u001b[0;34m\u001b[0m\u001b[0m\n\u001b[0;32m--> 786\u001b[0;31m             handle = open(\n\u001b[0m\u001b[1;32m    787\u001b[0m                 \u001b[0mhandle\u001b[0m\u001b[0;34m,\u001b[0m\u001b[0;34m\u001b[0m\u001b[0;34m\u001b[0m\u001b[0m\n\u001b[1;32m    788\u001b[0m                 \u001b[0mioargs\u001b[0m\u001b[0;34m.\u001b[0m\u001b[0mmode\u001b[0m\u001b[0;34m,\u001b[0m\u001b[0;34m\u001b[0m\u001b[0;34m\u001b[0m\u001b[0m\n",
      "\u001b[0;31mFileNotFoundError\u001b[0m: [Errno 2] No such file or directory: 'cleaned_data/X_train_final.csv'"
     ]
    }
   ],
   "source": [
    "X_train = pd.read_csv('cleaned_data/X_train_final.csv',index_col = 'Unnamed: 0')\n",
    "X_test = pd.read_csv('cleaned_data/X_test_final.csv',index_col = 'Unnamed: 0')\n",
    "X_train = X_train.drop(columns = 'id')\n",
    "X_test = X_test.drop(columns = 'id')\n",
    "\n",
    "\n",
    "y_train = pd.read_csv('cleaned_data/y_train.csv',index_col = 'Unnamed: 0')\n",
    "y_test = pd.read_csv('cleaned_data/y_test.csv',index_col = 'Unnamed: 0')\n",
    "y_train = y_train['recidivism_within_3years']\n",
    "y_test = y_test['recidivism_within_3years']"
   ]
  },
  {
   "cell_type": "markdown",
   "id": "d36643ef-8296-4ac5-83d4-0fb8cdeb38db",
   "metadata": {
    "tags": []
   },
   "source": [
    "# Modeling\n",
    "For the challenge, Brier Score was used as the metric to optimize our models. Brier score calculates the squared mean of predicted probability minus the binary classification. A lower score results in a better predictive model. A secondary metric looked at was precision in order to minimize false positives. However, the brier score was prioritized due to limited scoring capabilities. "
   ]
  },
  {
   "cell_type": "code",
   "execution_count": 251,
   "id": "52e115d7-1143-4556-b5a9-79fe6abe79e0",
   "metadata": {},
   "outputs": [],
   "source": [
    "brier_score = make_scorer(brier_score_loss,greater_is_better=False,needs_proba=True)"
   ]
  },
  {
   "cell_type": "markdown",
   "id": "01adeae1-e446-46cd-944a-e926dfa5cd68",
   "metadata": {},
   "source": [
    "### Baseline"
   ]
  },
  {
   "cell_type": "markdown",
   "id": "e5678410-61f4-4f36-bd3c-6e17ed62c66f",
   "metadata": {},
   "source": [
    "Global: .25"
   ]
  },
  {
   "cell_type": "markdown",
   "id": "9ef749b9-c146-4b85-b274-ee3791029596",
   "metadata": {},
   "source": [
    "### Logistic Regression\n",
    "To start, a logistic regression was used for a simple model and BayesSearchCV. Through the gridsearch, there was improvement with L1 penalty and a low C value of 0.0677 for feature reduction."
   ]
  },
  {
   "cell_type": "code",
   "execution_count": 257,
   "id": "458e4094-4575-4b44-9442-ea289568024f",
   "metadata": {},
   "outputs": [],
   "source": [
    "lr = LogisticRegression(max_iter = 10000)\n",
    "bayes = BayesSearchCV(lr,scoring=brier_score,\n",
    "                      search_spaces = {'penalty': Categorical(['l1']),\n",
    "                                        'solver': Categorical(['saga']),\n",
    "                                        \"C\": Real(1e-6, 10, prior='log-uniform')},   \n",
    "                     cv= 5,\n",
    "                     n_jobs = -1)\n",
    "#bayes.fit(X_train,y_train)   "
   ]
  },
  {
   "cell_type": "markdown",
   "id": "6cd31dd8-7e30-454a-bd9a-97e189762e2e",
   "metadata": {},
   "source": [
    "Pickle Model and Dataframe of Coefficients "
   ]
  },
  {
   "cell_type": "code",
   "execution_count": 3,
   "id": "3d5ae126-b8a5-41ba-b706-babb36894e1d",
   "metadata": {},
   "outputs": [],
   "source": [
    "#pickle.dump(bayes,open('pickles/lr_bayes.pkl', 'wb'))\n",
    "bayes = pickle.load(open('pickles/lr_bayes.pkl', 'rb'))\n",
    "\n",
    "#pickle.dump(lr_coef_df,open('pickles/lr_coef_df.pkl', 'wb'))\n",
    "lr_coef_df = pickle.load(open('pickles/lr_coef_df.pkl', 'rb'))"
   ]
  },
  {
   "cell_type": "markdown",
   "id": "30ef17bc-1c4b-4f01-a8d1-a8be4af07f11",
   "metadata": {},
   "source": [
    "Show brier scores and precision between train and testing."
   ]
  },
  {
   "cell_type": "code",
   "execution_count": 4,
   "id": "4ef49de7-3979-466a-adb2-07c2561e6a11",
   "metadata": {},
   "outputs": [
    {
     "ename": "NameError",
     "evalue": "name 'X_train' is not defined",
     "output_type": "error",
     "traceback": [
      "\u001b[0;31m---------------------------------------------------------------------------\u001b[0m",
      "\u001b[0;31mNameError\u001b[0m                                 Traceback (most recent call last)",
      "\u001b[0;32m/var/folders/0_/1fglb9vd35q8v_1ymssrzrxw0000gn/T/ipykernel_10920/3979869998.py\u001b[0m in \u001b[0;36m<module>\u001b[0;34m\u001b[0m\n\u001b[0;32m----> 1\u001b[0;31m \u001b[0mprint\u001b[0m\u001b[0;34m(\u001b[0m\u001b[0;34m-\u001b[0m\u001b[0mbayes\u001b[0m\u001b[0;34m.\u001b[0m\u001b[0mscore\u001b[0m\u001b[0;34m(\u001b[0m\u001b[0mX_train\u001b[0m\u001b[0;34m,\u001b[0m\u001b[0my_train\u001b[0m\u001b[0;34m)\u001b[0m\u001b[0;34m)\u001b[0m\u001b[0;34m\u001b[0m\u001b[0;34m\u001b[0m\u001b[0m\n\u001b[0m\u001b[1;32m      2\u001b[0m \u001b[0mprint\u001b[0m\u001b[0;34m(\u001b[0m\u001b[0;34m-\u001b[0m\u001b[0mbayes\u001b[0m\u001b[0;34m.\u001b[0m\u001b[0mscore\u001b[0m\u001b[0;34m(\u001b[0m\u001b[0mX_test\u001b[0m\u001b[0;34m,\u001b[0m\u001b[0my\u001b[0m\u001b[0;34m=\u001b[0m\u001b[0my_test\u001b[0m\u001b[0;34m)\u001b[0m\u001b[0;34m)\u001b[0m\u001b[0;34m\u001b[0m\u001b[0;34m\u001b[0m\u001b[0m\n\u001b[1;32m      3\u001b[0m \u001b[0mprint\u001b[0m\u001b[0;34m(\u001b[0m\u001b[0;34m\"#############################\"\u001b[0m\u001b[0;34m)\u001b[0m\u001b[0;34m\u001b[0m\u001b[0;34m\u001b[0m\u001b[0m\n\u001b[1;32m      4\u001b[0m \u001b[0mplot_confusion_matrix\u001b[0m\u001b[0;34m(\u001b[0m\u001b[0mbayes\u001b[0m\u001b[0;34m,\u001b[0m\u001b[0mX_test\u001b[0m\u001b[0;34m,\u001b[0m\u001b[0my_test\u001b[0m\u001b[0;34m,\u001b[0m\u001b[0mdisplay_labels\u001b[0m\u001b[0;34m=\u001b[0m\u001b[0;34m[\u001b[0m\u001b[0;34m\"Will not recid\"\u001b[0m\u001b[0;34m,\u001b[0m\u001b[0;34m'Will recid'\u001b[0m\u001b[0;34m]\u001b[0m\u001b[0;34m)\u001b[0m\u001b[0;34m\u001b[0m\u001b[0;34m\u001b[0m\u001b[0m\n\u001b[1;32m      5\u001b[0m \u001b[0mplt\u001b[0m\u001b[0;34m.\u001b[0m\u001b[0mtitle\u001b[0m\u001b[0;34m(\u001b[0m\u001b[0;34m\"Logistic Regression Bayes Search\"\u001b[0m\u001b[0;34m)\u001b[0m\u001b[0;34m\u001b[0m\u001b[0;34m\u001b[0m\u001b[0m\n",
      "\u001b[0;31mNameError\u001b[0m: name 'X_train' is not defined"
     ]
    }
   ],
   "source": [
    "print(-bayes.score(X_train,y_train))\n",
    "print(-bayes.score(X_test,y=y_test))\n",
    "print(\"#############################\")\n",
    "plot_confusion_matrix(bayes,X_test,y_test,display_labels=[\"Will not recid\",'Will recid'])\n",
    "plt.title(\"Logistic Regression Bayes Search\")\n",
    "print(precision_score(y_train,bayes.predict(X_train)))\n",
    "print(precision_score(y_test,bayes.predict(X_test)))"
   ]
  },
  {
   "cell_type": "code",
   "execution_count": 244,
   "id": "c7dfff4d-9c04-45a2-934d-7f148164da67",
   "metadata": {},
   "outputs": [
    {
     "data": {
      "text/html": [
       "<div>\n",
       "<style scoped>\n",
       "    .dataframe tbody tr th:only-of-type {\n",
       "        vertical-align: middle;\n",
       "    }\n",
       "\n",
       "    .dataframe tbody tr th {\n",
       "        vertical-align: top;\n",
       "    }\n",
       "\n",
       "    .dataframe thead th {\n",
       "        text-align: right;\n",
       "    }\n",
       "</style>\n",
       "<table border=\"1\" class=\"dataframe\">\n",
       "  <thead>\n",
       "    <tr style=\"text-align: right;\">\n",
       "      <th></th>\n",
       "      <th>coef</th>\n",
       "      <th>odd_ratio</th>\n",
       "    </tr>\n",
       "  </thead>\n",
       "  <tbody>\n",
       "    <tr>\n",
       "      <th>gang_affiliated</th>\n",
       "      <td>0.278006</td>\n",
       "      <td>1.320494</td>\n",
       "    </tr>\n",
       "    <tr>\n",
       "      <th>prior_arrest_episodes_felony</th>\n",
       "      <td>0.242007</td>\n",
       "      <td>1.273803</td>\n",
       "    </tr>\n",
       "    <tr>\n",
       "      <th>age_at_release_23-27</th>\n",
       "      <td>0.235596</td>\n",
       "      <td>1.265662</td>\n",
       "    </tr>\n",
       "    <tr>\n",
       "      <th>age_at_release_18-22</th>\n",
       "      <td>0.230575</td>\n",
       "      <td>1.259324</td>\n",
       "    </tr>\n",
       "    <tr>\n",
       "      <th>gender</th>\n",
       "      <td>0.160013</td>\n",
       "      <td>1.173527</td>\n",
       "    </tr>\n",
       "    <tr>\n",
       "      <th>prior_arrest_episodes_ppviolationcharges</th>\n",
       "      <td>0.157116</td>\n",
       "      <td>1.170132</td>\n",
       "    </tr>\n",
       "    <tr>\n",
       "      <th>condition_mh_sa</th>\n",
       "      <td>0.144291</td>\n",
       "      <td>1.155220</td>\n",
       "    </tr>\n",
       "    <tr>\n",
       "      <th>prior_arrest_episodes_property</th>\n",
       "      <td>0.141249</td>\n",
       "      <td>1.151712</td>\n",
       "    </tr>\n",
       "    <tr>\n",
       "      <th>prior_arrest_episodes_misd</th>\n",
       "      <td>0.138697</td>\n",
       "      <td>1.148776</td>\n",
       "    </tr>\n",
       "    <tr>\n",
       "      <th>supervision_risk_score_first</th>\n",
       "      <td>0.126380</td>\n",
       "      <td>1.134714</td>\n",
       "    </tr>\n",
       "  </tbody>\n",
       "</table>\n",
       "</div>"
      ],
      "text/plain": [
       "                                              coef  odd_ratio\n",
       "gang_affiliated                           0.278006   1.320494\n",
       "prior_arrest_episodes_felony              0.242007   1.273803\n",
       "age_at_release_23-27                      0.235596   1.265662\n",
       "age_at_release_18-22                      0.230575   1.259324\n",
       "gender                                    0.160013   1.173527\n",
       "prior_arrest_episodes_ppviolationcharges  0.157116   1.170132\n",
       "condition_mh_sa                           0.144291   1.155220\n",
       "prior_arrest_episodes_property            0.141249   1.151712\n",
       "prior_arrest_episodes_misd                0.138697   1.148776\n",
       "supervision_risk_score_first              0.126380   1.134714"
      ]
     },
     "execution_count": 244,
     "metadata": {},
     "output_type": "execute_result"
    }
   ],
   "source": [
    "lr_coef_df = pd.DataFrame(data=bayes.best_estimator_.coef_.reshape(-1,1),columns = ['coef'],index = X_train.columns).sort_values(by='coef',ascending=False)\n",
    "lr_coef_df['odd_ratio'] = lr_coef_df['coef'].apply(math.exp)\n",
    "lr_coef_df.head(10)"
   ]
  },
  {
   "cell_type": "code",
   "execution_count": null,
   "id": "b9d06057-93f6-4ec2-a886-1f4917b54cd3",
   "metadata": {
    "tags": []
   },
   "outputs": [],
   "source": [
    "r = permutation_importance(bayes,X_test,y_test,scoring='precision')\n",
    "\n",
    "for i in r.importances_mean.argsort()[::-1]:\n",
    "        if r.importances_mean[i] - 2 * r.importances_std[i] > 0:\n",
    "            print(f\"{X_test.columns[i]:<8}\"\n",
    "                  f\"{r.importances_mean[i]:.5f}\"\n",
    "                  f\" +/- {r.importances_std[i]:.3f}\")"
   ]
  },
  {
   "cell_type": "markdown",
   "id": "8a0a729a-3f30-46d0-a733-88240faf48ff",
   "metadata": {},
   "source": [
    "\n",
    "To further extend the positivity of feature reduction, a second degree polynomial transformer and PCA(300) to see if there was any benefit to the model. Overall, the model performed worse with the additional features. "
   ]
  },
  {
   "cell_type": "markdown",
   "id": "a92bd6f6-b6b0-4413-8279-ce236f1b4c3d",
   "metadata": {},
   "source": [
    "#### Random Forest Classifier \n",
    "BayesSearch over Random Forest Classifier "
   ]
  },
  {
   "cell_type": "code",
   "execution_count": 35,
   "id": "a90c40fc-7dcb-4ca2-862a-58520a4008b2",
   "metadata": {},
   "outputs": [],
   "source": [
    "rf = RandomForestClassifier(n_estimators=600, max_depth=3,min_samples_split=4,\n",
    "                                       min_samples_leaf=4)\n",
    "bayes_rf = BayesSearchCV(rf,scoring=brier_score,\n",
    "                      search_spaces = {'max_features':Integer(30,50)\n",
    "                        },\n",
    "                     cv= 3,\n",
    "                     n_jobs = -1)\n",
    "#bayes_rf.fit(X_train,y_train)"
   ]
  },
  {
   "cell_type": "markdown",
   "id": "a2c6d160-8097-4d40-b27a-32671af4c48c",
   "metadata": {},
   "source": [
    "Pickle Model and Dataframe of Coefficients"
   ]
  },
  {
   "cell_type": "code",
   "execution_count": 245,
   "id": "58764550-be41-43e8-bd7e-3cd6f29f2821",
   "metadata": {},
   "outputs": [],
   "source": [
    "#pickle.dump(bayes_rf,open('pickles/rf_bayes.pkl', 'wb'))\n",
    "bayes_rf = pickle.load(open('pickles/rf_bayes.pkl', 'rb'))"
   ]
  },
  {
   "cell_type": "markdown",
   "id": "ed4fc235-e269-43d4-a8a0-dd6c757f1808",
   "metadata": {},
   "source": [
    "Show brier scores and precision between train and testing."
   ]
  },
  {
   "cell_type": "code",
   "execution_count": 246,
   "id": "a46e783d-4569-40ea-a071-80f426100d0e",
   "metadata": {},
   "outputs": [
    {
     "name": "stdout",
     "output_type": "stream",
     "text": [
      "OrderedDict([('max_features', 49)])\n",
      "0.20451426683803325\n",
      "0.2049378276762102\n",
      "#############################\n"
     ]
    },
    {
     "name": "stderr",
     "output_type": "stream",
     "text": [
      "/Users/franknovak/opt/anaconda3/lib/python3.9/site-packages/sklearn/utils/deprecation.py:87: FutureWarning: Function plot_confusion_matrix is deprecated; Function `plot_confusion_matrix` is deprecated in 1.0 and will be removed in 1.2. Use one of the class methods: ConfusionMatrixDisplay.from_predictions or ConfusionMatrixDisplay.from_estimator.\n",
      "  warnings.warn(msg, category=FutureWarning)\n"
     ]
    },
    {
     "name": "stdout",
     "output_type": "stream",
     "text": [
      "0.6943614806769843\n",
      "0.6988660226795465\n"
     ]
    },
    {
     "data": {
      "image/png": "[encoded data removed]",
      "text/plain": [
       "<Figure size 640x480 with 2 Axes>"
      ]
     },
     "metadata": {},
     "output_type": "display_data"
    }
   ],
   "source": [
    "print(bayes_rf.best_params_)\n",
    "print(-bayes_rf.score(X_train,y_train))\n",
    "print(-bayes_rf.score(X_test,y_test))\n",
    "print(\"#############################\")\n",
    "plot_confusion_matrix(bayes_rf,X_test,y_test,display_labels=[\"Will not recid\",' Will recid'])\n",
    "plt.title(\"Random Forest Classifier Bayes Search\")\n",
    "print(precision_score(y_train,bayes_rf.predict(X_train)))\n",
    "print(precision_score(y_test,bayes_rf.predict(X_test)))"
   ]
  },
  {
   "cell_type": "code",
   "execution_count": 247,
   "id": "99e6bdbe-4ac1-40fe-adea-1abf20c00eda",
   "metadata": {},
   "outputs": [
    {
     "data": {
      "text/html": [
       "<div>\n",
       "<style scoped>\n",
       "    .dataframe tbody tr th:only-of-type {\n",
       "        vertical-align: middle;\n",
       "    }\n",
       "\n",
       "    .dataframe tbody tr th {\n",
       "        vertical-align: top;\n",
       "    }\n",
       "\n",
       "    .dataframe thead th {\n",
       "        text-align: right;\n",
       "    }\n",
       "</style>\n",
       "<table border=\"1\" class=\"dataframe\">\n",
       "  <thead>\n",
       "    <tr style=\"text-align: right;\">\n",
       "      <th></th>\n",
       "      <th>feature_importance</th>\n",
       "    </tr>\n",
       "  </thead>\n",
       "  <tbody>\n",
       "    <tr>\n",
       "      <th>percent_days_employed</th>\n",
       "      <td>0.448646</td>\n",
       "    </tr>\n",
       "    <tr>\n",
       "      <th>prior_arrest_episodes_ppviolationcharges</th>\n",
       "      <td>0.211622</td>\n",
       "    </tr>\n",
       "    <tr>\n",
       "      <th>gang_affiliated</th>\n",
       "      <td>0.106488</td>\n",
       "    </tr>\n",
       "    <tr>\n",
       "      <th>supervision_risk_score_first</th>\n",
       "      <td>0.064569</td>\n",
       "    </tr>\n",
       "    <tr>\n",
       "      <th>prior_arrest_episodes_felony</th>\n",
       "      <td>0.064504</td>\n",
       "    </tr>\n",
       "    <tr>\n",
       "      <th>age_at_release_48 or older</th>\n",
       "      <td>0.044195</td>\n",
       "    </tr>\n",
       "    <tr>\n",
       "      <th>prior_conviction_episodes_misd</th>\n",
       "      <td>0.013339</td>\n",
       "    </tr>\n",
       "    <tr>\n",
       "      <th>prior_arrest_episodes_misd</th>\n",
       "      <td>0.012134</td>\n",
       "    </tr>\n",
       "    <tr>\n",
       "      <th>prior_arrest_episodes_property</th>\n",
       "      <td>0.010263</td>\n",
       "    </tr>\n",
       "    <tr>\n",
       "      <th>avg_days_per_drugtest</th>\n",
       "      <td>0.008238</td>\n",
       "    </tr>\n",
       "  </tbody>\n",
       "</table>\n",
       "</div>"
      ],
      "text/plain": [
       "                                          feature_importance\n",
       "percent_days_employed                               0.448646\n",
       "prior_arrest_episodes_ppviolationcharges            0.211622\n",
       "gang_affiliated                                     0.106488\n",
       "supervision_risk_score_first                        0.064569\n",
       "prior_arrest_episodes_felony                        0.064504\n",
       "age_at_release_48 or older                          0.044195\n",
       "prior_conviction_episodes_misd                      0.013339\n",
       "prior_arrest_episodes_misd                          0.012134\n",
       "prior_arrest_episodes_property                      0.010263\n",
       "avg_days_per_drugtest                               0.008238"
      ]
     },
     "execution_count": 247,
     "metadata": {},
     "output_type": "execute_result"
    }
   ],
   "source": [
    "rf_coef_df = pd.DataFrame(data=bayes_rf.best_estimator_.feature_importances_.reshape(-1,1),\n",
    "                          columns = ['feature_importance'],\n",
    "                          index = bayes_rf.best_estimator_.feature_names_in_).sort_values(by='feature_importance',ascending=False)\n",
    "\n",
    "rf_coef_df.head(10)"
   ]
  },
  {
   "cell_type": "markdown",
   "id": "d6343835-3147-4a16-bd64-d22add7f92f2",
   "metadata": {},
   "source": [
    "Show Permutation Importances"
   ]
  },
  {
   "cell_type": "code",
   "execution_count": null,
   "id": "52df3304-44e8-4514-9cf8-15e100c1b4ac",
   "metadata": {},
   "outputs": [],
   "source": [
    "r = permutation_importance(bayes_rf,X_test,y_test,scoring='precision')\n",
    "\n",
    "for i in r.importances_mean.argsort()[::-1]:\n",
    "        if r.importances_mean[i] - 2 * r.importances_std[i] > 0:\n",
    "            print(f\"{X_test.columns[i]:<8}\"\n",
    "                  f\"{r.importances_mean[i]:.5f}\"\n",
    "                  f\" +/- {r.importances_std[i]:.3f}\")"
   ]
  },
  {
   "cell_type": "markdown",
   "id": "3610552b-27fb-48a5-beed-3dd9469b9ac5",
   "metadata": {},
   "source": [
    "### XGBoost\n",
    "BayesSearch overXGBoost Model"
   ]
  },
  {
   "cell_type": "code",
   "execution_count": null,
   "id": "84c4edb9-d546-4755-9a19-f605b30cfd2b",
   "metadata": {
    "scrolled": true,
    "tags": []
   },
   "outputs": [],
   "source": [
    "xgb = XGBClassifier(n_estimators = 187,max_depth=2,min_child_weight=2,gamma = 0.7,max_leaves = 2)\n",
    "bayes_xgb = BayesSearchCV(xgb,scoring=brier_score,\n",
    "                      search_spaces = {'learning_rate':Real(.05,.2)},\n",
    "                    cv= 3,\n",
    "                    n_jobs = -1,\n",
    "                    verbose=True)\n",
    "#bayes_xgb.fit(X_train,y_train)"
   ]
  },
  {
   "cell_type": "markdown",
   "id": "a328502f-5b9e-49ab-bd9d-79e14fd71c84",
   "metadata": {},
   "source": [
    "Pickle Model and Dataframe of Coefficients"
   ]
  },
  {
   "cell_type": "code",
   "execution_count": 141,
   "id": "63dd4f2a-6842-4233-bdba-9a852f42f17a",
   "metadata": {},
   "outputs": [],
   "source": [
    "#pickle.dump(bayes_xgb,open('pickles/xgb_bayes.pkl', 'wb'))\n",
    "bayes_xgb = pickle.load(open('pickles/xgb_bayes.pkl', 'rb'))"
   ]
  },
  {
   "cell_type": "markdown",
   "id": "78a561f0-d74a-4862-8aed-f670fc28637d",
   "metadata": {},
   "source": [
    "Show brier scores and precision between train and testing."
   ]
  },
  {
   "cell_type": "code",
   "execution_count": 240,
   "id": "b79b49ff-b6e3-48b3-9db9-838e12f98ac0",
   "metadata": {},
   "outputs": [
    {
     "name": "stdout",
     "output_type": "stream",
     "text": [
      "OrderedDict([('learning_rate', 0.1935013750351709)])\n",
      "0.17203865401202323\n",
      "0.182188910271718\n",
      "#############################\n"
     ]
    },
    {
     "name": "stderr",
     "output_type": "stream",
     "text": [
      "/Users/franknovak/opt/anaconda3/lib/python3.9/site-packages/sklearn/utils/deprecation.py:87: FutureWarning: Function plot_confusion_matrix is deprecated; Function `plot_confusion_matrix` is deprecated in 1.0 and will be removed in 1.2. Use one of the class methods: ConfusionMatrixDisplay.from_predictions or ConfusionMatrixDisplay.from_estimator.\n",
      "  warnings.warn(msg, category=FutureWarning)\n"
     ]
    },
    {
     "name": "stdout",
     "output_type": "stream",
     "text": [
      "0.7542709574890742\n",
      "0.7453416149068323\n"
     ]
    },
    {
     "data": {
      "image/png": "[encoded data removed]",
      "text/plain": [
       "<Figure size 640x480 with 2 Axes>"
      ]
     },
     "metadata": {},
     "output_type": "display_data"
    }
   ],
   "source": [
    "print(bayes_xgb.best_params_)\n",
    "print(-bayes_xgb.score(X_train,y_train))\n",
    "print(-bayes_xgb.score(X_test,y_test))\n",
    "print(\"#############################\")\n",
    "plot_confusion_matrix(bayes_xgb,X_test,y_test,display_labels=[\"Will not recid\",' Will recid'])\n",
    "plt.title(\"XGBoost Classifier Bayes Search\")\n",
    "print(precision_score(y_train,bayes_xgb.predict(X_train)))\n",
    "print(precision_score(y_test,bayes_xgb.predict(X_test)))"
   ]
  },
  {
   "cell_type": "markdown",
   "id": "457d46e4-bd89-44cc-8dd4-5f11857db625",
   "metadata": {},
   "source": [
    "Savee feature importances to a DataFrame."
   ]
  },
  {
   "cell_type": "code",
   "execution_count": 91,
   "id": "681d593c-458c-44ef-9014-dd0a1011bdad",
   "metadata": {},
   "outputs": [],
   "source": [
    "xbg_coef_df = pd.DataFrame(data=bayes_xgb.best_estimator_.feature_importances_.reshape(-1,1),columns = ['feature_importance'],index = bayes_xgb.best_estimator_.feature_names_in_).sort_values(by='feature_importance',ascending=False)\n",
    "xbg_coef_df.head(10)"
   ]
  },
  {
   "cell_type": "markdown",
   "id": "db9148a8-d662-4f98-8e03-f32791d6cde0",
   "metadata": {},
   "source": [
    "Show Permutation Importances"
   ]
  },
  {
   "cell_type": "code",
   "execution_count": 250,
   "id": "70d8186c-f394-4892-880b-d593e3468b7d",
   "metadata": {},
   "outputs": [
    {
     "name": "stdout",
     "output_type": "stream",
     "text": [
      "percent_days_employed0.05256 +/- 0.002\n",
      "avg_days_per_drugtest0.01174 +/- 0.002\n",
      "gang_affiliated0.01071 +/- 0.001\n",
      "prior_arrest_episodes_ppviolationcharges0.00679 +/- 0.002\n",
      "program_attendances0.00526 +/- 0.001\n",
      "drugtests_thc_positive0.00419 +/- 0.001\n",
      "condition_mh_sa0.00396 +/- 0.001\n",
      "gender  0.00385 +/- 0.000\n",
      "supervision_risk_score_first0.00331 +/- 0.001\n",
      "residence_changes0.00325 +/- 0.001\n",
      "age_at_release_23-270.00298 +/- 0.001\n",
      "age_at_release_18-220.00280 +/- 0.001\n",
      "prior_arrest_episodes_felony0.00227 +/- 0.001\n",
      "drugtests_meth_positive0.00211 +/- 0.001\n"
     ]
    }
   ],
   "source": [
    "r = permutation_importance(bayes_xgb,X_test,y_test,scoring='precision')\n",
    "\n",
    "for i in r.importances_mean.argsort()[::-1]:\n",
    "        if r.importances_mean[i] - 2 * r.importances_std[i] > 0:\n",
    "            print(f\"{X_test.columns[i]:<8}\"\n",
    "                  f\"{r.importances_mean[i]:.5f}\"\n",
    "                  f\" +/- {r.importances_std[i]:.3f}\")"
   ]
  },
  {
   "cell_type": "markdown",
   "id": "cefdbdea-5f90-483c-809e-9fca0c1b4e09",
   "metadata": {},
   "source": [
    "## Insights and Conclusions"
   ]
  },
  {
   "cell_type": "markdown",
   "id": "11af4d85-70bb-4b56-bc3a-cdc2469955fb",
   "metadata": {},
   "source": [
    "Overall, all models faired well with the data but XGBoost proved to have the best brier score overall. Logsitc regression was used in order to show feature importance of the data. Below are the comparison of model scores:  "
   ]
  },
  {
   "cell_type": "markdown",
   "id": "f197397a-e01f-49ba-8999-c05cb4125f0c",
   "metadata": {},
   "source": [
    "<img src=\"./plots/asset_model_perf.png\" align = 'center' width='600' height='700'/>"
   ]
  },
  {
   "cell_type": "markdown",
   "id": "de9ca3ba-2017-4fa5-8307-c5566a4f881a",
   "metadata": {},
   "source": [
    "Employment & program attendances decrease odds of recidivism. Barriers to employment need to be addressed. Individuals need guaranteed employment opportunities rather than finding jobs independently. Increased support for young individuals between the ages of 18-27 is needed to decrease recidivism rates. Poverty is shown to factor into recidivism. Individuals need wrap-around support including, but not limited to stable income and housing\n"
   ]
  },
  {
   "cell_type": "markdown",
   "id": "6b3932b8-f400-4492-96a4-acc4a0a2eabd",
   "metadata": {},
   "source": [
    "### Next Steps"
   ]
  },
  {
   "cell_type": "markdown",
   "id": "1a7e7ef0-fc6a-46f1-8032-6b5394118463",
   "metadata": {},
   "source": [
    "PUMAs data are grouped together to hide identity. It may be better if PUMAs were analyzed on a more granular level for better geographic insights. Compare models split on race and gender to compare bias and help improve false positive rate. Test out additional models such as Neural Networks to improve predictive ability. \n"
   ]
  }
 ],
 "metadata": {
  "kernelspec": {
   "display_name": "Python 3 (ipykernel)",
   "language": "python",
   "name": "python3"
  },
  "language_info": {
   "codemirror_mode": {
    "name": "ipython",
    "version": 3
   },
   "file_extension": ".py",
   "mimetype": "text/x-python",
   "name": "python",
   "nbconvert_exporter": "python",
   "pygments_lexer": "ipython3",
   "version": "3.9.13"
  }
 },
 "nbformat": 4,
 "nbformat_minor": 5
}
