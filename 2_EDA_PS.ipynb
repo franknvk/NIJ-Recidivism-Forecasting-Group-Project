{
 "cells": [
  {
   "cell_type": "code",
   "execution_count": 234,
   "id": "65d986b8-03ba-44ba-967d-14100e993e82",
   "metadata": {},
   "outputs": [],
   "source": [
    "#import libraries\n",
    "import pandas as pd\n",
    "import numpy as np\n",
    "import matplotlib.pyplot as plt\n",
    "import seaborn as sns\n",
    "import sklearn\n",
    "import tensorflow as tf"
   ]
  },
  {
   "cell_type": "code",
   "execution_count": 235,
   "id": "2cd70da5-29d3-4aec-8048-caa96105af3b",
   "metadata": {},
   "outputs": [],
   "source": [
    "recid_df = pd.read_csv('./data/NIJ_s_Recidivism_Challenge_Full_Dataset.csv')\n",
    "recid_df.columns = [x.lower() for x in recid_df]"
   ]
  },
  {
   "cell_type": "code",
   "execution_count": 236,
   "id": "f273a3d3-51ae-4838-bd04-c0c8393c38f5",
   "metadata": {},
   "outputs": [
    {
     "data": {
      "text/plain": [
       "id                                                     int64\n",
       "gender                                                object\n",
       "race                                                  object\n",
       "age_at_release                                        object\n",
       "residence_puma                                         int64\n",
       "gang_affiliated                                       object\n",
       "supervision_risk_score_first                         float64\n",
       "supervision_level_first                               object\n",
       "education_level                                       object\n",
       "dependents                                            object\n",
       "prison_offense                                        object\n",
       "prison_years                                          object\n",
       "prior_arrest_episodes_felony                          object\n",
       "prior_arrest_episodes_misd                            object\n",
       "prior_arrest_episodes_violent                         object\n",
       "prior_arrest_episodes_property                        object\n",
       "prior_arrest_episodes_drug                            object\n",
       "prior_arrest_episodes_ppviolationcharges              object\n",
       "prior_arrest_episodes_dvcharges                         bool\n",
       "prior_arrest_episodes_guncharges                        bool\n",
       "prior_conviction_episodes_felony                      object\n",
       "prior_conviction_episodes_misd                        object\n",
       "prior_conviction_episodes_viol                          bool\n",
       "prior_conviction_episodes_prop                        object\n",
       "prior_conviction_episodes_drug                        object\n",
       "prior_conviction_episodes_ppviolationcharges            bool\n",
       "prior_conviction_episodes_domesticviolencecharges       bool\n",
       "prior_conviction_episodes_guncharges                    bool\n",
       "prior_revocations_parole                                bool\n",
       "prior_revocations_probation                             bool\n",
       "condition_mh_sa                                         bool\n",
       "condition_cog_ed                                        bool\n",
       "condition_other                                         bool\n",
       "violations_electronicmonitoring                         bool\n",
       "violations_instruction                                  bool\n",
       "violations_failtoreport                                 bool\n",
       "violations_movewithoutpermission                        bool\n",
       "delinquency_reports                                   object\n",
       "program_attendances                                   object\n",
       "program_unexcusedabsences                             object\n",
       "residence_changes                                     object\n",
       "avg_days_per_drugtest                                float64\n",
       "drugtests_thc_positive                               float64\n",
       "drugtests_cocaine_positive                           float64\n",
       "drugtests_meth_positive                              float64\n",
       "drugtests_other_positive                             float64\n",
       "percent_days_employed                                float64\n",
       "jobs_per_year                                        float64\n",
       "employment_exempt                                       bool\n",
       "recidivism_within_3years                                bool\n",
       "recidivism_arrest_year1                                 bool\n",
       "recidivism_arrest_year2                                 bool\n",
       "recidivism_arrest_year3                                 bool\n",
       "training_sample                                        int64\n",
       "dtype: object"
      ]
     },
     "execution_count": 236,
     "metadata": {},
     "output_type": "execute_result"
    }
   ],
   "source": [
    "recid_df.dtypes"
   ]
  },
  {
   "cell_type": "code",
   "execution_count": 237,
   "id": "dd586a78-3b3b-469f-a219-4448ffd3b40c",
   "metadata": {},
   "outputs": [
    {
     "data": {
      "text/html": [
       "<div>\n",
       "<style scoped>\n",
       "    .dataframe tbody tr th:only-of-type {\n",
       "        vertical-align: middle;\n",
       "    }\n",
       "\n",
       "    .dataframe tbody tr th {\n",
       "        vertical-align: top;\n",
       "    }\n",
       "\n",
       "    .dataframe thead th {\n",
       "        text-align: right;\n",
       "    }\n",
       "</style>\n",
       "<table border=\"1\" class=\"dataframe\">\n",
       "  <thead>\n",
       "    <tr style=\"text-align: right;\">\n",
       "      <th></th>\n",
       "      <th>id</th>\n",
       "      <th>gender</th>\n",
       "      <th>race</th>\n",
       "      <th>age_at_release</th>\n",
       "      <th>residence_puma</th>\n",
       "      <th>gang_affiliated</th>\n",
       "      <th>supervision_risk_score_first</th>\n",
       "      <th>supervision_level_first</th>\n",
       "      <th>education_level</th>\n",
       "      <th>dependents</th>\n",
       "      <th>...</th>\n",
       "      <th>drugtests_meth_positive</th>\n",
       "      <th>drugtests_other_positive</th>\n",
       "      <th>percent_days_employed</th>\n",
       "      <th>jobs_per_year</th>\n",
       "      <th>employment_exempt</th>\n",
       "      <th>recidivism_within_3years</th>\n",
       "      <th>recidivism_arrest_year1</th>\n",
       "      <th>recidivism_arrest_year2</th>\n",
       "      <th>recidivism_arrest_year3</th>\n",
       "      <th>training_sample</th>\n",
       "    </tr>\n",
       "  </thead>\n",
       "  <tbody>\n",
       "    <tr>\n",
       "      <th>0</th>\n",
       "      <td>1</td>\n",
       "      <td>M</td>\n",
       "      <td>BLACK</td>\n",
       "      <td>43-47</td>\n",
       "      <td>16</td>\n",
       "      <td>False</td>\n",
       "      <td>3.0</td>\n",
       "      <td>Standard</td>\n",
       "      <td>At least some college</td>\n",
       "      <td>3 or more</td>\n",
       "      <td>...</td>\n",
       "      <td>0.000000</td>\n",
       "      <td>0.0</td>\n",
       "      <td>0.488562</td>\n",
       "      <td>0.447610</td>\n",
       "      <td>False</td>\n",
       "      <td>False</td>\n",
       "      <td>False</td>\n",
       "      <td>False</td>\n",
       "      <td>False</td>\n",
       "      <td>1</td>\n",
       "    </tr>\n",
       "    <tr>\n",
       "      <th>1</th>\n",
       "      <td>2</td>\n",
       "      <td>M</td>\n",
       "      <td>BLACK</td>\n",
       "      <td>33-37</td>\n",
       "      <td>16</td>\n",
       "      <td>False</td>\n",
       "      <td>6.0</td>\n",
       "      <td>Specialized</td>\n",
       "      <td>Less than HS diploma</td>\n",
       "      <td>1</td>\n",
       "      <td>...</td>\n",
       "      <td>0.000000</td>\n",
       "      <td>0.0</td>\n",
       "      <td>0.425234</td>\n",
       "      <td>2.000000</td>\n",
       "      <td>False</td>\n",
       "      <td>True</td>\n",
       "      <td>False</td>\n",
       "      <td>False</td>\n",
       "      <td>True</td>\n",
       "      <td>1</td>\n",
       "    </tr>\n",
       "    <tr>\n",
       "      <th>2</th>\n",
       "      <td>3</td>\n",
       "      <td>M</td>\n",
       "      <td>BLACK</td>\n",
       "      <td>48 or older</td>\n",
       "      <td>24</td>\n",
       "      <td>False</td>\n",
       "      <td>7.0</td>\n",
       "      <td>High</td>\n",
       "      <td>At least some college</td>\n",
       "      <td>3 or more</td>\n",
       "      <td>...</td>\n",
       "      <td>0.166667</td>\n",
       "      <td>0.0</td>\n",
       "      <td>0.000000</td>\n",
       "      <td>0.000000</td>\n",
       "      <td>False</td>\n",
       "      <td>True</td>\n",
       "      <td>False</td>\n",
       "      <td>True</td>\n",
       "      <td>False</td>\n",
       "      <td>1</td>\n",
       "    </tr>\n",
       "    <tr>\n",
       "      <th>3</th>\n",
       "      <td>4</td>\n",
       "      <td>M</td>\n",
       "      <td>WHITE</td>\n",
       "      <td>38-42</td>\n",
       "      <td>16</td>\n",
       "      <td>False</td>\n",
       "      <td>7.0</td>\n",
       "      <td>High</td>\n",
       "      <td>Less than HS diploma</td>\n",
       "      <td>1</td>\n",
       "      <td>...</td>\n",
       "      <td>0.000000</td>\n",
       "      <td>0.0</td>\n",
       "      <td>1.000000</td>\n",
       "      <td>0.718996</td>\n",
       "      <td>False</td>\n",
       "      <td>False</td>\n",
       "      <td>False</td>\n",
       "      <td>False</td>\n",
       "      <td>False</td>\n",
       "      <td>1</td>\n",
       "    </tr>\n",
       "    <tr>\n",
       "      <th>4</th>\n",
       "      <td>5</td>\n",
       "      <td>M</td>\n",
       "      <td>WHITE</td>\n",
       "      <td>33-37</td>\n",
       "      <td>16</td>\n",
       "      <td>False</td>\n",
       "      <td>4.0</td>\n",
       "      <td>Specialized</td>\n",
       "      <td>Less than HS diploma</td>\n",
       "      <td>3 or more</td>\n",
       "      <td>...</td>\n",
       "      <td>0.058824</td>\n",
       "      <td>0.0</td>\n",
       "      <td>0.203562</td>\n",
       "      <td>0.929389</td>\n",
       "      <td>False</td>\n",
       "      <td>True</td>\n",
       "      <td>True</td>\n",
       "      <td>False</td>\n",
       "      <td>False</td>\n",
       "      <td>1</td>\n",
       "    </tr>\n",
       "  </tbody>\n",
       "</table>\n",
       "<p>5 rows × 54 columns</p>\n",
       "</div>"
      ],
      "text/plain": [
       "   id gender   race age_at_release  residence_puma gang_affiliated  \\\n",
       "0   1      M  BLACK          43-47              16           False   \n",
       "1   2      M  BLACK          33-37              16           False   \n",
       "2   3      M  BLACK    48 or older              24           False   \n",
       "3   4      M  WHITE          38-42              16           False   \n",
       "4   5      M  WHITE          33-37              16           False   \n",
       "\n",
       "   supervision_risk_score_first supervision_level_first  \\\n",
       "0                           3.0                Standard   \n",
       "1                           6.0             Specialized   \n",
       "2                           7.0                    High   \n",
       "3                           7.0                    High   \n",
       "4                           4.0             Specialized   \n",
       "\n",
       "         education_level dependents  ... drugtests_meth_positive  \\\n",
       "0  At least some college  3 or more  ...                0.000000   \n",
       "1   Less than HS diploma          1  ...                0.000000   \n",
       "2  At least some college  3 or more  ...                0.166667   \n",
       "3   Less than HS diploma          1  ...                0.000000   \n",
       "4   Less than HS diploma  3 or more  ...                0.058824   \n",
       "\n",
       "  drugtests_other_positive percent_days_employed jobs_per_year  \\\n",
       "0                      0.0              0.488562      0.447610   \n",
       "1                      0.0              0.425234      2.000000   \n",
       "2                      0.0              0.000000      0.000000   \n",
       "3                      0.0              1.000000      0.718996   \n",
       "4                      0.0              0.203562      0.929389   \n",
       "\n",
       "  employment_exempt recidivism_within_3years recidivism_arrest_year1  \\\n",
       "0             False                    False                   False   \n",
       "1             False                     True                   False   \n",
       "2             False                     True                   False   \n",
       "3             False                    False                   False   \n",
       "4             False                     True                    True   \n",
       "\n",
       "  recidivism_arrest_year2  recidivism_arrest_year3  training_sample  \n",
       "0                   False                    False                1  \n",
       "1                   False                     True                1  \n",
       "2                    True                    False                1  \n",
       "3                   False                    False                1  \n",
       "4                   False                    False                1  \n",
       "\n",
       "[5 rows x 54 columns]"
      ]
     },
     "execution_count": 237,
     "metadata": {},
     "output_type": "execute_result"
    }
   ],
   "source": [
    "recid_df.head()"
   ]
  },
  {
   "cell_type": "code",
   "execution_count": 99,
   "id": "57106229-4fc0-4116-9389-6bfae9a15879",
   "metadata": {},
   "outputs": [
    {
     "data": {
      "text/html": [
       "<div>\n",
       "<style scoped>\n",
       "    .dataframe tbody tr th:only-of-type {\n",
       "        vertical-align: middle;\n",
       "    }\n",
       "\n",
       "    .dataframe tbody tr th {\n",
       "        vertical-align: top;\n",
       "    }\n",
       "\n",
       "    .dataframe thead th {\n",
       "        text-align: right;\n",
       "    }\n",
       "</style>\n",
       "<table border=\"1\" class=\"dataframe\">\n",
       "  <thead>\n",
       "    <tr style=\"text-align: right;\">\n",
       "      <th></th>\n",
       "      <th>id</th>\n",
       "      <th>gender</th>\n",
       "      <th>race</th>\n",
       "      <th>age_at_release</th>\n",
       "      <th>residence_puma</th>\n",
       "      <th>gang_affiliated</th>\n",
       "      <th>supervision_risk_score_first</th>\n",
       "      <th>supervision_level_first</th>\n",
       "      <th>education_level</th>\n",
       "      <th>dependents</th>\n",
       "      <th>...</th>\n",
       "      <th>drugtests_meth_positive</th>\n",
       "      <th>drugtests_other_positive</th>\n",
       "      <th>percent_days_employed</th>\n",
       "      <th>jobs_per_year</th>\n",
       "      <th>employment_exempt</th>\n",
       "      <th>recidivism_within_3years</th>\n",
       "      <th>recidivism_arrest_year1</th>\n",
       "      <th>recidivism_arrest_year2</th>\n",
       "      <th>recidivism_arrest_year3</th>\n",
       "      <th>training_sample</th>\n",
       "    </tr>\n",
       "  </thead>\n",
       "  <tbody>\n",
       "    <tr>\n",
       "      <th>0</th>\n",
       "      <td>1</td>\n",
       "      <td>M</td>\n",
       "      <td>BLACK</td>\n",
       "      <td>43-47</td>\n",
       "      <td>16</td>\n",
       "      <td>False</td>\n",
       "      <td>3.0</td>\n",
       "      <td>Standard</td>\n",
       "      <td>At least some college</td>\n",
       "      <td>3 or more</td>\n",
       "      <td>...</td>\n",
       "      <td>0.000000</td>\n",
       "      <td>0.0</td>\n",
       "      <td>0.488562</td>\n",
       "      <td>0.447610</td>\n",
       "      <td>False</td>\n",
       "      <td>False</td>\n",
       "      <td>False</td>\n",
       "      <td>False</td>\n",
       "      <td>False</td>\n",
       "      <td>1</td>\n",
       "    </tr>\n",
       "    <tr>\n",
       "      <th>1</th>\n",
       "      <td>2</td>\n",
       "      <td>M</td>\n",
       "      <td>BLACK</td>\n",
       "      <td>33-37</td>\n",
       "      <td>16</td>\n",
       "      <td>False</td>\n",
       "      <td>6.0</td>\n",
       "      <td>Specialized</td>\n",
       "      <td>Less than HS diploma</td>\n",
       "      <td>1</td>\n",
       "      <td>...</td>\n",
       "      <td>0.000000</td>\n",
       "      <td>0.0</td>\n",
       "      <td>0.425234</td>\n",
       "      <td>2.000000</td>\n",
       "      <td>False</td>\n",
       "      <td>True</td>\n",
       "      <td>False</td>\n",
       "      <td>False</td>\n",
       "      <td>True</td>\n",
       "      <td>1</td>\n",
       "    </tr>\n",
       "    <tr>\n",
       "      <th>2</th>\n",
       "      <td>3</td>\n",
       "      <td>M</td>\n",
       "      <td>BLACK</td>\n",
       "      <td>48 or older</td>\n",
       "      <td>24</td>\n",
       "      <td>False</td>\n",
       "      <td>7.0</td>\n",
       "      <td>High</td>\n",
       "      <td>At least some college</td>\n",
       "      <td>3 or more</td>\n",
       "      <td>...</td>\n",
       "      <td>0.166667</td>\n",
       "      <td>0.0</td>\n",
       "      <td>0.000000</td>\n",
       "      <td>0.000000</td>\n",
       "      <td>False</td>\n",
       "      <td>True</td>\n",
       "      <td>False</td>\n",
       "      <td>True</td>\n",
       "      <td>False</td>\n",
       "      <td>1</td>\n",
       "    </tr>\n",
       "    <tr>\n",
       "      <th>3</th>\n",
       "      <td>4</td>\n",
       "      <td>M</td>\n",
       "      <td>WHITE</td>\n",
       "      <td>38-42</td>\n",
       "      <td>16</td>\n",
       "      <td>False</td>\n",
       "      <td>7.0</td>\n",
       "      <td>High</td>\n",
       "      <td>Less than HS diploma</td>\n",
       "      <td>1</td>\n",
       "      <td>...</td>\n",
       "      <td>0.000000</td>\n",
       "      <td>0.0</td>\n",
       "      <td>1.000000</td>\n",
       "      <td>0.718996</td>\n",
       "      <td>False</td>\n",
       "      <td>False</td>\n",
       "      <td>False</td>\n",
       "      <td>False</td>\n",
       "      <td>False</td>\n",
       "      <td>1</td>\n",
       "    </tr>\n",
       "    <tr>\n",
       "      <th>4</th>\n",
       "      <td>5</td>\n",
       "      <td>M</td>\n",
       "      <td>WHITE</td>\n",
       "      <td>33-37</td>\n",
       "      <td>16</td>\n",
       "      <td>False</td>\n",
       "      <td>4.0</td>\n",
       "      <td>Specialized</td>\n",
       "      <td>Less than HS diploma</td>\n",
       "      <td>3 or more</td>\n",
       "      <td>...</td>\n",
       "      <td>0.058824</td>\n",
       "      <td>0.0</td>\n",
       "      <td>0.203562</td>\n",
       "      <td>0.929389</td>\n",
       "      <td>False</td>\n",
       "      <td>True</td>\n",
       "      <td>True</td>\n",
       "      <td>False</td>\n",
       "      <td>False</td>\n",
       "      <td>1</td>\n",
       "    </tr>\n",
       "  </tbody>\n",
       "</table>\n",
       "<p>5 rows × 54 columns</p>\n",
       "</div>"
      ],
      "text/plain": [
       "   id gender   race age_at_release  residence_puma gang_affiliated  \\\n",
       "0   1      M  BLACK          43-47              16           False   \n",
       "1   2      M  BLACK          33-37              16           False   \n",
       "2   3      M  BLACK    48 or older              24           False   \n",
       "3   4      M  WHITE          38-42              16           False   \n",
       "4   5      M  WHITE          33-37              16           False   \n",
       "\n",
       "   supervision_risk_score_first supervision_level_first  \\\n",
       "0                           3.0                Standard   \n",
       "1                           6.0             Specialized   \n",
       "2                           7.0                    High   \n",
       "3                           7.0                    High   \n",
       "4                           4.0             Specialized   \n",
       "\n",
       "         education_level dependents  ... drugtests_meth_positive  \\\n",
       "0  At least some college  3 or more  ...                0.000000   \n",
       "1   Less than HS diploma          1  ...                0.000000   \n",
       "2  At least some college  3 or more  ...                0.166667   \n",
       "3   Less than HS diploma          1  ...                0.000000   \n",
       "4   Less than HS diploma  3 or more  ...                0.058824   \n",
       "\n",
       "  drugtests_other_positive percent_days_employed jobs_per_year  \\\n",
       "0                      0.0              0.488562      0.447610   \n",
       "1                      0.0              0.425234      2.000000   \n",
       "2                      0.0              0.000000      0.000000   \n",
       "3                      0.0              1.000000      0.718996   \n",
       "4                      0.0              0.203562      0.929389   \n",
       "\n",
       "  employment_exempt recidivism_within_3years recidivism_arrest_year1  \\\n",
       "0             False                    False                   False   \n",
       "1             False                     True                   False   \n",
       "2             False                     True                   False   \n",
       "3             False                    False                   False   \n",
       "4             False                     True                    True   \n",
       "\n",
       "  recidivism_arrest_year2  recidivism_arrest_year3  training_sample  \n",
       "0                   False                    False                1  \n",
       "1                   False                     True                1  \n",
       "2                    True                    False                1  \n",
       "3                   False                    False                1  \n",
       "4                   False                    False                1  \n",
       "\n",
       "[5 rows x 54 columns]"
      ]
     },
     "execution_count": 99,
     "metadata": {},
     "output_type": "execute_result"
    }
   ],
   "source": [
    "recid_df.head()"
   ]
  },
  {
   "cell_type": "code",
   "execution_count": 113,
   "id": "4045f27e-aa18-4829-9929-89f6d21bd047",
   "metadata": {},
   "outputs": [],
   "source": [
    "# recid_df_agg = recid_df.groupby(['education_level'])[['recidivism_arrest_year1', 'recidivism_arrest_year2', 'recidivism_arrest_year3', \n",
    "#                                        'recidivism_within_3years']].agg({ 'recidivism_arrest_year1': 'sum',\n",
    "#                                         'recidivism_arrest_year2': 'sum', 'recidivism_arrest_year3': 'sum', \n",
    "#                                         'recidivism_within_3years': 'count',})  #recidivism_within_3years"
   ]
  },
  {
   "cell_type": "code",
   "execution_count": 127,
   "id": "b9407cde-2a9f-4dd7-bfa2-c74998009d6b",
   "metadata": {},
   "outputs": [],
   "source": [
    "recid_df_agg = recid_df.groupby(['education_level'])[['recidivism_arrest_year1', 'recidivism_arrest_year2', 'recidivism_arrest_year3', 'recidivism_within_3years']].sum()"
   ]
  },
  {
   "cell_type": "code",
   "execution_count": 128,
   "id": "02176029-a95b-46b3-9758-5e6c3c68f3c7",
   "metadata": {},
   "outputs": [],
   "source": [
    "recid_df_agg['percent_year1'] = recid_df_agg['recidivism_arrest_year1']/recid_df_agg['recidivism_within_3years']\n",
    "recid_df_agg['percent_year2'] = recid_df_agg['recidivism_arrest_year2']/recid_df_agg['recidivism_within_3years']\n",
    "recid_df_agg['percent_year3'] = recid_df_agg['recidivism_arrest_year3']/recid_df_agg['recidivism_within_3years']"
   ]
  },
  {
   "cell_type": "code",
   "execution_count": 129,
   "id": "8b8b633e-55b8-4a7b-b586-d54e59050b25",
   "metadata": {},
   "outputs": [],
   "source": []
  },
  {
   "cell_type": "code",
   "execution_count": 238,
   "id": "10da316d-4cf0-4b4f-8683-3aa4796a05fb",
   "metadata": {},
   "outputs": [
    {
     "data": {
      "text/html": [
       "<div>\n",
       "<style scoped>\n",
       "    .dataframe tbody tr th:only-of-type {\n",
       "        vertical-align: middle;\n",
       "    }\n",
       "\n",
       "    .dataframe tbody tr th {\n",
       "        vertical-align: top;\n",
       "    }\n",
       "\n",
       "    .dataframe thead th {\n",
       "        text-align: right;\n",
       "    }\n",
       "</style>\n",
       "<table border=\"1\" class=\"dataframe\">\n",
       "  <thead>\n",
       "    <tr style=\"text-align: right;\">\n",
       "      <th></th>\n",
       "      <th>recidivism_arrest_year1</th>\n",
       "      <th>recidivism_arrest_year2</th>\n",
       "      <th>recidivism_arrest_year3</th>\n",
       "      <th>recidivism_within_3years</th>\n",
       "      <th>percent_year1</th>\n",
       "      <th>percent_year2</th>\n",
       "      <th>percent_year3</th>\n",
       "    </tr>\n",
       "    <tr>\n",
       "      <th>education_level</th>\n",
       "      <th></th>\n",
       "      <th></th>\n",
       "      <th></th>\n",
       "      <th></th>\n",
       "      <th></th>\n",
       "      <th></th>\n",
       "      <th></th>\n",
       "    </tr>\n",
       "  </thead>\n",
       "  <tbody>\n",
       "    <tr>\n",
       "      <th>At least some college</th>\n",
       "      <td>1024</td>\n",
       "      <td>668</td>\n",
       "      <td>372</td>\n",
       "      <td>2064</td>\n",
       "      <td>0.496124</td>\n",
       "      <td>0.323643</td>\n",
       "      <td>0.180233</td>\n",
       "    </tr>\n",
       "    <tr>\n",
       "      <th>High School Diploma</th>\n",
       "      <td>3575</td>\n",
       "      <td>2127</td>\n",
       "      <td>1180</td>\n",
       "      <td>6882</td>\n",
       "      <td>0.519471</td>\n",
       "      <td>0.309067</td>\n",
       "      <td>0.171462</td>\n",
       "    </tr>\n",
       "    <tr>\n",
       "      <th>Less than HS diploma</th>\n",
       "      <td>3125</td>\n",
       "      <td>1772</td>\n",
       "      <td>1061</td>\n",
       "      <td>5958</td>\n",
       "      <td>0.524505</td>\n",
       "      <td>0.297415</td>\n",
       "      <td>0.178080</td>\n",
       "    </tr>\n",
       "  </tbody>\n",
       "</table>\n",
       "</div>"
      ],
      "text/plain": [
       "                       recidivism_arrest_year1  recidivism_arrest_year2  \\\n",
       "education_level                                                           \n",
       "At least some college                     1024                      668   \n",
       "High School Diploma                       3575                     2127   \n",
       "Less than HS diploma                      3125                     1772   \n",
       "\n",
       "                       recidivism_arrest_year3  recidivism_within_3years  \\\n",
       "education_level                                                            \n",
       "At least some college                      372                      2064   \n",
       "High School Diploma                       1180                      6882   \n",
       "Less than HS diploma                      1061                      5958   \n",
       "\n",
       "                       percent_year1  percent_year2  percent_year3  \n",
       "education_level                                                     \n",
       "At least some college       0.496124       0.323643       0.180233  \n",
       "High School Diploma         0.519471       0.309067       0.171462  \n",
       "Less than HS diploma        0.524505       0.297415       0.178080  "
      ]
     },
     "execution_count": 238,
     "metadata": {},
     "output_type": "execute_result"
    }
   ],
   "source": [
    "recid_df_agg.head()"
   ]
  },
  {
   "cell_type": "code",
   "execution_count": 239,
   "id": "20b4f65b-5ad9-465a-a07b-ea6d7d2286eb",
   "metadata": {},
   "outputs": [
    {
     "data": {
      "text/plain": [
       "<AxesSubplot:ylabel='education_level'>"
      ]
     },
     "execution_count": 239,
     "metadata": {},
     "output_type": "execute_result"
    },
    {
     "data": {
      "image/png": "[encoded data removed]",
      "text/plain": [
       "<Figure size 432x288 with 1 Axes>"
      ]
     },
     "metadata": {
      "needs_background": "light"
     },
     "output_type": "display_data"
    }
   ],
   "source": [
    "recid_df_agg[['percent_year1', 'percent_year2', 'percent_year3']].plot(kind = 'barh')"
   ]
  },
  {
   "cell_type": "code",
   "execution_count": 160,
   "id": "cd255d92-3ba5-4a20-a086-6ea1f3cc5bd3",
   "metadata": {},
   "outputs": [
    {
     "data": {
      "text/plain": [
       "recidivism_arrest_year1      7724\n",
       "recidivism_arrest_year2      4567\n",
       "recidivism_arrest_year3      2613\n",
       "recidivism_within_3years    14904\n",
       "dtype: int64"
      ]
     },
     "execution_count": 160,
     "metadata": {},
     "output_type": "execute_result"
    }
   ],
   "source": [
    "recid_df[['recidivism_arrest_year1', 'recidivism_arrest_year2', 'recidivism_arrest_year3', 'recidivism_within_3years']].sum()"
   ]
  },
  {
   "cell_type": "code",
   "execution_count": 165,
   "id": "0098d53a-445f-4b39-b2cf-ede6f0cd525c",
   "metadata": {},
   "outputs": [
    {
     "name": "stderr",
     "output_type": "stream",
     "text": [
      "/var/folders/3j/my4n0ykx0yb51nj_xv6qbxp40000gn/T/ipykernel_33175/1574314696.py:1: FutureWarning: Indexing with multiple keys (implicitly converted to a tuple of keys) will be deprecated, use a list instead.\n",
      "  recid_df_sup = recid_df.groupby(['prison_offense'])['recidivism_arrest_year1', 'recidivism_arrest_year2', 'recidivism_arrest_year3', 'recidivism_within_3years'].sum()\n"
     ]
    }
   ],
   "source": [
    "recid_df_sup = recid_df.groupby(['prison_offense'])['recidivism_arrest_year1', 'recidivism_arrest_year2', 'recidivism_arrest_year3', 'recidivism_within_3years'].sum()"
   ]
  },
  {
   "cell_type": "code",
   "execution_count": 166,
   "id": "f8e05487-524b-405f-b058-c4e096282262",
   "metadata": {},
   "outputs": [],
   "source": [
    "recid_df_sup['percent_year1'] = recid_df_sup['recidivism_arrest_year1']/recid_df_sup['recidivism_within_3years']"
   ]
  },
  {
   "cell_type": "code",
   "execution_count": 167,
   "id": "b656e55f-c2c2-4a86-a090-e58e96b64dfb",
   "metadata": {},
   "outputs": [],
   "source": [
    "recid_df_sup['percent_year2'] = recid_df_sup['recidivism_arrest_year2']/recid_df_sup['recidivism_within_3years']\n",
    "recid_df_sup['percent_year3'] = recid_df_sup['recidivism_arrest_year3']/recid_df_sup['recidivism_within_3years']"
   ]
  },
  {
   "cell_type": "code",
   "execution_count": 232,
   "id": "2411a93e-0f4e-486f-99af-afab6fa03a8a",
   "metadata": {},
   "outputs": [
    {
     "ename": "KeyError",
     "evalue": "\"['recidivism_arrest_year1', 'recidivism_arrest_year2', 'recidivism_arrest_year3', 'recidivism_within_3years'] not found in axis\"",
     "output_type": "error",
     "traceback": [
      "\u001b[0;31m---------------------------------------------------------------------------\u001b[0m",
      "\u001b[0;31mKeyError\u001b[0m                                  Traceback (most recent call last)",
      "\u001b[0;32m/var/folders/3j/my4n0ykx0yb51nj_xv6qbxp40000gn/T/ipykernel_33175/2360384089.py\u001b[0m in \u001b[0;36m<module>\u001b[0;34m\u001b[0m\n\u001b[0;32m----> 1\u001b[0;31m \u001b[0mrecid_df_sup\u001b[0m \u001b[0;34m=\u001b[0m \u001b[0mrecid_df_sup\u001b[0m\u001b[0;34m.\u001b[0m\u001b[0mdrop\u001b[0m\u001b[0;34m(\u001b[0m\u001b[0;34m[\u001b[0m\u001b[0;34m'recidivism_arrest_year1'\u001b[0m\u001b[0;34m,\u001b[0m \u001b[0;34m'recidivism_arrest_year2'\u001b[0m\u001b[0;34m,\u001b[0m \u001b[0;34m'recidivism_arrest_year3'\u001b[0m\u001b[0;34m,\u001b[0m \u001b[0;34m'recidivism_within_3years'\u001b[0m\u001b[0;34m]\u001b[0m\u001b[0;34m,\u001b[0m \u001b[0maxis\u001b[0m\u001b[0;34m=\u001b[0m\u001b[0;36m1\u001b[0m\u001b[0;34m)\u001b[0m\u001b[0;34m\u001b[0m\u001b[0;34m\u001b[0m\u001b[0m\n\u001b[0m",
      "\u001b[0;32m~/opt/anaconda3/envs/dsi/lib/python3.9/site-packages/pandas/util/_decorators.py\u001b[0m in \u001b[0;36mwrapper\u001b[0;34m(*args, **kwargs)\u001b[0m\n\u001b[1;32m    329\u001b[0m                     \u001b[0mstacklevel\u001b[0m\u001b[0;34m=\u001b[0m\u001b[0mfind_stack_level\u001b[0m\u001b[0;34m(\u001b[0m\u001b[0;34m)\u001b[0m\u001b[0;34m,\u001b[0m\u001b[0;34m\u001b[0m\u001b[0;34m\u001b[0m\u001b[0m\n\u001b[1;32m    330\u001b[0m                 )\n\u001b[0;32m--> 331\u001b[0;31m             \u001b[0;32mreturn\u001b[0m \u001b[0mfunc\u001b[0m\u001b[0;34m(\u001b[0m\u001b[0;34m*\u001b[0m\u001b[0margs\u001b[0m\u001b[0;34m,\u001b[0m \u001b[0;34m**\u001b[0m\u001b[0mkwargs\u001b[0m\u001b[0;34m)\u001b[0m\u001b[0;34m\u001b[0m\u001b[0;34m\u001b[0m\u001b[0m\n\u001b[0m\u001b[1;32m    332\u001b[0m \u001b[0;34m\u001b[0m\u001b[0m\n\u001b[1;32m    333\u001b[0m         \u001b[0;31m# error: \"Callable[[VarArg(Any), KwArg(Any)], Any]\" has no\u001b[0m\u001b[0;34m\u001b[0m\u001b[0;34m\u001b[0m\u001b[0m\n",
      "\u001b[0;32m~/opt/anaconda3/envs/dsi/lib/python3.9/site-packages/pandas/core/frame.py\u001b[0m in \u001b[0;36mdrop\u001b[0;34m(self, labels, axis, index, columns, level, inplace, errors)\u001b[0m\n\u001b[1;32m   5394\u001b[0m                 \u001b[0mweight\u001b[0m  \u001b[0;36m1.0\u001b[0m     \u001b[0;36m0.8\u001b[0m\u001b[0;34m\u001b[0m\u001b[0;34m\u001b[0m\u001b[0m\n\u001b[1;32m   5395\u001b[0m         \"\"\"\n\u001b[0;32m-> 5396\u001b[0;31m         return super().drop(\n\u001b[0m\u001b[1;32m   5397\u001b[0m             \u001b[0mlabels\u001b[0m\u001b[0;34m=\u001b[0m\u001b[0mlabels\u001b[0m\u001b[0;34m,\u001b[0m\u001b[0;34m\u001b[0m\u001b[0;34m\u001b[0m\u001b[0m\n\u001b[1;32m   5398\u001b[0m             \u001b[0maxis\u001b[0m\u001b[0;34m=\u001b[0m\u001b[0maxis\u001b[0m\u001b[0;34m,\u001b[0m\u001b[0;34m\u001b[0m\u001b[0;34m\u001b[0m\u001b[0m\n",
      "\u001b[0;32m~/opt/anaconda3/envs/dsi/lib/python3.9/site-packages/pandas/util/_decorators.py\u001b[0m in \u001b[0;36mwrapper\u001b[0;34m(*args, **kwargs)\u001b[0m\n\u001b[1;32m    329\u001b[0m                     \u001b[0mstacklevel\u001b[0m\u001b[0;34m=\u001b[0m\u001b[0mfind_stack_level\u001b[0m\u001b[0;34m(\u001b[0m\u001b[0;34m)\u001b[0m\u001b[0;34m,\u001b[0m\u001b[0;34m\u001b[0m\u001b[0;34m\u001b[0m\u001b[0m\n\u001b[1;32m    330\u001b[0m                 )\n\u001b[0;32m--> 331\u001b[0;31m             \u001b[0;32mreturn\u001b[0m \u001b[0mfunc\u001b[0m\u001b[0;34m(\u001b[0m\u001b[0;34m*\u001b[0m\u001b[0margs\u001b[0m\u001b[0;34m,\u001b[0m \u001b[0;34m**\u001b[0m\u001b[0mkwargs\u001b[0m\u001b[0;34m)\u001b[0m\u001b[0;34m\u001b[0m\u001b[0;34m\u001b[0m\u001b[0m\n\u001b[0m\u001b[1;32m    332\u001b[0m \u001b[0;34m\u001b[0m\u001b[0m\n\u001b[1;32m    333\u001b[0m         \u001b[0;31m# error: \"Callable[[VarArg(Any), KwArg(Any)], Any]\" has no\u001b[0m\u001b[0;34m\u001b[0m\u001b[0;34m\u001b[0m\u001b[0m\n",
      "\u001b[0;32m~/opt/anaconda3/envs/dsi/lib/python3.9/site-packages/pandas/core/generic.py\u001b[0m in \u001b[0;36mdrop\u001b[0;34m(self, labels, axis, index, columns, level, inplace, errors)\u001b[0m\n\u001b[1;32m   4503\u001b[0m         \u001b[0;32mfor\u001b[0m \u001b[0maxis\u001b[0m\u001b[0;34m,\u001b[0m \u001b[0mlabels\u001b[0m \u001b[0;32min\u001b[0m \u001b[0maxes\u001b[0m\u001b[0;34m.\u001b[0m\u001b[0mitems\u001b[0m\u001b[0;34m(\u001b[0m\u001b[0;34m)\u001b[0m\u001b[0;34m:\u001b[0m\u001b[0;34m\u001b[0m\u001b[0;34m\u001b[0m\u001b[0m\n\u001b[1;32m   4504\u001b[0m             \u001b[0;32mif\u001b[0m \u001b[0mlabels\u001b[0m \u001b[0;32mis\u001b[0m \u001b[0;32mnot\u001b[0m \u001b[0;32mNone\u001b[0m\u001b[0;34m:\u001b[0m\u001b[0;34m\u001b[0m\u001b[0;34m\u001b[0m\u001b[0m\n\u001b[0;32m-> 4505\u001b[0;31m                 \u001b[0mobj\u001b[0m \u001b[0;34m=\u001b[0m \u001b[0mobj\u001b[0m\u001b[0;34m.\u001b[0m\u001b[0m_drop_axis\u001b[0m\u001b[0;34m(\u001b[0m\u001b[0mlabels\u001b[0m\u001b[0;34m,\u001b[0m \u001b[0maxis\u001b[0m\u001b[0;34m,\u001b[0m \u001b[0mlevel\u001b[0m\u001b[0;34m=\u001b[0m\u001b[0mlevel\u001b[0m\u001b[0;34m,\u001b[0m \u001b[0merrors\u001b[0m\u001b[0;34m=\u001b[0m\u001b[0merrors\u001b[0m\u001b[0;34m)\u001b[0m\u001b[0;34m\u001b[0m\u001b[0;34m\u001b[0m\u001b[0m\n\u001b[0m\u001b[1;32m   4506\u001b[0m \u001b[0;34m\u001b[0m\u001b[0m\n\u001b[1;32m   4507\u001b[0m         \u001b[0;32mif\u001b[0m \u001b[0minplace\u001b[0m\u001b[0;34m:\u001b[0m\u001b[0;34m\u001b[0m\u001b[0;34m\u001b[0m\u001b[0m\n",
      "\u001b[0;32m~/opt/anaconda3/envs/dsi/lib/python3.9/site-packages/pandas/core/generic.py\u001b[0m in \u001b[0;36m_drop_axis\u001b[0;34m(self, labels, axis, level, errors, only_slice)\u001b[0m\n\u001b[1;32m   4544\u001b[0m                 \u001b[0mnew_axis\u001b[0m \u001b[0;34m=\u001b[0m \u001b[0maxis\u001b[0m\u001b[0;34m.\u001b[0m\u001b[0mdrop\u001b[0m\u001b[0;34m(\u001b[0m\u001b[0mlabels\u001b[0m\u001b[0;34m,\u001b[0m \u001b[0mlevel\u001b[0m\u001b[0;34m=\u001b[0m\u001b[0mlevel\u001b[0m\u001b[0;34m,\u001b[0m \u001b[0merrors\u001b[0m\u001b[0;34m=\u001b[0m\u001b[0merrors\u001b[0m\u001b[0;34m)\u001b[0m\u001b[0;34m\u001b[0m\u001b[0;34m\u001b[0m\u001b[0m\n\u001b[1;32m   4545\u001b[0m             \u001b[0;32melse\u001b[0m\u001b[0;34m:\u001b[0m\u001b[0;34m\u001b[0m\u001b[0;34m\u001b[0m\u001b[0m\n\u001b[0;32m-> 4546\u001b[0;31m                 \u001b[0mnew_axis\u001b[0m \u001b[0;34m=\u001b[0m \u001b[0maxis\u001b[0m\u001b[0;34m.\u001b[0m\u001b[0mdrop\u001b[0m\u001b[0;34m(\u001b[0m\u001b[0mlabels\u001b[0m\u001b[0;34m,\u001b[0m \u001b[0merrors\u001b[0m\u001b[0;34m=\u001b[0m\u001b[0merrors\u001b[0m\u001b[0;34m)\u001b[0m\u001b[0;34m\u001b[0m\u001b[0;34m\u001b[0m\u001b[0m\n\u001b[0m\u001b[1;32m   4547\u001b[0m             \u001b[0mindexer\u001b[0m \u001b[0;34m=\u001b[0m \u001b[0maxis\u001b[0m\u001b[0;34m.\u001b[0m\u001b[0mget_indexer\u001b[0m\u001b[0;34m(\u001b[0m\u001b[0mnew_axis\u001b[0m\u001b[0;34m)\u001b[0m\u001b[0;34m\u001b[0m\u001b[0;34m\u001b[0m\u001b[0m\n\u001b[1;32m   4548\u001b[0m \u001b[0;34m\u001b[0m\u001b[0m\n",
      "\u001b[0;32m~/opt/anaconda3/envs/dsi/lib/python3.9/site-packages/pandas/core/indexes/base.py\u001b[0m in \u001b[0;36mdrop\u001b[0;34m(self, labels, errors)\u001b[0m\n\u001b[1;32m   6975\u001b[0m         \u001b[0;32mif\u001b[0m \u001b[0mmask\u001b[0m\u001b[0;34m.\u001b[0m\u001b[0many\u001b[0m\u001b[0;34m(\u001b[0m\u001b[0;34m)\u001b[0m\u001b[0;34m:\u001b[0m\u001b[0;34m\u001b[0m\u001b[0;34m\u001b[0m\u001b[0m\n\u001b[1;32m   6976\u001b[0m             \u001b[0;32mif\u001b[0m \u001b[0merrors\u001b[0m \u001b[0;34m!=\u001b[0m \u001b[0;34m\"ignore\"\u001b[0m\u001b[0;34m:\u001b[0m\u001b[0;34m\u001b[0m\u001b[0;34m\u001b[0m\u001b[0m\n\u001b[0;32m-> 6977\u001b[0;31m                 \u001b[0;32mraise\u001b[0m \u001b[0mKeyError\u001b[0m\u001b[0;34m(\u001b[0m\u001b[0;34mf\"{list(labels[mask])} not found in axis\"\u001b[0m\u001b[0;34m)\u001b[0m\u001b[0;34m\u001b[0m\u001b[0;34m\u001b[0m\u001b[0m\n\u001b[0m\u001b[1;32m   6978\u001b[0m             \u001b[0mindexer\u001b[0m \u001b[0;34m=\u001b[0m \u001b[0mindexer\u001b[0m\u001b[0;34m[\u001b[0m\u001b[0;34m~\u001b[0m\u001b[0mmask\u001b[0m\u001b[0;34m]\u001b[0m\u001b[0;34m\u001b[0m\u001b[0;34m\u001b[0m\u001b[0m\n\u001b[1;32m   6979\u001b[0m         \u001b[0;32mreturn\u001b[0m \u001b[0mself\u001b[0m\u001b[0;34m.\u001b[0m\u001b[0mdelete\u001b[0m\u001b[0;34m(\u001b[0m\u001b[0mindexer\u001b[0m\u001b[0;34m)\u001b[0m\u001b[0;34m\u001b[0m\u001b[0;34m\u001b[0m\u001b[0m\n",
      "\u001b[0;31mKeyError\u001b[0m: \"['recidivism_arrest_year1', 'recidivism_arrest_year2', 'recidivism_arrest_year3', 'recidivism_within_3years'] not found in axis\""
     ]
    }
   ],
   "source": [
    "recid_df_sup = recid_df_sup.drop(['recidivism_arrest_year1', 'recidivism_arrest_year2', 'recidivism_arrest_year3', 'recidivism_within_3years'], axis=1)"
   ]
  },
  {
   "cell_type": "code",
   "execution_count": 233,
   "id": "81bd3a67-47e4-4030-9cff-6caf1a9e9e92",
   "metadata": {},
   "outputs": [
    {
     "data": {
      "text/html": [
       "<div>\n",
       "<style scoped>\n",
       "    .dataframe tbody tr th:only-of-type {\n",
       "        vertical-align: middle;\n",
       "    }\n",
       "\n",
       "    .dataframe tbody tr th {\n",
       "        vertical-align: top;\n",
       "    }\n",
       "\n",
       "    .dataframe thead th {\n",
       "        text-align: right;\n",
       "    }\n",
       "</style>\n",
       "<table border=\"1\" class=\"dataframe\">\n",
       "  <thead>\n",
       "    <tr style=\"text-align: right;\">\n",
       "      <th>prison_offense</th>\n",
       "      <th>Drug</th>\n",
       "      <th>Other</th>\n",
       "      <th>Property</th>\n",
       "      <th>Violent/Non-Sex</th>\n",
       "      <th>Violent/Sex</th>\n",
       "    </tr>\n",
       "  </thead>\n",
       "  <tbody>\n",
       "    <tr>\n",
       "      <th>percent_year1</th>\n",
       "      <td>0.477175</td>\n",
       "      <td>0.518475</td>\n",
       "      <td>0.554950</td>\n",
       "      <td>0.499154</td>\n",
       "      <td>0.332061</td>\n",
       "    </tr>\n",
       "    <tr>\n",
       "      <th>percent_year2</th>\n",
       "      <td>0.326320</td>\n",
       "      <td>0.316716</td>\n",
       "      <td>0.287808</td>\n",
       "      <td>0.308629</td>\n",
       "      <td>0.400763</td>\n",
       "    </tr>\n",
       "    <tr>\n",
       "      <th>percent_year3</th>\n",
       "      <td>0.196505</td>\n",
       "      <td>0.164809</td>\n",
       "      <td>0.157242</td>\n",
       "      <td>0.192217</td>\n",
       "      <td>0.267176</td>\n",
       "    </tr>\n",
       "  </tbody>\n",
       "</table>\n",
       "</div>"
      ],
      "text/plain": [
       "prison_offense      Drug     Other  Property  Violent/Non-Sex  Violent/Sex\n",
       "percent_year1   0.477175  0.518475  0.554950         0.499154     0.332061\n",
       "percent_year2   0.326320  0.316716  0.287808         0.308629     0.400763\n",
       "percent_year3   0.196505  0.164809  0.157242         0.192217     0.267176"
      ]
     },
     "execution_count": 233,
     "metadata": {},
     "output_type": "execute_result"
    }
   ],
   "source": [
    "recid_df_sup.head()"
   ]
  },
  {
   "cell_type": "code",
   "execution_count": 228,
   "id": "bf4173e5-ff74-4f5b-b21a-27b80f8d3dd3",
   "metadata": {},
   "outputs": [],
   "source": [
    "recid_df_sup=recid_df_sup.T"
   ]
  },
  {
   "cell_type": "code",
   "execution_count": 231,
   "id": "cb55e126-62b5-42a9-be68-388fe2efbdb7",
   "metadata": {},
   "outputs": [
    {
     "ename": "KeyError",
     "evalue": "'prison_offense'",
     "output_type": "error",
     "traceback": [
      "\u001b[0;31m---------------------------------------------------------------------------\u001b[0m",
      "\u001b[0;31mKeyError\u001b[0m                                  Traceback (most recent call last)",
      "\u001b[0;32m~/opt/anaconda3/envs/dsi/lib/python3.9/site-packages/pandas/core/indexes/base.py\u001b[0m in \u001b[0;36mget_loc\u001b[0;34m(self, key, method, tolerance)\u001b[0m\n\u001b[1;32m   3802\u001b[0m             \u001b[0;32mtry\u001b[0m\u001b[0;34m:\u001b[0m\u001b[0;34m\u001b[0m\u001b[0;34m\u001b[0m\u001b[0m\n\u001b[0;32m-> 3803\u001b[0;31m                 \u001b[0;32mreturn\u001b[0m \u001b[0mself\u001b[0m\u001b[0;34m.\u001b[0m\u001b[0m_engine\u001b[0m\u001b[0;34m.\u001b[0m\u001b[0mget_loc\u001b[0m\u001b[0;34m(\u001b[0m\u001b[0mcasted_key\u001b[0m\u001b[0;34m)\u001b[0m\u001b[0;34m\u001b[0m\u001b[0;34m\u001b[0m\u001b[0m\n\u001b[0m\u001b[1;32m   3804\u001b[0m             \u001b[0;32mexcept\u001b[0m \u001b[0mKeyError\u001b[0m \u001b[0;32mas\u001b[0m \u001b[0merr\u001b[0m\u001b[0;34m:\u001b[0m\u001b[0;34m\u001b[0m\u001b[0;34m\u001b[0m\u001b[0m\n",
      "\u001b[0;32m~/opt/anaconda3/envs/dsi/lib/python3.9/site-packages/pandas/_libs/index.pyx\u001b[0m in \u001b[0;36mpandas._libs.index.IndexEngine.get_loc\u001b[0;34m()\u001b[0m\n",
      "\u001b[0;32m~/opt/anaconda3/envs/dsi/lib/python3.9/site-packages/pandas/_libs/index.pyx\u001b[0m in \u001b[0;36mpandas._libs.index.IndexEngine.get_loc\u001b[0;34m()\u001b[0m\n",
      "\u001b[0;32mpandas/_libs/hashtable_class_helper.pxi\u001b[0m in \u001b[0;36mpandas._libs.hashtable.PyObjectHashTable.get_item\u001b[0;34m()\u001b[0m\n",
      "\u001b[0;32mpandas/_libs/hashtable_class_helper.pxi\u001b[0m in \u001b[0;36mpandas._libs.hashtable.PyObjectHashTable.get_item\u001b[0;34m()\u001b[0m\n",
      "\u001b[0;31mKeyError\u001b[0m: 'prison_offense'",
      "\nThe above exception was the direct cause of the following exception:\n",
      "\u001b[0;31mKeyError\u001b[0m                                  Traceback (most recent call last)",
      "\u001b[0;32m/var/folders/3j/my4n0ykx0yb51nj_xv6qbxp40000gn/T/ipykernel_33175/3899461765.py\u001b[0m in \u001b[0;36m<module>\u001b[0;34m\u001b[0m\n\u001b[0;32m----> 1\u001b[0;31m \u001b[0mrecid_df_sup\u001b[0m\u001b[0;34m[\u001b[0m\u001b[0;34m'prison_offense'\u001b[0m\u001b[0;34m]\u001b[0m\u001b[0;34m.\u001b[0m\u001b[0mplot\u001b[0m\u001b[0;34m(\u001b[0m\u001b[0mkind\u001b[0m\u001b[0;34m=\u001b[0m\u001b[0;34m'pie'\u001b[0m\u001b[0;34m,\u001b[0m \u001b[0max\u001b[0m\u001b[0;34m=\u001b[0m\u001b[0max\u001b[0m\u001b[0;34m,\u001b[0m \u001b[0mautopct\u001b[0m\u001b[0;34m=\u001b[0m\u001b[0;34m'%1.1f%%'\u001b[0m\u001b[0;34m,\u001b[0m \u001b[0mstartangle\u001b[0m\u001b[0;34m=\u001b[0m\u001b[0;36m270\u001b[0m\u001b[0;34m,\u001b[0m \u001b[0msubplots\u001b[0m\u001b[0;34m=\u001b[0m\u001b[0;32mTrue\u001b[0m\u001b[0;34m,\u001b[0m \u001b[0mfontsize\u001b[0m\u001b[0;34m=\u001b[0m\u001b[0;36m17\u001b[0m\u001b[0;34m)\u001b[0m\u001b[0;34m;\u001b[0m\u001b[0;34m\u001b[0m\u001b[0;34m\u001b[0m\u001b[0m\n\u001b[0m",
      "\u001b[0;32m~/opt/anaconda3/envs/dsi/lib/python3.9/site-packages/pandas/core/frame.py\u001b[0m in \u001b[0;36m__getitem__\u001b[0;34m(self, key)\u001b[0m\n\u001b[1;32m   3803\u001b[0m             \u001b[0;32mif\u001b[0m \u001b[0mself\u001b[0m\u001b[0;34m.\u001b[0m\u001b[0mcolumns\u001b[0m\u001b[0;34m.\u001b[0m\u001b[0mnlevels\u001b[0m \u001b[0;34m>\u001b[0m \u001b[0;36m1\u001b[0m\u001b[0;34m:\u001b[0m\u001b[0;34m\u001b[0m\u001b[0;34m\u001b[0m\u001b[0m\n\u001b[1;32m   3804\u001b[0m                 \u001b[0;32mreturn\u001b[0m \u001b[0mself\u001b[0m\u001b[0;34m.\u001b[0m\u001b[0m_getitem_multilevel\u001b[0m\u001b[0;34m(\u001b[0m\u001b[0mkey\u001b[0m\u001b[0;34m)\u001b[0m\u001b[0;34m\u001b[0m\u001b[0;34m\u001b[0m\u001b[0m\n\u001b[0;32m-> 3805\u001b[0;31m             \u001b[0mindexer\u001b[0m \u001b[0;34m=\u001b[0m \u001b[0mself\u001b[0m\u001b[0;34m.\u001b[0m\u001b[0mcolumns\u001b[0m\u001b[0;34m.\u001b[0m\u001b[0mget_loc\u001b[0m\u001b[0;34m(\u001b[0m\u001b[0mkey\u001b[0m\u001b[0;34m)\u001b[0m\u001b[0;34m\u001b[0m\u001b[0;34m\u001b[0m\u001b[0m\n\u001b[0m\u001b[1;32m   3806\u001b[0m             \u001b[0;32mif\u001b[0m \u001b[0mis_integer\u001b[0m\u001b[0;34m(\u001b[0m\u001b[0mindexer\u001b[0m\u001b[0;34m)\u001b[0m\u001b[0;34m:\u001b[0m\u001b[0;34m\u001b[0m\u001b[0;34m\u001b[0m\u001b[0m\n\u001b[1;32m   3807\u001b[0m                 \u001b[0mindexer\u001b[0m \u001b[0;34m=\u001b[0m \u001b[0;34m[\u001b[0m\u001b[0mindexer\u001b[0m\u001b[0;34m]\u001b[0m\u001b[0;34m\u001b[0m\u001b[0;34m\u001b[0m\u001b[0m\n",
      "\u001b[0;32m~/opt/anaconda3/envs/dsi/lib/python3.9/site-packages/pandas/core/indexes/base.py\u001b[0m in \u001b[0;36mget_loc\u001b[0;34m(self, key, method, tolerance)\u001b[0m\n\u001b[1;32m   3803\u001b[0m                 \u001b[0;32mreturn\u001b[0m \u001b[0mself\u001b[0m\u001b[0;34m.\u001b[0m\u001b[0m_engine\u001b[0m\u001b[0;34m.\u001b[0m\u001b[0mget_loc\u001b[0m\u001b[0;34m(\u001b[0m\u001b[0mcasted_key\u001b[0m\u001b[0;34m)\u001b[0m\u001b[0;34m\u001b[0m\u001b[0;34m\u001b[0m\u001b[0m\n\u001b[1;32m   3804\u001b[0m             \u001b[0;32mexcept\u001b[0m \u001b[0mKeyError\u001b[0m \u001b[0;32mas\u001b[0m \u001b[0merr\u001b[0m\u001b[0;34m:\u001b[0m\u001b[0;34m\u001b[0m\u001b[0;34m\u001b[0m\u001b[0m\n\u001b[0;32m-> 3805\u001b[0;31m                 \u001b[0;32mraise\u001b[0m \u001b[0mKeyError\u001b[0m\u001b[0;34m(\u001b[0m\u001b[0mkey\u001b[0m\u001b[0;34m)\u001b[0m \u001b[0;32mfrom\u001b[0m \u001b[0merr\u001b[0m\u001b[0;34m\u001b[0m\u001b[0;34m\u001b[0m\u001b[0m\n\u001b[0m\u001b[1;32m   3806\u001b[0m             \u001b[0;32mexcept\u001b[0m \u001b[0mTypeError\u001b[0m\u001b[0;34m:\u001b[0m\u001b[0;34m\u001b[0m\u001b[0;34m\u001b[0m\u001b[0m\n\u001b[1;32m   3807\u001b[0m                 \u001b[0;31m# If we have a listlike key, _check_indexing_error will raise\u001b[0m\u001b[0;34m\u001b[0m\u001b[0;34m\u001b[0m\u001b[0m\n",
      "\u001b[0;31mKeyError\u001b[0m: 'prison_offense'"
     ]
    }
   ],
   "source": [
    "\n",
    "\n",
    "recid_df_sup['prison_offense'].plot(kind='pie', ax=ax, autopct='%1.1f%%', startangle=270, subplots=True, fontsize=17);\n"
   ]
  },
  {
   "cell_type": "code",
   "execution_count": 212,
   "id": "99ec4953-3e61-4a38-8740-22d6b3aff62d",
   "metadata": {},
   "outputs": [
    {
     "ename": "TypeError",
     "evalue": "'function' object is not subscriptable",
     "output_type": "error",
     "traceback": [
      "\u001b[0;31m---------------------------------------------------------------------------\u001b[0m",
      "\u001b[0;31mTypeError\u001b[0m                                 Traceback (most recent call last)",
      "\u001b[0;32m/var/folders/3j/my4n0ykx0yb51nj_xv6qbxp40000gn/T/ipykernel_33175/789647710.py\u001b[0m in \u001b[0;36m<module>\u001b[0;34m\u001b[0m\n\u001b[1;32m     49\u001b[0m \u001b[0;34m\u001b[0m\u001b[0m\n\u001b[1;32m     50\u001b[0m \u001b[0;34m\u001b[0m\u001b[0m\n\u001b[0;32m---> 51\u001b[0;31m \u001b[0msurvey\u001b[0m\u001b[0;34m(\u001b[0m\u001b[0mrecid_df_sup\u001b[0m\u001b[0;34m)\u001b[0m\u001b[0;34m\u001b[0m\u001b[0;34m\u001b[0m\u001b[0m\n\u001b[0m\u001b[1;32m     52\u001b[0m \u001b[0mplt\u001b[0m\u001b[0;34m.\u001b[0m\u001b[0mshow\u001b[0m\u001b[0;34m(\u001b[0m\u001b[0;34m)\u001b[0m\u001b[0;34m;\u001b[0m\u001b[0;34m\u001b[0m\u001b[0;34m\u001b[0m\u001b[0m\n",
      "\u001b[0;32m/var/folders/3j/my4n0ykx0yb51nj_xv6qbxp40000gn/T/ipykernel_33175/789647710.py\u001b[0m in \u001b[0;36msurvey\u001b[0;34m(recid_df_sup)\u001b[0m\n\u001b[1;32m     27\u001b[0m     \u001b[0mdata\u001b[0m \u001b[0;34m=\u001b[0m \u001b[0mrecid_df_sup\u001b[0m\u001b[0;34m\u001b[0m\u001b[0;34m\u001b[0m\u001b[0m\n\u001b[1;32m     28\u001b[0m     \u001b[0mdata_cum\u001b[0m \u001b[0;34m=\u001b[0m \u001b[0mdata\u001b[0m\u001b[0;34m.\u001b[0m\u001b[0mcumsum\u001b[0m\u001b[0;34m(\u001b[0m\u001b[0maxis\u001b[0m\u001b[0;34m=\u001b[0m\u001b[0;36m1\u001b[0m\u001b[0;34m)\u001b[0m\u001b[0;34m\u001b[0m\u001b[0;34m\u001b[0m\u001b[0m\n\u001b[0;32m---> 29\u001b[0;31m     \u001b[0mcategory_colors\u001b[0m \u001b[0;34m=\u001b[0m \u001b[0mplt\u001b[0m\u001b[0;34m.\u001b[0m\u001b[0mcolormaps\u001b[0m\u001b[0;34m[\u001b[0m\u001b[0;34m'RdYlGn'\u001b[0m\u001b[0;34m]\u001b[0m\u001b[0;31m#(np.linspace(0.15, 0.85, data.shape[1]))\u001b[0m\u001b[0;34m\u001b[0m\u001b[0;34m\u001b[0m\u001b[0m\n\u001b[0m\u001b[1;32m     30\u001b[0m \u001b[0;34m\u001b[0m\u001b[0m\n\u001b[1;32m     31\u001b[0m     \u001b[0mfig\u001b[0m\u001b[0;34m,\u001b[0m \u001b[0max\u001b[0m \u001b[0;34m=\u001b[0m \u001b[0mplt\u001b[0m\u001b[0;34m.\u001b[0m\u001b[0msubplots\u001b[0m\u001b[0;34m(\u001b[0m\u001b[0mfigsize\u001b[0m\u001b[0;34m=\u001b[0m\u001b[0;34m(\u001b[0m\u001b[0;36m9.2\u001b[0m\u001b[0;34m,\u001b[0m \u001b[0;36m5\u001b[0m\u001b[0;34m)\u001b[0m\u001b[0;34m)\u001b[0m\u001b[0;34m\u001b[0m\u001b[0;34m\u001b[0m\u001b[0m\n",
      "\u001b[0;31mTypeError\u001b[0m: 'function' object is not subscriptable"
     ]
    }
   ],
   "source": [
    "import numpy as np\n",
    "import matplotlib.pyplot as plt\n",
    "\n",
    "\n",
    "# category_names = ['recidivism_arrest_year1', 'recidivism_arrest_year2', 'recidivism_arrest_year3']\n",
    "# results = {\n",
    "#     'Drug': [category_names],\n",
    "#     'Property': [category_names],\n",
    "#     'Violent/Non-Sex': [category_names],\n",
    "#     'Violent/Sex': [category_names],\n",
    "#     'Other': [category_names],\n",
    "# }\n",
    "\n",
    "\n",
    "def survey(recid_df_sup):\n",
    "    # \"\"\"\n",
    "    # Parameters\n",
    "    # ----------\n",
    "    # results : dict\n",
    "    #     A mapping from question labels to a list of answers per category.\n",
    "    #     It is assumed all lists contain the same number of entries and that\n",
    "    #     it matches the length of *category_names*.\n",
    "    # category_names : list of str\n",
    "    #     The category labels.\n",
    "    # \"\"\"\n",
    "    labels = list(recid_df_sup.keys())\n",
    "    data = recid_df_sup\n",
    "    data_cum = data.cumsum(axis=1)\n",
    "    category_colors = plt.colormaps['RdYlGn']#(np.linspace(0.15, 0.85, data.shape[1]))\n",
    "\n",
    "    fig, ax = plt.subplots(figsize=(9.2, 5))\n",
    "    ax.invert_yaxis()\n",
    "    ax.xaxis.set_visible(False)\n",
    "    ax.set_xlim(0, np.sum(data, axis=1).max())\n",
    "\n",
    "    for i, (colname, color) in enumerate(zip(recid_df_sup)):\n",
    "        widths = data[:, i]\n",
    "        starts = data_cum[:, i] - widths\n",
    "        rects = ax.barh(labels, widths, left= starts, height=0.5,\n",
    "                        label=colname, color=color)\n",
    "\n",
    "        r, g, b, _ = color\n",
    "        text_color = 'white' if r * g * b < 0.5 else 'darkgrey'\n",
    "        ax.bar_label(rects, label_type='center', color=text_color)\n",
    "    ax.legend(ncol=len(category_names), bbox_to_anchor=(0, 1),\n",
    "              loc='lower left', fontsize='small')\n",
    "\n",
    "    return fig, ax\n",
    "\n",
    "\n",
    "survey(recid_df_sup)\n",
    "plt.show();"
   ]
  },
  {
   "cell_type": "code",
   "execution_count": 196,
   "id": "4e28ba7c-f510-4d0b-b9b2-0d0f806ed0d6",
   "metadata": {},
   "outputs": [
    {
     "ename": "TypeError",
     "evalue": "'function' object is not subscriptable",
     "output_type": "error",
     "traceback": [
      "\u001b[0;31m---------------------------------------------------------------------------\u001b[0m",
      "\u001b[0;31mTypeError\u001b[0m                                 Traceback (most recent call last)",
      "\u001b[0;32m/var/folders/3j/my4n0ykx0yb51nj_xv6qbxp40000gn/T/ipykernel_33175/1312982004.py\u001b[0m in \u001b[0;36m<module>\u001b[0;34m\u001b[0m\n\u001b[1;32m     49\u001b[0m \u001b[0;34m\u001b[0m\u001b[0m\n\u001b[1;32m     50\u001b[0m \u001b[0;34m\u001b[0m\u001b[0m\n\u001b[0;32m---> 51\u001b[0;31m \u001b[0msurvey\u001b[0m\u001b[0;34m(\u001b[0m\u001b[0mresults\u001b[0m\u001b[0;34m,\u001b[0m \u001b[0mcategory_names\u001b[0m\u001b[0;34m)\u001b[0m\u001b[0;34m\u001b[0m\u001b[0;34m\u001b[0m\u001b[0m\n\u001b[0m\u001b[1;32m     52\u001b[0m \u001b[0mplt\u001b[0m\u001b[0;34m.\u001b[0m\u001b[0mshow\u001b[0m\u001b[0;34m(\u001b[0m\u001b[0;34m)\u001b[0m\u001b[0;34m;\u001b[0m\u001b[0;34m\u001b[0m\u001b[0;34m\u001b[0m\u001b[0m\n",
      "\u001b[0;32m/var/folders/3j/my4n0ykx0yb51nj_xv6qbxp40000gn/T/ipykernel_33175/1312982004.py\u001b[0m in \u001b[0;36msurvey\u001b[0;34m(results, category_names)\u001b[0m\n\u001b[1;32m     27\u001b[0m     \u001b[0mdata\u001b[0m \u001b[0;34m=\u001b[0m \u001b[0mnp\u001b[0m\u001b[0;34m.\u001b[0m\u001b[0marray\u001b[0m\u001b[0;34m(\u001b[0m\u001b[0mlist\u001b[0m\u001b[0;34m(\u001b[0m\u001b[0mresults\u001b[0m\u001b[0;34m.\u001b[0m\u001b[0mvalues\u001b[0m\u001b[0;34m(\u001b[0m\u001b[0;34m)\u001b[0m\u001b[0;34m)\u001b[0m\u001b[0;34m)\u001b[0m\u001b[0;34m\u001b[0m\u001b[0;34m\u001b[0m\u001b[0m\n\u001b[1;32m     28\u001b[0m     \u001b[0mdata_cum\u001b[0m \u001b[0;34m=\u001b[0m \u001b[0mdata\u001b[0m\u001b[0;34m.\u001b[0m\u001b[0mcumsum\u001b[0m\u001b[0;34m(\u001b[0m\u001b[0maxis\u001b[0m\u001b[0;34m=\u001b[0m\u001b[0;36m1\u001b[0m\u001b[0;34m)\u001b[0m\u001b[0;34m\u001b[0m\u001b[0;34m\u001b[0m\u001b[0m\n\u001b[0;32m---> 29\u001b[0;31m     \u001b[0mcategory_colors\u001b[0m \u001b[0;34m=\u001b[0m \u001b[0mplt\u001b[0m\u001b[0;34m.\u001b[0m\u001b[0mcolormaps\u001b[0m\u001b[0;34m[\u001b[0m\u001b[0;34m'RdYlGn'\u001b[0m\u001b[0;34m]\u001b[0m\u001b[0;31m#(np.linspace(0.15, 0.85, data.shape[1]))\u001b[0m\u001b[0;34m\u001b[0m\u001b[0;34m\u001b[0m\u001b[0m\n\u001b[0m\u001b[1;32m     30\u001b[0m \u001b[0;34m\u001b[0m\u001b[0m\n\u001b[1;32m     31\u001b[0m     \u001b[0mfig\u001b[0m\u001b[0;34m,\u001b[0m \u001b[0max\u001b[0m \u001b[0;34m=\u001b[0m \u001b[0mplt\u001b[0m\u001b[0;34m.\u001b[0m\u001b[0msubplots\u001b[0m\u001b[0;34m(\u001b[0m\u001b[0mfigsize\u001b[0m\u001b[0;34m=\u001b[0m\u001b[0;34m(\u001b[0m\u001b[0;36m9.2\u001b[0m\u001b[0;34m,\u001b[0m \u001b[0;36m5\u001b[0m\u001b[0;34m)\u001b[0m\u001b[0;34m)\u001b[0m\u001b[0;34m\u001b[0m\u001b[0;34m\u001b[0m\u001b[0m\n",
      "\u001b[0;31mTypeError\u001b[0m: 'function' object is not subscriptable"
     ]
    }
   ],
   "source": [
    "import numpy as np\n",
    "import matplotlib.pyplot as plt\n",
    "\n",
    "\n",
    "category_names = ['recidivism_arrest_year1', 'recidivism_arrest_year2', 'recidivism_arrest_year3']\n",
    "results = {\n",
    "    'Drug': [0.477175, 0.326320, 0.196505],\n",
    "    'Property': [0.554950, 0.287808, 0.157242],\n",
    "    'Violent/Non-Sex': [0.499154, 0.308629, 0.192217],\n",
    "    'Violent/Sex': [0.332061, 0.400763, 0.267176],\n",
    "    'Other': [0.518475, 0.316716, 0.164809],\n",
    "}\n",
    "\n",
    "\n",
    "def survey(results, category_names):\n",
    "    # \"\"\"\n",
    "    # Parameters\n",
    "    # ----------\n",
    "    # results : dict\n",
    "    #     A mapping from question labels to a list of answers per category.\n",
    "    #     It is assumed all lists contain the same number of entries and that\n",
    "    #     it matches the length of *category_names*.\n",
    "    # category_names : list of str\n",
    "    #     The category labels.\n",
    "    # \"\"\"\n",
    "    labels = list(results.keys())\n",
    "    data = np.array(list(results.values()))\n",
    "    data_cum = data.cumsum(axis=1)\n",
    "    category_colors = plt.colormaps['RdYlGn']#(np.linspace(0.15, 0.85, data.shape[1]))\n",
    "\n",
    "    fig, ax = plt.subplots(figsize=(9.2, 5))\n",
    "    ax.invert_yaxis()\n",
    "    ax.xaxis.set_visible(False)\n",
    "    ax.set_xlim(0, np.sum(data, axis=1).max())\n",
    "\n",
    "    for i, (colname, color) in enumerate(zip(category_names, category_colors)):\n",
    "        widths = data[:, i]\n",
    "        starts = data_cum[:, i] - widths\n",
    "        rects = ax.barh(labels, widths, left= starts, height=0.5,\n",
    "                        label=colname, color=color)\n",
    "\n",
    "        r, g, b, _ = color\n",
    "        text_color = 'white' if r * g * b < 0.5 else 'darkgrey'\n",
    "        ax.bar_label(rects, label_type='center', color=text_color)\n",
    "    ax.legend(ncol=len(category_names), bbox_to_anchor=(0, 1),\n",
    "              loc='lower left', fontsize='small')\n",
    "\n",
    "    return fig, ax\n",
    "\n",
    "\n",
    "survey(results, category_names)\n",
    "plt.show();"
   ]
  },
  {
   "cell_type": "code",
   "execution_count": 191,
   "id": "85c0d01e-ab3d-4159-a4be-525300bec02b",
   "metadata": {},
   "outputs": [
    {
     "ename": "TypeError",
     "evalue": "'function' object is not subscriptable",
     "output_type": "error",
     "traceback": [
      "\u001b[0;31m---------------------------------------------------------------------------\u001b[0m",
      "\u001b[0;31mTypeError\u001b[0m                                 Traceback (most recent call last)",
      "\u001b[0;32m/var/folders/3j/my4n0ykx0yb51nj_xv6qbxp40000gn/T/ipykernel_33175/3932587308.py\u001b[0m in \u001b[0;36m<module>\u001b[0;34m\u001b[0m\n\u001b[1;32m     52\u001b[0m \u001b[0;34m\u001b[0m\u001b[0m\n\u001b[1;32m     53\u001b[0m \u001b[0;34m\u001b[0m\u001b[0m\n\u001b[0;32m---> 54\u001b[0;31m \u001b[0msurvey\u001b[0m\u001b[0;34m(\u001b[0m\u001b[0mresults\u001b[0m\u001b[0;34m,\u001b[0m \u001b[0mcategory_names\u001b[0m\u001b[0;34m)\u001b[0m\u001b[0;34m\u001b[0m\u001b[0;34m\u001b[0m\u001b[0m\n\u001b[0m\u001b[1;32m     55\u001b[0m \u001b[0mplt\u001b[0m\u001b[0;34m.\u001b[0m\u001b[0mshow\u001b[0m\u001b[0;34m(\u001b[0m\u001b[0;34m)\u001b[0m\u001b[0;34m\u001b[0m\u001b[0;34m\u001b[0m\u001b[0m\n",
      "\u001b[0;32m/var/folders/3j/my4n0ykx0yb51nj_xv6qbxp40000gn/T/ipykernel_33175/3932587308.py\u001b[0m in \u001b[0;36msurvey\u001b[0;34m(results, category_names)\u001b[0m\n\u001b[1;32m     29\u001b[0m     \u001b[0mdata\u001b[0m \u001b[0;34m=\u001b[0m \u001b[0mnp\u001b[0m\u001b[0;34m.\u001b[0m\u001b[0marray\u001b[0m\u001b[0;34m(\u001b[0m\u001b[0mlist\u001b[0m\u001b[0;34m(\u001b[0m\u001b[0mresults\u001b[0m\u001b[0;34m.\u001b[0m\u001b[0mvalues\u001b[0m\u001b[0;34m(\u001b[0m\u001b[0;34m)\u001b[0m\u001b[0;34m)\u001b[0m\u001b[0;34m)\u001b[0m\u001b[0;34m\u001b[0m\u001b[0;34m\u001b[0m\u001b[0m\n\u001b[1;32m     30\u001b[0m     \u001b[0mdata_cum\u001b[0m \u001b[0;34m=\u001b[0m \u001b[0mdata\u001b[0m\u001b[0;34m.\u001b[0m\u001b[0mcumsum\u001b[0m\u001b[0;34m(\u001b[0m\u001b[0maxis\u001b[0m\u001b[0;34m=\u001b[0m\u001b[0;36m1\u001b[0m\u001b[0;34m)\u001b[0m\u001b[0;34m\u001b[0m\u001b[0;34m\u001b[0m\u001b[0m\n\u001b[0;32m---> 31\u001b[0;31m     category_colors = plt.colormaps['RdYlGn'](\n\u001b[0m\u001b[1;32m     32\u001b[0m         np.linspace(0.15, 0.85, data.shape[1]))\n\u001b[1;32m     33\u001b[0m \u001b[0;34m\u001b[0m\u001b[0m\n",
      "\u001b[0;31mTypeError\u001b[0m: 'function' object is not subscriptable"
     ]
    }
   ],
   "source": [
    "import numpy as np\n",
    "import matplotlib.pyplot as plt\n",
    "\n",
    "\n",
    "category_names = ['Strongly disagree', 'Disagree',\n",
    "                  'Neither agree nor disagree', 'Agree', 'Strongly agree']\n",
    "results = {\n",
    "    'Question 1': [10, 15, 17, 32, 26],\n",
    "    'Question 2': [26, 22, 29, 10, 13],\n",
    "    'Question 3': [35, 37, 7, 2, 19],\n",
    "    'Question 4': [32, 11, 9, 15, 33],\n",
    "    'Question 5': [21, 29, 5, 5, 40],\n",
    "    'Question 6': [8, 19, 5, 30, 38]\n",
    "}\n",
    "\n",
    "\n",
    "def survey(results, category_names):\n",
    "    \"\"\"\n",
    "    Parameters\n",
    "    ----------\n",
    "    results : dict\n",
    "        A mapping from question labels to a list of answers per category.\n",
    "        It is assumed all lists contain the same number of entries and that\n",
    "        it matches the length of *category_names*.\n",
    "    category_names : list of str\n",
    "        The category labels.\n",
    "    \"\"\"\n",
    "    labels = list(results.keys())\n",
    "    data = np.array(list(results.values()))\n",
    "    data_cum = data.cumsum(axis=1)\n",
    "    category_colors = plt.colormaps['RdYlGn'](\n",
    "        np.linspace(0.15, 0.85, data.shape[1]))\n",
    "\n",
    "    fig, ax = plt.subplots(figsize=(9.2, 5))\n",
    "    ax.invert_yaxis()\n",
    "    ax.xaxis.set_visible(False)\n",
    "    ax.set_xlim(0, np.sum(data, axis=1).max())\n",
    "\n",
    "    for i, (colname, color) in enumerate(zip(category_names, category_colors)):\n",
    "        widths = data[:, i]\n",
    "        starts = data_cum[:, i] - widths\n",
    "        rects = ax.barh(labels, widths, left=starts, height=0.5,\n",
    "                        label=colname, color=color)\n",
    "\n",
    "        r, g, b, _ = color\n",
    "        text_color = 'white' if r * g * b < 0.5 else 'darkgrey'\n",
    "        ax.bar_label(rects, label_type='center', color=text_color)\n",
    "    ax.legend(ncol=len(category_names), bbox_to_anchor=(0, 1),\n",
    "              loc='lower left', fontsize='small')\n",
    "\n",
    "    return fig, ax\n",
    "\n",
    "\n",
    "survey(results, category_names)\n",
    "plt.show();"
   ]
  },
  {
   "cell_type": "code",
   "execution_count": 97,
   "id": "646119f6-fec1-4720-bf8a-3b6fce12984a",
   "metadata": {},
   "outputs": [
    {
     "data": {
      "text/plain": [
       "<matplotlib.legend.Legend at 0x7f9ea8aaba00>"
      ]
     },
     "execution_count": 97,
     "metadata": {},
     "output_type": "execute_result"
    },
    {
     "data": {
      "image/png": "[encoded data removed]",
      "text/plain": [
       "<Figure size 720x576 with 1 Axes>"
      ]
     },
     "metadata": {
      "needs_background": "light"
     },
     "output_type": "display_data"
    }
   ],
   "source": [
    "fig = plt.figure(figsize = (10,8))\n",
    "ax = fig.gca()\n",
    "\n",
    "plt.title('')\n",
    "plt.ylabel('')\n",
    "plt.xlabel('')\n",
    "plt.legend(['recidivism_arrest_year1','recidivism_within_3years'])\n",
    "\n",
    "plt.barh(recid_df.groupby(['gender', 'education_level'])['recidivism_arrest_year1'].value_counts(), \n",
    "         orientation='horizontal', color = \"blue\", \n",
    "         alpha = .5, label = 'recidivism_arrest_year1')\n",
    "plt.hist(recid_df.groupby(['gender', 'education_level'])['recidivism_within_3years'].value_counts(), \n",
    "         orientation='horizontal', color = \"green\", \n",
    "         alpha = .5, label = 'recidivism_within_3years')\n",
    "\n",
    "ax.legend()"
   ]
  },
  {
   "cell_type": "code",
   "execution_count": 80,
   "id": "75acdb7a-d550-4adc-9171-b54efcea5bf7",
   "metadata": {},
   "outputs": [
    {
     "ename": "SyntaxError",
     "evalue": "positional argument follows keyword argument (1907757021.py, line 6)",
     "output_type": "error",
     "traceback": [
      "\u001b[0;36m  File \u001b[0;32m\"/var/folders/3j/my4n0ykx0yb51nj_xv6qbxp40000gn/T/ipykernel_33175/1907757021.py\"\u001b[0;36m, line \u001b[0;32m6\u001b[0m\n\u001b[0;31m    color='green');\u001b[0m\n\u001b[0m                  ^\u001b[0m\n\u001b[0;31mSyntaxError\u001b[0m\u001b[0;31m:\u001b[0m positional argument follows keyword argument\n"
     ]
    }
   ],
   "source": [
    "fig = plt.figure(figsize = (10,8))\n",
    "ax = fig.gca()\n",
    "\n",
    "recid_df.groupby(['gender', 'education_level'])['recidivism_within_3years'].sum().unstack().plot(kind='barh',\n",
    "                color='blue', recid_df.groupby(['gender', 'education_level'])['recidivism_arrest_year1'].sum().unstack().plot(kind='barh',\n",
    "                                                                                                 color='green');"
   ]
  },
  {
   "cell_type": "code",
   "execution_count": 89,
   "id": "fb27bf3b-fce3-4b40-8684-4e1a4ce48d54",
   "metadata": {},
   "outputs": [
    {
     "ename": "NameError",
     "evalue": "name 'h' is not defined",
     "output_type": "error",
     "traceback": [
      "\u001b[0;31m---------------------------------------------------------------------------\u001b[0m",
      "\u001b[0;31mNameError\u001b[0m                                 Traceback (most recent call last)",
      "\u001b[0;32m/var/folders/3j/my4n0ykx0yb51nj_xv6qbxp40000gn/T/ipykernel_33175/2833651616.py\u001b[0m in \u001b[0;36m<module>\u001b[0;34m\u001b[0m\n\u001b[1;32m      8\u001b[0m \u001b[0;34m\u001b[0m\u001b[0m\n\u001b[1;32m      9\u001b[0m plt.bar(recid_df.groupby(['gender', 'education_level'])['recidivism_within_3years'].sum().unstack(), \n\u001b[0;32m---> 10\u001b[0;31m          cmap = 'purples', height = h, alpha = .5, label = 'Dad Jokes')\n\u001b[0m\u001b[1;32m     11\u001b[0m plt.bar(recid_df.groupby(['gender', 'education_level'])['recidivism_arrest_year1'].sum().unstack(), \n\u001b[1;32m     12\u001b[0m          cmap = 'oranges', height = h, alpha = .5, label = 'Poker')\n",
      "\u001b[0;31mNameError\u001b[0m: name 'h' is not defined"
     ]
    },
    {
     "data": {
      "image/png": "[encoded data removed]",
      "text/plain": [
       "<Figure size 720x576 with 1 Axes>"
      ]
     },
     "metadata": {
      "needs_background": "light"
     },
     "output_type": "display_data"
    }
   ],
   "source": [
    "#Positive Sentiment Analysis Historgram and Saving Plot\n",
    "fig = plt.figure(figsize = (10,8))\n",
    "ax = fig.gca()\n",
    "\n",
    "plt.title('Positive Sentiment Analysis Historgram')\n",
    "plt.ylabel('Frequency')\n",
    "plt.xlabel('Positivity Score')\n",
    "\n",
    "plt.bar(recid_df.groupby(['gender', 'education_level'])['recidivism_within_3years'].sum().unstack(), \n",
    "         cmap = 'purples', height = h, alpha = .5, label = 'Dad Jokes')\n",
    "plt.bar(recid_df.groupby(['gender', 'education_level'])['recidivism_arrest_year1'].sum().unstack(), \n",
    "         cmap = 'oranges', height = h, alpha = .5, label = 'Poker')\n",
    "\n",
    "ax.legend()\n",
    "plt.savefig('./visuals/pos_his.jpeg', dpi=300, bbox_inches = \"tight\")\n",
    "plt.show()"
   ]
  },
  {
   "cell_type": "code",
   "execution_count": null,
   "id": "974961f3-1f8a-4d5d-ba4f-c1ebd8b575f0",
   "metadata": {},
   "outputs": [],
   "source": []
  },
  {
   "cell_type": "code",
   "execution_count": null,
   "id": "d13946dd-ac6a-4c09-a85b-547046295299",
   "metadata": {},
   "outputs": [],
   "source": []
  },
  {
   "cell_type": "code",
   "execution_count": null,
   "id": "6dc140d3-430c-40c9-960c-293c98652dcd",
   "metadata": {},
   "outputs": [],
   "source": []
  },
  {
   "cell_type": "code",
   "execution_count": 73,
   "id": "03692d7e-0e29-41ab-af1c-c9222284d463",
   "metadata": {},
   "outputs": [
    {
     "data": {
      "image/png": "[encoded data removed]",
      "text/plain": [
       "<Figure size 864x720 with 1 Axes>"
      ]
     },
     "metadata": {
      "needs_background": "light"
     },
     "output_type": "display_data"
    }
   ],
   "source": [
    "plt.figure(figsize = (12,10))\n",
    "sns.countplot(data=recid_df,\n",
    "              y='residence_puma',\n",
    "              hue='recidivism_within_3years',\n",
    "              hue_order =[True, False],\n",
    "              orient='h',\n",
    "              palette='viridis_r',\n",
    "              order=recid_df[recid_df['recidivism_within_3years'] == True].groupby('residence_puma').count().sort_values('recidivism_within_3years', ascending=False).index);\n",
    "\n",
    "plt.title('Recidivism Within 3 Years By PUMAS Area')\n",
    "plt.ylabel('Residence PUMA')\n",
    "plt.xlabel('Count of Individuals Who Recidivate');\n"
   ]
  },
  {
   "cell_type": "code",
   "execution_count": 27,
   "id": "32c26039-db34-4235-bc2b-890707ec3361",
   "metadata": {},
   "outputs": [],
   "source": [
    "# recid_df['recidivism_within_3years'] = recid_df['recidivism_within_3years'].astype(int)\n",
    "# recid_df['recidivism_arrest_year1'] = recid_df['recidivism_arrest_year1'].astype(int)\n",
    "# recid_df['recidivism_arrest_year2'] = recid_df['recidivism_arrest_year2'].astype(int)\n",
    "# recid_df['recidivism_arrest_year3'] = recid_df['recidivism_arrest_year3'].astype(int)"
   ]
  },
  {
   "cell_type": "code",
   "execution_count": 57,
   "id": "fa212ecd",
   "metadata": {},
   "outputs": [],
   "source": [
    "# sns.pairhist(recid_df[['residence_puma', 'supervision_risk_score_first', 'avg_days_per_drugtest', 'drugtests_thc_positive', \n",
    "#                       'drugtests_cocaine_positive', 'drugtests_meth_positive', 'drugtests_other_positive', \n",
    "#                       'percent_days_employed', 'jobs_per_year', 'recidivism_within_3years', 'recidivism_arrest_year1', 'recidivism_arrest_year2', \n",
    "#                       'recidivism_arrest_year3']]);"
   ]
  },
  {
   "cell_type": "code",
   "execution_count": 173,
   "id": "acd69bab-d0c9-449b-825f-aee4ecf7897d",
   "metadata": {},
   "outputs": [
    {
     "name": "stderr",
     "output_type": "stream",
     "text": [
      "/var/folders/3j/my4n0ykx0yb51nj_xv6qbxp40000gn/T/ipykernel_33175/4114808076.py:1: FutureWarning: The default value of numeric_only in DataFrame.corr is deprecated. In a future version, it will default to False. Select only valid columns or specify the value of numeric_only to silence this warning.\n",
      "  recid_df.corr()['recidivism_within_3years'].sort_values(ascending = False).head(10)\n"
     ]
    },
    {
     "data": {
      "text/plain": [
       "recidivism_within_3years                        1.000000\n",
       "recidivism_arrest_year1                         0.559279\n",
       "recidivism_arrest_year2                         0.396854\n",
       "recidivism_arrest_year3                         0.287275\n",
       "supervision_risk_score_first                    0.178494\n",
       "drugtests_thc_positive                          0.151941\n",
       "condition_mh_sa                                 0.113856\n",
       "prior_conviction_episodes_ppviolationcharges    0.095618\n",
       "drugtests_meth_positive                         0.090264\n",
       "prior_arrest_episodes_dvcharges                 0.065997\n",
       "Name: recidivism_within_3years, dtype: float64"
      ]
     },
     "execution_count": 173,
     "metadata": {},
     "output_type": "execute_result"
    }
   ],
   "source": [
    "recid_df.corr()['recidivism_within_3years'].sort_values(ascending = False).head(10)"
   ]
  },
  {
   "cell_type": "code",
   "execution_count": 174,
   "id": "d9c61f74-c6ed-4eff-94db-8773a0fc9063",
   "metadata": {},
   "outputs": [
    {
     "name": "stderr",
     "output_type": "stream",
     "text": [
      "/var/folders/3j/my4n0ykx0yb51nj_xv6qbxp40000gn/T/ipykernel_33175/3081986556.py:1: FutureWarning: The default value of numeric_only in DataFrame.corr is deprecated. In a future version, it will default to False. Select only valid columns or specify the value of numeric_only to silence this warning.\n",
      "  recid_df.corr()['recidivism_within_3years'].sort_values(ascending = False).tail(10)\n"
     ]
    },
    {
     "data": {
      "text/plain": [
       "violations_failtoreport            0.030446\n",
       "residence_puma                     0.025203\n",
       "condition_other                    0.012880\n",
       "avg_days_per_drugtest              0.007615\n",
       "training_sample                    0.003548\n",
       "violations_electronicmonitoring   -0.003807\n",
       "id                                -0.007316\n",
       "employment_exempt                 -0.050343\n",
       "jobs_per_year                     -0.051185\n",
       "percent_days_employed             -0.243669\n",
       "Name: recidivism_within_3years, dtype: float64"
      ]
     },
     "execution_count": 174,
     "metadata": {},
     "output_type": "execute_result"
    }
   ],
   "source": [
    "recid_df.corr()['recidivism_within_3years'].sort_values(ascending = False).tail(10)"
   ]
  },
  {
   "cell_type": "code",
   "execution_count": 31,
   "id": "94df2aac-6355-4093-8dc2-711a5a885f49",
   "metadata": {},
   "outputs": [
    {
     "data": {
      "image/png": "[encoded data removed]",
      "text/plain": [
       "<Figure size 1440x360 with 2 Axes>"
      ]
     },
     "metadata": {
      "needs_background": "light"
     },
     "output_type": "display_data"
    }
   ],
   "source": [
    "plt.figure(figsize = (20, 5))\n",
    "sns.heatmap(recid_df[['residence_puma', 'supervision_risk_score_first', 'avg_days_per_drugtest', 'drugtests_thc_positive', \n",
    "                      'drugtests_cocaine_positive', 'drugtests_meth_positive', 'drugtests_other_positive', \n",
    "                      'percent_days_employed', 'jobs_per_year', 'recidivism_arrest_year1', 'recidivism_arrest_year2', \n",
    "                      'recidivism_arrest_year3']].corr(), cmap = 'BuPu', annot = True);"
   ]
  },
  {
   "cell_type": "code",
   "execution_count": 186,
   "id": "a21589ef-9e47-4397-8b99-eea5e3ee0ad1",
   "metadata": {},
   "outputs": [
    {
     "ename": "AttributeError",
     "evalue": "module 'matplotlib.pyplot' has no attribute 'line'",
     "output_type": "error",
     "traceback": [
      "\u001b[0;31m---------------------------------------------------------------------------\u001b[0m",
      "\u001b[0;31mAttributeError\u001b[0m                            Traceback (most recent call last)",
      "\u001b[0;32m/var/folders/3j/my4n0ykx0yb51nj_xv6qbxp40000gn/T/ipykernel_33175/2971494505.py\u001b[0m in \u001b[0;36m<module>\u001b[0;34m\u001b[0m\n\u001b[1;32m      2\u001b[0m \u001b[0mplt\u001b[0m\u001b[0;34m.\u001b[0m\u001b[0mxlabel\u001b[0m\u001b[0;34m(\u001b[0m\u001b[0;34m''\u001b[0m\u001b[0;34m)\u001b[0m\u001b[0;34m\u001b[0m\u001b[0;34m\u001b[0m\u001b[0m\n\u001b[1;32m      3\u001b[0m \u001b[0mplt\u001b[0m\u001b[0;34m.\u001b[0m\u001b[0mylabel\u001b[0m\u001b[0;34m(\u001b[0m\u001b[0;34m''\u001b[0m\u001b[0;34m)\u001b[0m\u001b[0;34m\u001b[0m\u001b[0;34m\u001b[0m\u001b[0m\n\u001b[0;32m----> 4\u001b[0;31m \u001b[0mplt\u001b[0m\u001b[0;34m.\u001b[0m\u001b[0mline\u001b[0m\u001b[0;34m(\u001b[0m\u001b[0mrecid_df\u001b[0m\u001b[0;34m[\u001b[0m\u001b[0;34m'jobs_per_year'\u001b[0m\u001b[0;34m]\u001b[0m\u001b[0;34m,\u001b[0m \u001b[0mrecid_df\u001b[0m\u001b[0;34m[\u001b[0m\u001b[0;34m'recidivism_arrest_year1'\u001b[0m\u001b[0;34m]\u001b[0m\u001b[0;34m,\u001b[0m \u001b[0mlabel\u001b[0m \u001b[0;34m=\u001b[0m \u001b[0;34m\"Y1\"\u001b[0m\u001b[0;34m)\u001b[0m\u001b[0;34m\u001b[0m\u001b[0;34m\u001b[0m\u001b[0m\n\u001b[0m\u001b[1;32m      5\u001b[0m \u001b[0;34m\u001b[0m\u001b[0m\n\u001b[1;32m      6\u001b[0m \u001b[0mplt\u001b[0m\u001b[0;34m.\u001b[0m\u001b[0mtitle\u001b[0m\u001b[0;34m(\u001b[0m\u001b[0;34m''\u001b[0m\u001b[0;34m)\u001b[0m\u001b[0;34m\u001b[0m\u001b[0;34m\u001b[0m\u001b[0m\n",
      "\u001b[0;31mAttributeError\u001b[0m: module 'matplotlib.pyplot' has no attribute 'line'"
     ]
    },
    {
     "data": {
      "image/png": "[encoded data removed]",
      "text/plain": [
       "<Figure size 432x288 with 1 Axes>"
      ]
     },
     "metadata": {
      "needs_background": "light"
     },
     "output_type": "display_data"
    }
   ],
   "source": [
    "\n",
    "plt.title('')\n",
    "plt.xlabel('')\n",
    "plt.ylabel('')\n",
    "plt.line(recid_df['jobs_per_year'], recid_df['recidivism_arrest_year1'], label = \"Y1\")\n",
    "\n",
    "plt.title('')\n",
    "plt.xlabel('')\n",
    "plt.ylabel('')\n",
    "plt.line(recid_df['jobs_per_year'], recid_df['recidivism_arrest_year2'], label = \"Y2\")\n",
    "\n",
    "plt.title('')\n",
    "plt.xlabel('')\n",
    "plt.ylabel('')\n",
    "plt.line(recid_df['jobs_per_year'], recid_df['recidivism_arrest_year3'], label = \"Y3\")\n",
    "\n",
    "plt.title('')\n",
    "plt.xlabel('')\n",
    "plt.ylabel('')\n",
    "plt.bar(recid_df['jobs_per_year'], recid_df['recidivism_within_3years'], label = \"Recid\")\n",
    "plt.legend();"
   ]
  },
  {
   "cell_type": "code",
   "execution_count": null,
   "id": "ed12ea0e-26eb-487b-88d3-af4830a518b2",
   "metadata": {},
   "outputs": [],
   "source": []
  },
  {
   "cell_type": "code",
   "execution_count": 36,
   "id": "1e5bfa98-a940-4b03-84ad-e93e9e8c469c",
   "metadata": {},
   "outputs": [
    {
     "data": {
      "image/png": "[encoded data removed]",
      "text/plain": [
       "<Figure size 432x288 with 1 Axes>"
      ]
     },
     "metadata": {
      "needs_background": "light"
     },
     "output_type": "display_data"
    }
   ],
   "source": [
    "\n",
    "plt.title('')\n",
    "plt.xlabel('')\n",
    "plt.ylabel('')\n",
    "plt.scatter(recid_df['jobs_per_year'], recid_df['drugtests_thc_positive']);"
   ]
  },
  {
   "cell_type": "code",
   "execution_count": 37,
   "id": "a17f7613-39d7-4465-be8e-e2fa3d48e72a",
   "metadata": {},
   "outputs": [
    {
     "data": {
      "image/png": "[encoded data removed]",
      "text/plain": [
       "<Figure size 432x288 with 1 Axes>"
      ]
     },
     "metadata": {
      "needs_background": "light"
     },
     "output_type": "display_data"
    }
   ],
   "source": [
    "\n",
    "plt.title('')\n",
    "plt.xlabel('')\n",
    "plt.ylabel('')\n",
    "plt.scatter(recid_df['jobs_per_year'], recid_df['drugtests_cocaine_positive']);"
   ]
  },
  {
   "cell_type": "code",
   "execution_count": 38,
   "id": "05406172-b2da-418b-b7c1-136b7130c497",
   "metadata": {},
   "outputs": [
    {
     "data": {
      "image/png": "[encoded data removed]",
      "text/plain": [
       "<Figure size 432x288 with 1 Axes>"
      ]
     },
     "metadata": {
      "needs_background": "light"
     },
     "output_type": "display_data"
    }
   ],
   "source": [
    "\n",
    "plt.title('')\n",
    "plt.xlabel('')\n",
    "plt.ylabel('')\n",
    "plt.scatter(recid_df['jobs_per_year'], recid_df['drugtests_meth_positive']);"
   ]
  },
  {
   "cell_type": "code",
   "execution_count": 39,
   "id": "5e641c6c-9bfa-4a4f-a6bb-cd9d7e3eaf23",
   "metadata": {},
   "outputs": [
    {
     "data": {
      "image/png": "[encoded data removed]",
      "text/plain": [
       "<Figure size 432x288 with 1 Axes>"
      ]
     },
     "metadata": {
      "needs_background": "light"
     },
     "output_type": "display_data"
    }
   ],
   "source": [
    "\n",
    "plt.title('')\n",
    "plt.xlabel('')\n",
    "plt.ylabel('')\n",
    "plt.scatter(recid_df['jobs_per_year'], recid_df['drugtests_other_positive']);"
   ]
  },
  {
   "cell_type": "code",
   "execution_count": null,
   "id": "9409b4fb-394a-410a-b522-bebbdce14def",
   "metadata": {},
   "outputs": [],
   "source": []
  }
 ],
 "metadata": {
  "kernelspec": {
   "display_name": "Python 3 (ipykernel)",
   "language": "python",
   "name": "python3"
  },
  "language_info": {
   "codemirror_mode": {
    "name": "ipython",
    "version": 3
   },
   "file_extension": ".py",
   "mimetype": "text/x-python",
   "name": "python",
   "nbconvert_exporter": "python",
   "pygments_lexer": "ipython3",
   "version": "3.9.7"
  },
  "vscode": {
   "interpreter": {
    "hash": "aee8b7b246df8f9039afb4144a1f6fd8d2ca17a180786b69acc140d282b71a49"
   }
  }
 },
 "nbformat": 4,
 "nbformat_minor": 5
}
