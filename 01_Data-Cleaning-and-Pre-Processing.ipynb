{
 "cells": [
  {
   "cell_type": "markdown",
   "id": "ae417bb9-50fe-486d-b62e-40d0f335dcf3",
   "metadata": {
    "tags": []
   },
   "source": [
    "# Project 5 (Group) - Georgia State Recidivism: Binary Classification Forecasting"
   ]
  },
  {
   "cell_type": "markdown",
   "id": "c43b68ee-b54b-4c8d-9dcc-accdbc772fb9",
   "metadata": {},
   "source": [
    "## Notebook Summary\n",
    "---\n",
    "This contents of this notebook includes the problem statement, background research, & pre-processing/data cleaning"
   ]
  },
  {
   "cell_type": "markdown",
   "id": "d7a7dc3b-dd41-4ba7-bf58-4682aa324254",
   "metadata": {
    "tags": []
   },
   "source": [
    "## Problem Statement\n",
    "---"
   ]
  },
  {
   "cell_type": "markdown",
   "id": "c752facb-9fb7-41bd-86b8-a878278af7df",
   "metadata": {},
   "source": [
    "The National Institute of Justice and the US Office of Justice Programs are looking to address recidivism rates by predicting persons most at risk. The focus of this project is to identify key variables that increase the probability a person will recidivate. Using a binary classification, can predictive attributes be identified and used to create solutions that can reduce prison reentry rates?"
   ]
  },
  {
   "cell_type": "markdown",
   "id": "bc9bb212-23f6-44e9-988b-3e0c1352241a",
   "metadata": {
    "tags": []
   },
   "source": [
    "## Background & Outside Research\n",
    "---"
   ]
  },
  {
   "cell_type": "markdown",
   "id": "765672bd-88c2-4a11-b01f-84fbd2fd8761",
   "metadata": {},
   "source": [
    "### Project Websites\n",
    "- \"NIJ's Recidivism Challenge Full Dataset.\" Office of Justice Programs, U.S. Department of Justice, [Source](data.ojp.usdoj.gov/Courts/NIJ-s-Recidivism-Challenge-Full-Dataset/ynf5-u8nk)\n",
    "- \"Recidivism Forecasting Challenge.\" National Institute of Justice, U.S. Department of Justice, [Source](nij.ojp.gov/funding/recidivism-forecasting-challenge#g0jtto)\n",
    "- \"Evaluating Reentry Programs: A User's Guide to Measuring Recidivism.\" Office of Justice Programs, U.S. Department of Justice, [Source](www.ojp.gov/pdffiles1/nij/304110.pdf)"
   ]
  },
  {
   "cell_type": "markdown",
   "id": "de8de0f6-811e-42b7-838a-e49ad8cc28f5",
   "metadata": {},
   "source": [
    "#### Office of Justice Programs - NIJ Recidivism Challenge #### ([*source*](https://data.ojp.usdoj.gov/stories/s/daxx-hznc))\n",
    "- The National Institute of Justice invests in scientific research across diverse disciplines to serve the needs of the criminal justice community.\n",
    "- Many new data analytic methods could be further applied to the criminal justice system, specifically recidivism forecasting algorithms\n",
    "- Since practitioners began to systematically assess risk, risk assessment tools have been constantly refined with new factors and types of data, including dynamic factors that capture current information regarding persons on probation and parole.\n",
    "- Recidivism is measured as an arrest for a new felony or misdemeanor crime within three years of the supervision start date. "
   ]
  },
  {
   "cell_type": "markdown",
   "id": "ad814833-f347-438c-8965-737e3b67740d",
   "metadata": {},
   "source": [
    "### Datasets\n",
    "---\n",
    "\n",
    "The raw datasets are located inside the [`data`](./data/) folder for this project.\n",
    "* [`NIJ_s_Recidivism_Challenge_Full_Dataset.csv`](./data/NIJ_s_Recidivism_Challenge_Full_Dataset.csv): this dataset is the main dataset\n",
    "* [`census_puma_data.csv`](./data/census_puma_data.csv): this is a supplemental dataset"
   ]
  },
  {
   "cell_type": "markdown",
   "id": "e5ef859f-5fe7-496d-b35f-a6d806d37692",
   "metadata": {
    "tags": []
   },
   "source": [
    "--- \n",
    "# Part 1 - Data Cleaning/Pre-Processing\n",
    "\n",
    "---"
   ]
  },
  {
   "cell_type": "code",
   "execution_count": 1,
   "id": "0ad85b42-c482-4ee7-ae93-bf6a8108b24e",
   "metadata": {},
   "outputs": [],
   "source": [
    "#import libraries\n",
    "import pandas as pd\n",
    "import numpy as np\n",
    "import matplotlib.pyplot as plt\n",
    "import seaborn as sns\n",
    "import sklearn\n",
    "from sklearn.impute import KNNImputer, SimpleImputer\n",
    "from sklearn.compose import make_column_transformer\n",
    "from sklearn.preprocessing import OneHotEncoder, StandardScaler"
   ]
  },
  {
   "cell_type": "code",
   "execution_count": 2,
   "id": "f803ddc5-0d3f-4393-be61-a30b286cbbbc",
   "metadata": {},
   "outputs": [
    {
     "data": {
      "text/plain": [
       "(25835, 54)"
      ]
     },
     "execution_count": 2,
     "metadata": {},
     "output_type": "execute_result"
    }
   ],
   "source": [
    "recid_df = pd.read_csv('./data/NIJ_s_Recidivism_Challenge_Full_Dataset.csv')\n",
    "recid_df.columns = [x.lower() for x in recid_df]\n",
    "recid_df.shape"
   ]
  },
  {
   "cell_type": "code",
   "execution_count": 3,
   "id": "76bd180b-6f4d-46e7-9976-03cc91c52ef7",
   "metadata": {},
   "outputs": [
    {
     "data": {
      "text/html": [
       "<div>\n",
       "<style scoped>\n",
       "    .dataframe tbody tr th:only-of-type {\n",
       "        vertical-align: middle;\n",
       "    }\n",
       "\n",
       "    .dataframe tbody tr th {\n",
       "        vertical-align: top;\n",
       "    }\n",
       "\n",
       "    .dataframe thead th {\n",
       "        text-align: right;\n",
       "    }\n",
       "</style>\n",
       "<table border=\"1\" class=\"dataframe\">\n",
       "  <thead>\n",
       "    <tr style=\"text-align: right;\">\n",
       "      <th></th>\n",
       "      <th>count</th>\n",
       "      <th>mean</th>\n",
       "      <th>std</th>\n",
       "      <th>min</th>\n",
       "      <th>25%</th>\n",
       "      <th>50%</th>\n",
       "      <th>75%</th>\n",
       "      <th>max</th>\n",
       "    </tr>\n",
       "  </thead>\n",
       "  <tbody>\n",
       "    <tr>\n",
       "      <th>id</th>\n",
       "      <td>25835.0</td>\n",
       "      <td>13314.004838</td>\n",
       "      <td>7722.206327</td>\n",
       "      <td>1.0</td>\n",
       "      <td>6626.500000</td>\n",
       "      <td>13270.000000</td>\n",
       "      <td>20021.500000</td>\n",
       "      <td>26761.0</td>\n",
       "    </tr>\n",
       "    <tr>\n",
       "      <th>residence_puma</th>\n",
       "      <td>25835.0</td>\n",
       "      <td>12.361796</td>\n",
       "      <td>7.133742</td>\n",
       "      <td>1.0</td>\n",
       "      <td>6.000000</td>\n",
       "      <td>12.000000</td>\n",
       "      <td>18.000000</td>\n",
       "      <td>25.0</td>\n",
       "    </tr>\n",
       "    <tr>\n",
       "      <th>supervision_risk_score_first</th>\n",
       "      <td>25360.0</td>\n",
       "      <td>6.082216</td>\n",
       "      <td>2.381442</td>\n",
       "      <td>1.0</td>\n",
       "      <td>4.000000</td>\n",
       "      <td>6.000000</td>\n",
       "      <td>8.000000</td>\n",
       "      <td>10.0</td>\n",
       "    </tr>\n",
       "    <tr>\n",
       "      <th>avg_days_per_drugtest</th>\n",
       "      <td>19732.0</td>\n",
       "      <td>93.890044</td>\n",
       "      <td>117.169847</td>\n",
       "      <td>0.5</td>\n",
       "      <td>28.837366</td>\n",
       "      <td>55.424812</td>\n",
       "      <td>110.333333</td>\n",
       "      <td>1088.5</td>\n",
       "    </tr>\n",
       "    <tr>\n",
       "      <th>drugtests_thc_positive</th>\n",
       "      <td>20663.0</td>\n",
       "      <td>0.063350</td>\n",
       "      <td>0.138453</td>\n",
       "      <td>0.0</td>\n",
       "      <td>0.000000</td>\n",
       "      <td>0.000000</td>\n",
       "      <td>0.071429</td>\n",
       "      <td>1.0</td>\n",
       "    </tr>\n",
       "    <tr>\n",
       "      <th>drugtests_cocaine_positive</th>\n",
       "      <td>20663.0</td>\n",
       "      <td>0.013741</td>\n",
       "      <td>0.061233</td>\n",
       "      <td>0.0</td>\n",
       "      <td>0.000000</td>\n",
       "      <td>0.000000</td>\n",
       "      <td>0.000000</td>\n",
       "      <td>1.0</td>\n",
       "    </tr>\n",
       "    <tr>\n",
       "      <th>drugtests_meth_positive</th>\n",
       "      <td>20663.0</td>\n",
       "      <td>0.012890</td>\n",
       "      <td>0.060581</td>\n",
       "      <td>0.0</td>\n",
       "      <td>0.000000</td>\n",
       "      <td>0.000000</td>\n",
       "      <td>0.000000</td>\n",
       "      <td>1.0</td>\n",
       "    </tr>\n",
       "    <tr>\n",
       "      <th>drugtests_other_positive</th>\n",
       "      <td>20663.0</td>\n",
       "      <td>0.007550</td>\n",
       "      <td>0.041150</td>\n",
       "      <td>0.0</td>\n",
       "      <td>0.000000</td>\n",
       "      <td>0.000000</td>\n",
       "      <td>0.000000</td>\n",
       "      <td>1.0</td>\n",
       "    </tr>\n",
       "    <tr>\n",
       "      <th>percent_days_employed</th>\n",
       "      <td>25373.0</td>\n",
       "      <td>0.482331</td>\n",
       "      <td>0.425004</td>\n",
       "      <td>0.0</td>\n",
       "      <td>0.000000</td>\n",
       "      <td>0.475728</td>\n",
       "      <td>0.969325</td>\n",
       "      <td>1.0</td>\n",
       "    </tr>\n",
       "    <tr>\n",
       "      <th>jobs_per_year</th>\n",
       "      <td>25027.0</td>\n",
       "      <td>0.769295</td>\n",
       "      <td>0.813787</td>\n",
       "      <td>0.0</td>\n",
       "      <td>0.000000</td>\n",
       "      <td>0.635217</td>\n",
       "      <td>1.000000</td>\n",
       "      <td>8.0</td>\n",
       "    </tr>\n",
       "    <tr>\n",
       "      <th>training_sample</th>\n",
       "      <td>25835.0</td>\n",
       "      <td>0.697813</td>\n",
       "      <td>0.459215</td>\n",
       "      <td>0.0</td>\n",
       "      <td>0.000000</td>\n",
       "      <td>1.000000</td>\n",
       "      <td>1.000000</td>\n",
       "      <td>1.0</td>\n",
       "    </tr>\n",
       "  </tbody>\n",
       "</table>\n",
       "</div>"
      ],
      "text/plain": [
       "                                count          mean          std  min  \\\n",
       "id                            25835.0  13314.004838  7722.206327  1.0   \n",
       "residence_puma                25835.0     12.361796     7.133742  1.0   \n",
       "supervision_risk_score_first  25360.0      6.082216     2.381442  1.0   \n",
       "avg_days_per_drugtest         19732.0     93.890044   117.169847  0.5   \n",
       "drugtests_thc_positive        20663.0      0.063350     0.138453  0.0   \n",
       "drugtests_cocaine_positive    20663.0      0.013741     0.061233  0.0   \n",
       "drugtests_meth_positive       20663.0      0.012890     0.060581  0.0   \n",
       "drugtests_other_positive      20663.0      0.007550     0.041150  0.0   \n",
       "percent_days_employed         25373.0      0.482331     0.425004  0.0   \n",
       "jobs_per_year                 25027.0      0.769295     0.813787  0.0   \n",
       "training_sample               25835.0      0.697813     0.459215  0.0   \n",
       "\n",
       "                                      25%           50%           75%      max  \n",
       "id                            6626.500000  13270.000000  20021.500000  26761.0  \n",
       "residence_puma                   6.000000     12.000000     18.000000     25.0  \n",
       "supervision_risk_score_first     4.000000      6.000000      8.000000     10.0  \n",
       "avg_days_per_drugtest           28.837366     55.424812    110.333333   1088.5  \n",
       "drugtests_thc_positive           0.000000      0.000000      0.071429      1.0  \n",
       "drugtests_cocaine_positive       0.000000      0.000000      0.000000      1.0  \n",
       "drugtests_meth_positive          0.000000      0.000000      0.000000      1.0  \n",
       "drugtests_other_positive         0.000000      0.000000      0.000000      1.0  \n",
       "percent_days_employed            0.000000      0.475728      0.969325      1.0  \n",
       "jobs_per_year                    0.000000      0.635217      1.000000      8.0  \n",
       "training_sample                  0.000000      1.000000      1.000000      1.0  "
      ]
     },
     "execution_count": 3,
     "metadata": {},
     "output_type": "execute_result"
    }
   ],
   "source": [
    "recid_df.describe().T"
   ]
  },
  {
   "cell_type": "markdown",
   "id": "806e5f51-aafc-4be1-9e7a-3d1270231c2e",
   "metadata": {},
   "source": [
    "### Outliers\n",
    "'avg_days_per_drugtest' looks to have a large max value. check for outliers through scatterplot"
   ]
  },
  {
   "cell_type": "code",
   "execution_count": 4,
   "id": "a56c37af-19f1-445f-b368-d2bedecab850",
   "metadata": {},
   "outputs": [
    {
     "data": {
      "text/plain": [
       "1"
      ]
     },
     "execution_count": 4,
     "metadata": {},
     "output_type": "execute_result"
    },
    {
     "data": {
      "image/png": "[encoded data removed]",
      "text/plain": [
       "<Figure size 640x480 with 1 Axes>"
      ]
     },
     "metadata": {},
     "output_type": "display_data"
    }
   ],
   "source": [
    "plt.scatter(y = recid_df['avg_days_per_drugtest'], x = recid_df['id']);1"
   ]
  },
  {
   "cell_type": "markdown",
   "id": "e35f28e9-9c38-4507-9a15-201800a550c6",
   "metadata": {},
   "source": [
    "No standout outliers seen."
   ]
  },
  {
   "cell_type": "markdown",
   "id": "e35646d0-4f1c-4164-a927-acd4a92368e0",
   "metadata": {
    "tags": []
   },
   "source": [
    "### Nulls"
   ]
  },
  {
   "cell_type": "markdown",
   "id": "d58b4744-edf7-45ac-8f1c-c4cb1cbe7807",
   "metadata": {
    "tags": []
   },
   "source": [
    "#### Potential Ways to Handle Nulls\n",
    "Note: KNN doesn't expect data to be normally distributed, but iterativeimputer does, but we have a lot of cols so it might not be super important\n",
    "\n",
    "**pre train-test-split**\n",
    "<!-- - prison_offense - 12.7% of the data - drop nulls bc this will prob be highly correlated with other cols that'll capture -->\n",
    "\n",
    "**post train-test-split**\n",
    "\n",
    "KNNimputer\n",
    "- gang_affiliated - 12% of the data, initial thinking is to drop OR knn imputer\n",
    "\n",
    "-Impute with Mean\n",
    "- supervision_risk_score_first - pretty normal distribution, use mean\n",
    "\n",
    "-Impute with most frequent\n",
    "- supervision_level_first - 7% of the data - most frequent - 'Standard', use mode"
   ]
  },
  {
   "cell_type": "code",
   "execution_count": 5,
   "id": "28aaa1f8-0852-4123-901e-250bafade7f7",
   "metadata": {},
   "outputs": [
    {
     "data": {
      "text/html": [
       "<div>\n",
       "<style scoped>\n",
       "    .dataframe tbody tr th:only-of-type {\n",
       "        vertical-align: middle;\n",
       "    }\n",
       "\n",
       "    .dataframe tbody tr th {\n",
       "        vertical-align: top;\n",
       "    }\n",
       "\n",
       "    .dataframe thead th {\n",
       "        text-align: right;\n",
       "    }\n",
       "</style>\n",
       "<table border=\"1\" class=\"dataframe\">\n",
       "  <thead>\n",
       "    <tr style=\"text-align: right;\">\n",
       "      <th></th>\n",
       "      <th>0</th>\n",
       "    </tr>\n",
       "  </thead>\n",
       "  <tbody>\n",
       "    <tr>\n",
       "      <th>gang_affiliated</th>\n",
       "      <td>3167</td>\n",
       "    </tr>\n",
       "    <tr>\n",
       "      <th>supervision_risk_score_first</th>\n",
       "      <td>475</td>\n",
       "    </tr>\n",
       "    <tr>\n",
       "      <th>supervision_level_first</th>\n",
       "      <td>1720</td>\n",
       "    </tr>\n",
       "    <tr>\n",
       "      <th>prison_offense</th>\n",
       "      <td>3277</td>\n",
       "    </tr>\n",
       "    <tr>\n",
       "      <th>avg_days_per_drugtest</th>\n",
       "      <td>6103</td>\n",
       "    </tr>\n",
       "    <tr>\n",
       "      <th>drugtests_thc_positive</th>\n",
       "      <td>5172</td>\n",
       "    </tr>\n",
       "    <tr>\n",
       "      <th>drugtests_cocaine_positive</th>\n",
       "      <td>5172</td>\n",
       "    </tr>\n",
       "    <tr>\n",
       "      <th>drugtests_meth_positive</th>\n",
       "      <td>5172</td>\n",
       "    </tr>\n",
       "    <tr>\n",
       "      <th>drugtests_other_positive</th>\n",
       "      <td>5172</td>\n",
       "    </tr>\n",
       "    <tr>\n",
       "      <th>percent_days_employed</th>\n",
       "      <td>462</td>\n",
       "    </tr>\n",
       "    <tr>\n",
       "      <th>jobs_per_year</th>\n",
       "      <td>808</td>\n",
       "    </tr>\n",
       "  </tbody>\n",
       "</table>\n",
       "</div>"
      ],
      "text/plain": [
       "                                 0\n",
       "gang_affiliated               3167\n",
       "supervision_risk_score_first   475\n",
       "supervision_level_first       1720\n",
       "prison_offense                3277\n",
       "avg_days_per_drugtest         6103\n",
       "drugtests_thc_positive        5172\n",
       "drugtests_cocaine_positive    5172\n",
       "drugtests_meth_positive       5172\n",
       "drugtests_other_positive      5172\n",
       "percent_days_employed          462\n",
       "jobs_per_year                  808"
      ]
     },
     "execution_count": 5,
     "metadata": {},
     "output_type": "execute_result"
    }
   ],
   "source": [
    "nulls = pd.DataFrame(recid_df.isna().sum())\n",
    "nulls = nulls.loc[nulls[0] != 0]\n",
    "nulls"
   ]
  },
  {
   "cell_type": "markdown",
   "id": "0a088414-d12c-45be-a520-f6580d4001ef",
   "metadata": {},
   "source": [
    "'drug' columns there is a theme: no 0 values so NAN must represent 0."
   ]
  },
  {
   "cell_type": "code",
   "execution_count": 6,
   "id": "4cdbfe12-21d5-49df-9069-6847598525ee",
   "metadata": {},
   "outputs": [],
   "source": [
    "drug_cols = recid_df.filter(like='drugtest').columns\n",
    "recid_df[drug_cols] = recid_df[drug_cols].fillna(0)"
   ]
  },
  {
   "cell_type": "markdown",
   "id": "6b59ef85-795c-4068-884f-562f06542754",
   "metadata": {},
   "source": [
    "'prison_offense' NANs will be dropped. Account for  12.8% of the total data and in addition it would be impossible to impute accurately."
   ]
  },
  {
   "cell_type": "code",
   "execution_count": 7,
   "id": "990b1e60-c28c-4c37-8eee-3a2475b8bb39",
   "metadata": {},
   "outputs": [],
   "source": [
    "recid_df.dropna(subset ='prison_offense', inplace = True)"
   ]
  },
  {
   "cell_type": "markdown",
   "id": "69b6d325-f389-4e13-b84e-5c686ca77754",
   "metadata": {},
   "source": [
    "'jobs_per_year' and 'percent_days_employed' are very similar and because of this we can choose one to keep. A better metric of employement would be percent_days since it relates to total time instead of 'jobs_per_year' . Dropping 'jobs_per_year' also removes the higher NaN value catergory."
   ]
  },
  {
   "cell_type": "code",
   "execution_count": 8,
   "id": "e8f85dd0-e14b-455d-88f2-47800099c57a",
   "metadata": {},
   "outputs": [],
   "source": [
    "recid_df.drop(columns = 'jobs_per_year',inplace = True)"
   ]
  },
  {
   "cell_type": "markdown",
   "id": "ddff9345-16cd-4664-9dae-33e620686f04",
   "metadata": {},
   "source": [
    "'percent_days_employed' is 2% of the data and would be difficult to impute accurately. Drop rows with NaNs."
   ]
  },
  {
   "cell_type": "code",
   "execution_count": 9,
   "id": "4416b617-c7ed-47e5-bcfc-1af4eb6d9520",
   "metadata": {},
   "outputs": [],
   "source": [
    "recid_df.dropna(subset = ['percent_days_employed'],inplace = True)"
   ]
  },
  {
   "cell_type": "markdown",
   "id": "e59ff228-c73c-4d59-878f-92523c287c4c",
   "metadata": {},
   "source": [
    "Check distributions of remaining nulls"
   ]
  },
  {
   "cell_type": "code",
   "execution_count": 10,
   "id": "15f1fe89-bfcd-4e20-8a0c-7a4b8e42273d",
   "metadata": {},
   "outputs": [
    {
     "data": {
      "text/plain": [
       "<AxesSubplot:xlabel='supervision_risk_score_first', ylabel='Count'>"
      ]
     },
     "execution_count": 10,
     "metadata": {},
     "output_type": "execute_result"
    },
    {
     "data": {
      "image/png": "[encoded data removed]",
      "text/plain": [
       "<Figure size 640x480 with 1 Axes>"
      ]
     },
     "metadata": {},
     "output_type": "display_data"
    }
   ],
   "source": [
    "sns.histplot(data=recid_df,x='supervision_risk_score_first')"
   ]
  },
  {
   "cell_type": "code",
   "execution_count": 11,
   "id": "95c5a376-52d8-4d86-a339-2e281bc42b44",
   "metadata": {},
   "outputs": [
    {
     "data": {
      "text/plain": [
       "<AxesSubplot:xlabel='supervision_level_first', ylabel='Count'>"
      ]
     },
     "execution_count": 11,
     "metadata": {},
     "output_type": "execute_result"
    },
    {
     "data": {
      "image/png": "[encoded data removed]",
      "text/plain": [
       "<Figure size 640x480 with 1 Axes>"
      ]
     },
     "metadata": {},
     "output_type": "display_data"
    }
   ],
   "source": [
    "sns.histplot(data=recid_df,x='supervision_level_first')"
   ]
  },
  {
   "cell_type": "markdown",
   "id": "3b2b6b2b-8f71-47a0-ba8a-81bb63dbcdd3",
   "metadata": {},
   "source": [
    "How to Deal with remaing null values based on distributions:\n",
    "\n",
    "- KNNimputer: gang_affiliated - 12% of the data, initial thinking is to drop OR knn imputer\n",
    "- Impute with Mean: supervision_risk_score_first (normal distribution)\n",
    "- Impute with most frequent: supervision_level_first - 7% of the data - most frequent "
   ]
  },
  {
   "cell_type": "markdown",
   "id": "93520c8d-c49b-42b4-a2b4-326770f44f14",
   "metadata": {},
   "source": [
    "## Binary Columns to Numeric"
   ]
  },
  {
   "cell_type": "markdown",
   "id": "82fd0e71-5741-44b2-a454-ade85879d6e2",
   "metadata": {},
   "source": [
    "####  Converting booleans to binary values true 1- false 0"
   ]
  },
  {
   "cell_type": "code",
   "execution_count": 12,
   "id": "f4d8401a-72fc-43e8-8d21-b0eaea6f8208",
   "metadata": {},
   "outputs": [],
   "source": [
    "for cols in recid_df.select_dtypes(include = ['bool']).columns:\n",
    "    recid_df[cols].replace({True: 1, False: 0}, inplace=True)"
   ]
  },
  {
   "cell_type": "markdown",
   "id": "31a8c53b-e858-4d87-ba34-7fdd791aafa5",
   "metadata": {},
   "source": [
    "#### Convert M to 1 and F to 0  for gender and BLACK to 1 and WHITE to 0  for race"
   ]
  },
  {
   "cell_type": "code",
   "execution_count": 13,
   "id": "4d6dc9d9-38e6-4995-9818-1c4dcb053d54",
   "metadata": {},
   "outputs": [],
   "source": [
    "recid_df['gender'].replace({'M': 1, 'F': 0}, inplace=True)\n",
    "recid_df['race'].replace({'BLACK': 1, 'WHITE': 0}, inplace=True)"
   ]
  },
  {
   "cell_type": "markdown",
   "id": "b4cb441c-603c-493e-95b0-a013e5f3aca4",
   "metadata": {},
   "source": [
    "#### Converting 'Dependents' from ordinal to Binary/Numeric\n",
    "Dependents becomes binary through this transformation"
   ]
  },
  {
   "cell_type": "code",
   "execution_count": 14,
   "id": "69710052-e041-4d8a-8968-4a14eec7cc68",
   "metadata": {},
   "outputs": [],
   "source": [
    "recid_df['dependents'].replace({'0': 0, '1': 1, '2': 1, '3 or more': 1}, inplace=True)\n",
    "recid_df.rename({'dependents': 'has_dependents'}, inplace=True)"
   ]
  },
  {
   "cell_type": "markdown",
   "id": "d24e9b3c-4daa-4e05-ad67-616d5a275941",
   "metadata": {},
   "source": [
    "## Train and Test Split\n",
    "The data was already split (70/30) into train_test_split for the challenge"
   ]
  },
  {
   "cell_type": "code",
   "execution_count": 15,
   "id": "26070d44-8f82-461a-b356-b4332a78259d",
   "metadata": {},
   "outputs": [
    {
     "data": {
      "text/plain": [
       "1    0.697009\n",
       "0    0.302991\n",
       "Name: training_sample, dtype: float64"
      ]
     },
     "execution_count": 15,
     "metadata": {},
     "output_type": "execute_result"
    }
   ],
   "source": [
    "recid_df['training_sample'].value_counts(normalize=True)"
   ]
  },
  {
   "cell_type": "markdown",
   "id": "88d3e6fc-7003-4413-8feb-3ed561287472",
   "metadata": {},
   "source": [
    "Split on the 'training_sample' identifiction "
   ]
  },
  {
   "cell_type": "code",
   "execution_count": 16,
   "id": "8df07587-e4ef-495b-b578-7ccbf380dd65",
   "metadata": {},
   "outputs": [],
   "source": [
    "train = recid_df.loc[recid_df['training_sample'] == 1]\n",
    "test = recid_df.loc[recid_df['training_sample'] == 0]"
   ]
  },
  {
   "cell_type": "markdown",
   "id": "94eb7f67-6f1b-46fa-9d33-4d53e3220831",
   "metadata": {},
   "source": [
    "Set the X variables by droppingn 'targets' and 'training_sample' columns"
   ]
  },
  {
   "cell_type": "code",
   "execution_count": 17,
   "id": "bbe1ed22-f154-4915-a45d-aa88739e0b1f",
   "metadata": {},
   "outputs": [],
   "source": [
    "target_cols = ['recidivism_within_3years','recidivism_arrest_year1', 'recidivism_arrest_year2', 'recidivism_arrest_year3', 'training_sample']\n",
    "\n",
    "X_train_df = train.drop(columns = target_cols)\n",
    "X_test_df = test.drop(columns = target_cols)"
   ]
  },
  {
   "cell_type": "markdown",
   "id": "90e460ba-d23b-4df6-a5f3-f9d7062d27cf",
   "metadata": {},
   "source": [
    "Set the y variables by chosing the target variable and ID for identification later "
   ]
  },
  {
   "cell_type": "code",
   "execution_count": 18,
   "id": "f57ccd3e-9b39-449b-be3d-0cf5103425f6",
   "metadata": {},
   "outputs": [],
   "source": [
    "features = ['id','recidivism_within_3years']\n",
    "\n",
    "y_train = train[features]\n",
    "y_test = test[features]"
   ]
  },
  {
   "cell_type": "markdown",
   "id": "feef29d9-1c75-4236-8531-8fd5420e0f32",
   "metadata": {},
   "source": [
    "## Impute Missing Values\n",
    "Now that the data is split, no data will bleed when imputing. Each train and test dataframe will be imputted"
   ]
  },
  {
   "cell_type": "markdown",
   "id": "35e8ac55-238b-4877-bd3b-35203a08c0da",
   "metadata": {},
   "source": [
    "### Impute supervision_risk_score_first (mean) & supervision_level_first (mode)"
   ]
  },
  {
   "cell_type": "code",
   "execution_count": 20,
   "id": "6a909089-eef3-4abe-8930-29eb42c57e73",
   "metadata": {},
   "outputs": [],
   "source": [
    "#impute mean\n",
    "imputer1 = SimpleImputer(strategy='mean')\n",
    "\n",
    "#impute most_frequent\n",
    "imputer2 = SimpleImputer(strategy=\"most_frequent\")\n",
    "\n",
    "#make column transformer to feed each column into its respective imputer\n",
    "imputer = make_column_transformer((imputer1,['supervision_risk_score_first']),\n",
    "                                  (imputer2,['supervision_level_first']),\n",
    "                                  remainder='passthrough',\n",
    "                                  verbose_feature_names_out=False)\n",
    "#apply fit transform to train set\n",
    "imputer.fit_transform(X_train_df)\n",
    "\n",
    "#convert to df\n",
    "X_train_df_imp = pd.DataFrame(imputer.fit_transform(X_train_df), columns= imputer.get_feature_names_out(), index=X_train_df.index)"
   ]
  },
  {
   "cell_type": "code",
   "execution_count": 21,
   "id": "aa525ac4-9db4-4739-9a87-48621a3d5a91",
   "metadata": {},
   "outputs": [],
   "source": [
    "#apply fit and transformer to test df\n",
    "imputer.fit_transform(X_test_df)\n",
    "\n",
    "#convert to df\n",
    "X_test_df_imp = pd.DataFrame(imputer.fit_transform(X_test_df), columns= imputer.get_feature_names_out(), index=X_test_df.index)"
   ]
  },
  {
   "cell_type": "code",
   "execution_count": 27,
   "id": "077bd90c-9444-4065-8b17-36ada672bc97",
   "metadata": {},
   "outputs": [],
   "source": [
    "# X_train_df.select_dtypes(['object'])"
   ]
  },
  {
   "cell_type": "markdown",
   "id": "126ff019-36dc-44e8-a396-dcfa97494a98",
   "metadata": {},
   "source": [
    "### Encode Categorical Columns\n",
    "Encoding must happen in order to properly KNN impute on the 'gang_relation' column"
   ]
  },
  {
   "cell_type": "code",
   "execution_count": 28,
   "id": "1fcec8a7-c34f-47c2-a0a7-00834919cfab",
   "metadata": {},
   "outputs": [],
   "source": [
    "#unique vals for cols to turn to ordinal vals\n",
    "cols_to_numeric = ['prior_arrest_episodes_felony',\n",
    "                   'prior_arrest_episodes_misd',\n",
    "                   'prior_arrest_episodes_violent',\n",
    "                   'prior_arrest_episodes_property',\n",
    "                   'prior_arrest_episodes_drug',\n",
    "                   'prior_arrest_episodes_ppviolationcharges',\n",
    "                   'prior_conviction_episodes_felony',\n",
    "                   'prior_conviction_episodes_misd',\n",
    "                   'prior_conviction_episodes_prop',\n",
    "                   'prior_conviction_episodes_drug',\n",
    "                   'delinquency_reports',\n",
    "                   'program_unexcusedabsences',\n",
    "                   'program_attendances',\n",
    "                   'residence_changes']\n",
    "\n",
    "# strip 'or more' from all vals from the cols above train\n",
    "for c in cols_to_numeric:\n",
    "    X_train_df_imp[c] = X_train_df_imp[c].str.strip(' or more')\n",
    "    \n",
    "    # strip 'or more' from all vals from the cols above test\n",
    "for c in cols_to_numeric:\n",
    "    X_test_df_imp[c] = X_test_df_imp[c].str.strip(' or more')"
   ]
  },
  {
   "cell_type": "code",
   "execution_count": 29,
   "id": "d2f17e29-8ded-4c3f-a4af-76f9653993d4",
   "metadata": {},
   "outputs": [],
   "source": [
    "#converting these columns to numeric train\n",
    "for c in cols_to_numeric:\n",
    "    X_train_df_imp[c] = pd.to_numeric(X_train_df_imp[c])\n",
    "    \n",
    "#converting these columns to numeric test\n",
    "for c in cols_to_numeric:\n",
    "    X_test_df_imp[c] = pd.to_numeric(X_test_df_imp[c])"
   ]
  },
  {
   "cell_type": "markdown",
   "id": "e43f114a-64e1-4cd2-94cd-8d68b02491bf",
   "metadata": {},
   "source": [
    "### Converting select object columns to numeric\n",
    "Strange thing happened so we must again change the column types to numeric and cleaning up clerical issues with 'supervision_risk_score_first'"
   ]
  },
  {
   "cell_type": "code",
   "execution_count": 30,
   "id": "d5ac17f8-5f02-4c1a-9ca5-80ba9af8ac56",
   "metadata": {},
   "outputs": [],
   "source": [
    "#changing incorrect dtypes for cols from obj to numeric\n",
    "\n",
    "obj_to_numeric = ['gender', 'race', 'dependents', 'prior_arrest_episodes_dvcharges', 'prior_arrest_episodes_guncharges',\n",
    "       'prior_conviction_episodes_viol',\n",
    "       'prior_conviction_episodes_ppviolationcharges',\n",
    "       'prior_conviction_episodes_domesticviolencecharges',\n",
    "       'prior_conviction_episodes_guncharges', 'prior_revocations_parole',\n",
    "       'prior_revocations_probation', 'condition_mh_sa', 'condition_cog_ed',\n",
    "       'condition_other', 'violations_electronicmonitoring',\n",
    "       'violations_instruction', 'violations_failtoreport',\n",
    "       'violations_movewithoutpermission','employment_exempt', 'avg_days_per_drugtest',\n",
    "       'drugtests_thc_positive', 'drugtests_cocaine_positive',\n",
    "       'drugtests_meth_positive', 'drugtests_other_positive',\n",
    "       'percent_days_employed', 'supervision_risk_score_first']"
   ]
  },
  {
   "cell_type": "code",
   "execution_count": 31,
   "id": "aed34303-444f-4dbf-8cf5-a0db7aa9aaf0",
   "metadata": {},
   "outputs": [],
   "source": [
    "#converting these columns to numeric on train/test\n",
    "for c in obj_to_numeric:\n",
    "    X_train_df_imp[c] = pd.to_numeric(X_train_df_imp[c])\n",
    "    \n",
    "for c in obj_to_numeric:\n",
    "    X_test_df_imp[c] = pd.to_numeric(X_test_df_imp[c])"
   ]
  },
  {
   "cell_type": "code",
   "execution_count": 32,
   "id": "1c223044-a1fa-417c-9d9c-b85ac3fac855",
   "metadata": {},
   "outputs": [
    {
     "data": {
      "text/plain": [
       "6.000000     0.149135\n",
       "7.000000     0.143172\n",
       "5.000000     0.130015\n",
       "8.000000     0.114913\n",
       "4.000000     0.107719\n",
       "9.000000     0.100395\n",
       "10.000000    0.088211\n",
       "3.000000     0.080109\n",
       "2.000000     0.044980\n",
       "1.000000     0.021972\n",
       "6.154461     0.019379\n",
       "Name: supervision_risk_score_first, dtype: float64"
      ]
     },
     "execution_count": 32,
     "metadata": {},
     "output_type": "execute_result"
    }
   ],
   "source": [
    "#going to convert into integers based on what the data dict says - should be 1-10 score\n",
    "X_train_df_imp['supervision_risk_score_first'].value_counts(normalize=True)"
   ]
  },
  {
   "cell_type": "code",
   "execution_count": 33,
   "id": "89c4631c-f82f-46f0-8859-140fd491a996",
   "metadata": {
    "tags": []
   },
   "outputs": [],
   "source": [
    "X_train_df_imp['supervision_risk_score_first'] = X_train_df_imp['supervision_risk_score_first'].astype(int)\n",
    "X_test_df_imp['supervision_risk_score_first'] = X_test_df_imp['supervision_risk_score_first'].astype(int)"
   ]
  },
  {
   "cell_type": "markdown",
   "id": "aff7143a-c19d-4323-b709-524bfa90cb06",
   "metadata": {},
   "source": [
    "### OHE Select Categorical Columns\n",
    "Checking correct columns are returned as 'object'"
   ]
  },
  {
   "cell_type": "code",
   "execution_count": 34,
   "id": "f6a4b75c-0e6e-4d21-8c1c-98a0d788282a",
   "metadata": {},
   "outputs": [
    {
     "data": {
      "text/html": [
       "<div>\n",
       "<style scoped>\n",
       "    .dataframe tbody tr th:only-of-type {\n",
       "        vertical-align: middle;\n",
       "    }\n",
       "\n",
       "    .dataframe tbody tr th {\n",
       "        vertical-align: top;\n",
       "    }\n",
       "\n",
       "    .dataframe thead th {\n",
       "        text-align: right;\n",
       "    }\n",
       "</style>\n",
       "<table border=\"1\" class=\"dataframe\">\n",
       "  <thead>\n",
       "    <tr style=\"text-align: right;\">\n",
       "      <th></th>\n",
       "      <th>supervision_level_first</th>\n",
       "      <th>id</th>\n",
       "      <th>age_at_release</th>\n",
       "      <th>residence_puma</th>\n",
       "      <th>gang_affiliated</th>\n",
       "      <th>education_level</th>\n",
       "      <th>prison_offense</th>\n",
       "      <th>prison_years</th>\n",
       "    </tr>\n",
       "  </thead>\n",
       "  <tbody>\n",
       "    <tr>\n",
       "      <th>0</th>\n",
       "      <td>Standard</td>\n",
       "      <td>1</td>\n",
       "      <td>43-47</td>\n",
       "      <td>16</td>\n",
       "      <td>False</td>\n",
       "      <td>At least some college</td>\n",
       "      <td>Drug</td>\n",
       "      <td>More than 3 years</td>\n",
       "    </tr>\n",
       "    <tr>\n",
       "      <th>1</th>\n",
       "      <td>Specialized</td>\n",
       "      <td>2</td>\n",
       "      <td>33-37</td>\n",
       "      <td>16</td>\n",
       "      <td>False</td>\n",
       "      <td>Less than HS diploma</td>\n",
       "      <td>Violent/Non-Sex</td>\n",
       "      <td>More than 3 years</td>\n",
       "    </tr>\n",
       "    <tr>\n",
       "      <th>2</th>\n",
       "      <td>High</td>\n",
       "      <td>3</td>\n",
       "      <td>48 or older</td>\n",
       "      <td>24</td>\n",
       "      <td>False</td>\n",
       "      <td>At least some college</td>\n",
       "      <td>Drug</td>\n",
       "      <td>1-2 years</td>\n",
       "    </tr>\n",
       "  </tbody>\n",
       "</table>\n",
       "</div>"
      ],
      "text/plain": [
       "  supervision_level_first id age_at_release residence_puma gang_affiliated  \\\n",
       "0                Standard  1          43-47             16           False   \n",
       "1             Specialized  2          33-37             16           False   \n",
       "2                    High  3    48 or older             24           False   \n",
       "\n",
       "         education_level   prison_offense       prison_years  \n",
       "0  At least some college             Drug  More than 3 years  \n",
       "1   Less than HS diploma  Violent/Non-Sex  More than 3 years  \n",
       "2  At least some college             Drug          1-2 years  "
      ]
     },
     "execution_count": 34,
     "metadata": {},
     "output_type": "execute_result"
    }
   ],
   "source": [
    "X_train_df_imp.select_dtypes(['object']).head(3)"
   ]
  },
  {
   "cell_type": "code",
   "execution_count": 35,
   "id": "2e012b7b-d00f-42b3-b29a-d0b45323b0d6",
   "metadata": {},
   "outputs": [],
   "source": [
    "#instantiate OHE\n",
    "ohe = OneHotEncoder(sparse=False, drop='if_binary')\n",
    "\n",
    "#list of cols to dummy\n",
    "cols_to_ohe = ['residence_puma',\n",
    "               'age_at_release',\n",
    "               'supervision_level_first',\n",
    "               'education_level',\n",
    "               'prison_offense',\n",
    "               'prison_years']\n",
    "\n",
    "#create transformer to apply OHE to select cols only\n",
    "transformer = make_column_transformer((ohe, cols_to_ohe),\n",
    "                                      remainder = 'passthrough',\n",
    "                                      verbose_feature_names_out = False)\n",
    "\n",
    "#apply the transformer to both train and test\n",
    "transformer.fit_transform(X_train_df_imp)\n",
    "transformer.transform(X_test_df_imp)\n",
    "\n",
    "#convert to dataframe\n",
    "X_train_encoded = pd.DataFrame(transformer.fit_transform(X_train_df_imp), columns = transformer.get_feature_names_out(), index=X_train_df_imp.index)\n",
    "X_test_encoded = pd.DataFrame(transformer.transform(X_test_df_imp), columns = transformer.get_feature_names_out(), index=X_test_df_imp.index)"
   ]
  },
  {
   "cell_type": "markdown",
   "id": "cfe860c8-0fad-4661-a52f-d32421d56314",
   "metadata": {},
   "source": [
    "### Scale Data\n",
    "Scale all encoded and converted data for KNN imputer modeling"
   ]
  },
  {
   "cell_type": "code",
   "execution_count": 36,
   "id": "91b27286-a939-4a34-86ae-42652737c2d5",
   "metadata": {},
   "outputs": [],
   "source": [
    "#instantiate sc\n",
    "sc = StandardScaler()\n",
    "\n",
    "#list of cols\n",
    "cols_to_scale = X_train_encoded.drop(columns=['id','gang_affiliated']).columns.values\n",
    "\n",
    "#create transformer to apply OHE to select ols only\n",
    "scaler = make_column_transformer((sc, cols_to_scale),\n",
    "                                 remainder = 'passthrough',\n",
    "                                 verbose_feature_names_out = False)\n",
    "\n",
    "#fit transform \n",
    "Z_train = scaler.fit_transform(X_train_encoded)\n",
    "Z_test = scaler.transform(X_test_encoded)\n",
    "\n",
    "#turn into df\n",
    "Z_train = pd.DataFrame(Z_train, columns=scaler.get_feature_names_out(), index=X_train_encoded.index)\n",
    "Z_test = pd.DataFrame(Z_test, columns=scaler.get_feature_names_out(), index=X_test_encoded.index)"
   ]
  },
  {
   "cell_type": "markdown",
   "id": "4960baa4-9c8b-4c10-85a4-b4c8013f7fc1",
   "metadata": {},
   "source": [
    "### KNNImputer for 'gang_affiliated' Nulls\n",
    "Fill nulls for gang_affiliated and do a final scaling since it is the only column not scaled. KNN is not predicting 1 or 0 for the values but rather the average of the neighbors so the values will be rounded from the nearest Intger."
   ]
  },
  {
   "cell_type": "code",
   "execution_count": 37,
   "id": "2beaff23-5247-4427-b70a-fe4ef528bdc9",
   "metadata": {},
   "outputs": [
    {
     "name": "stdout",
     "output_type": "stream",
     "text": [
      "0\n",
      "0\n"
     ]
    }
   ],
   "source": [
    "#instantiate KNNImputer for train\n",
    "knn_imp = KNNImputer()\n",
    "#instantiate KNNImputer for test \n",
    "knn_imp2 = KNNImputer()\n",
    "\n",
    "#fit and transform for train\n",
    "X_train_knn = knn_imp.fit_transform(Z_train)\n",
    "#fit and transform for test\n",
    "X_test_knn = knn_imp2.fit_transform(Z_test)\n",
    "\n",
    "#convert to df\n",
    "X_train_knn = pd.DataFrame(X_train_knn,columns = Z_train.columns, index=Z_train.index)\n",
    "#convert to df\n",
    "X_test_knn = pd.DataFrame(X_test_knn,columns = Z_test.columns, index=Z_test.index)\n",
    "\n",
    "#checking that nulls were filled in\n",
    "print(X_train_knn['gang_affiliated'].isna().sum())\n",
    "print(X_test_knn['gang_affiliated'].isna().sum())\n",
    "\n",
    "#rounding vals for 'gang_affiliated' cols\n",
    "X_train_knn['gang_affiliated'] = X_train_knn[['gang_affiliated']].round()\n",
    "X_test_knn['gang_affiliated'] = X_test_knn[['gang_affiliated']].round()"
   ]
  },
  {
   "cell_type": "code",
   "execution_count": 38,
   "id": "39be5488-3955-4fd3-8bbd-a49cc3d6144d",
   "metadata": {},
   "outputs": [],
   "source": [
    "#instantiate sc\n",
    "sc2 = StandardScaler()\n",
    "\n",
    "#list of cols\n",
    "cols_to_scale = X_train_knn.drop(columns=['id']).columns.values\n",
    "\n",
    "#create transformer to apply OHE to select ols only\n",
    "scaler2 = make_column_transformer((sc2, cols_to_scale),\n",
    "                                 remainder = 'passthrough',\n",
    "                                 verbose_feature_names_out = False)\n",
    "\n",
    "#fit transform \n",
    "X_train_final = scaler2.fit_transform(X_train_knn)\n",
    "X_test_final = scaler2.transform(X_test_knn)\n",
    "\n",
    "#turn into df\n",
    "X_train_final = pd.DataFrame(X_train_final, columns=scaler2.get_feature_names_out(), index=X_train_knn.index)\n",
    "X_test_final = pd.DataFrame(X_test_final, columns=scaler2.get_feature_names_out(), index=X_test_knn.index)"
   ]
  },
  {
   "cell_type": "code",
   "execution_count": 39,
   "id": "f6661014-346f-4b47-a2b1-d0b16366c522",
   "metadata": {},
   "outputs": [],
   "source": [
    "#Export to csv\n",
    "#X_train_final.to_csv('./cleaned_data/X_train_final.csv')\n",
    "#X_test_final.to_csv('./cleaned_data/X_test_final.csv')\n",
    "#y_train.to_csv('./cleaned_data/y_train.csv')\n",
    "#y_test.to_csv('./cleaned_data/y_test.csv')"
   ]
  },
  {
   "cell_type": "code",
   "execution_count": 40,
   "id": "1d717449-d946-446d-8a34-d52cccb11aa6",
   "metadata": {},
   "outputs": [
    {
     "data": {
      "text/html": [
       "<div>\n",
       "<style scoped>\n",
       "    .dataframe tbody tr th:only-of-type {\n",
       "        vertical-align: middle;\n",
       "    }\n",
       "\n",
       "    .dataframe tbody tr th {\n",
       "        vertical-align: top;\n",
       "    }\n",
       "\n",
       "    .dataframe thead th {\n",
       "        text-align: right;\n",
       "    }\n",
       "</style>\n",
       "<table border=\"1\" class=\"dataframe\">\n",
       "  <thead>\n",
       "    <tr style=\"text-align: right;\">\n",
       "      <th></th>\n",
       "      <th>residence_puma_1</th>\n",
       "      <th>residence_puma_2</th>\n",
       "      <th>residence_puma_3</th>\n",
       "      <th>residence_puma_4</th>\n",
       "      <th>residence_puma_5</th>\n",
       "      <th>residence_puma_6</th>\n",
       "      <th>residence_puma_7</th>\n",
       "      <th>residence_puma_8</th>\n",
       "      <th>residence_puma_9</th>\n",
       "      <th>residence_puma_10</th>\n",
       "      <th>...</th>\n",
       "      <th>residence_changes</th>\n",
       "      <th>avg_days_per_drugtest</th>\n",
       "      <th>drugtests_thc_positive</th>\n",
       "      <th>drugtests_cocaine_positive</th>\n",
       "      <th>drugtests_meth_positive</th>\n",
       "      <th>drugtests_other_positive</th>\n",
       "      <th>percent_days_employed</th>\n",
       "      <th>employment_exempt</th>\n",
       "      <th>gang_affiliated</th>\n",
       "      <th>id</th>\n",
       "    </tr>\n",
       "  </thead>\n",
       "  <tbody>\n",
       "    <tr>\n",
       "      <th>0</th>\n",
       "      <td>-0.183763</td>\n",
       "      <td>-0.210893</td>\n",
       "      <td>-0.234927</td>\n",
       "      <td>-0.260432</td>\n",
       "      <td>-0.214059</td>\n",
       "      <td>-0.212897</td>\n",
       "      <td>-0.217513</td>\n",
       "      <td>-0.261424</td>\n",
       "      <td>-0.163142</td>\n",
       "      <td>-0.151682</td>\n",
       "      <td>...</td>\n",
       "      <td>1.131788</td>\n",
       "      <td>4.922330</td>\n",
       "      <td>-0.398177</td>\n",
       "      <td>-0.200406</td>\n",
       "      <td>-0.194036</td>\n",
       "      <td>-0.162822</td>\n",
       "      <td>0.016395</td>\n",
       "      <td>-0.399112</td>\n",
       "      <td>-0.445491</td>\n",
       "      <td>1.0</td>\n",
       "    </tr>\n",
       "    <tr>\n",
       "      <th>1</th>\n",
       "      <td>-0.183763</td>\n",
       "      <td>-0.210893</td>\n",
       "      <td>-0.234927</td>\n",
       "      <td>-0.260432</td>\n",
       "      <td>-0.214059</td>\n",
       "      <td>-0.212897</td>\n",
       "      <td>-0.217513</td>\n",
       "      <td>-0.261424</td>\n",
       "      <td>-0.163142</td>\n",
       "      <td>-0.151682</td>\n",
       "      <td>...</td>\n",
       "      <td>1.131788</td>\n",
       "      <td>-0.331993</td>\n",
       "      <td>-0.398177</td>\n",
       "      <td>-0.200406</td>\n",
       "      <td>-0.194036</td>\n",
       "      <td>-0.162822</td>\n",
       "      <td>-0.132771</td>\n",
       "      <td>-0.399112</td>\n",
       "      <td>-0.445491</td>\n",
       "      <td>2.0</td>\n",
       "    </tr>\n",
       "    <tr>\n",
       "      <th>2</th>\n",
       "      <td>-0.183763</td>\n",
       "      <td>-0.210893</td>\n",
       "      <td>-0.234927</td>\n",
       "      <td>-0.260432</td>\n",
       "      <td>-0.214059</td>\n",
       "      <td>-0.212897</td>\n",
       "      <td>-0.217513</td>\n",
       "      <td>-0.261424</td>\n",
       "      <td>-0.163142</td>\n",
       "      <td>-0.151682</td>\n",
       "      <td>...</td>\n",
       "      <td>-0.812146</td>\n",
       "      <td>0.196782</td>\n",
       "      <td>2.221204</td>\n",
       "      <td>-0.200406</td>\n",
       "      <td>2.913829</td>\n",
       "      <td>-0.162822</td>\n",
       "      <td>-1.134383</td>\n",
       "      <td>-0.399112</td>\n",
       "      <td>-0.445491</td>\n",
       "      <td>3.0</td>\n",
       "    </tr>\n",
       "    <tr>\n",
       "      <th>3</th>\n",
       "      <td>-0.183763</td>\n",
       "      <td>-0.210893</td>\n",
       "      <td>-0.234927</td>\n",
       "      <td>-0.260432</td>\n",
       "      <td>-0.214059</td>\n",
       "      <td>-0.212897</td>\n",
       "      <td>-0.217513</td>\n",
       "      <td>-0.261424</td>\n",
       "      <td>-0.163142</td>\n",
       "      <td>-0.151682</td>\n",
       "      <td>...</td>\n",
       "      <td>2.103754</td>\n",
       "      <td>-0.425592</td>\n",
       "      <td>-0.398177</td>\n",
       "      <td>-0.200406</td>\n",
       "      <td>-0.194036</td>\n",
       "      <td>-0.162822</td>\n",
       "      <td>1.221056</td>\n",
       "      <td>-0.399112</td>\n",
       "      <td>-0.445491</td>\n",
       "      <td>4.0</td>\n",
       "    </tr>\n",
       "    <tr>\n",
       "      <th>4</th>\n",
       "      <td>-0.183763</td>\n",
       "      <td>-0.210893</td>\n",
       "      <td>-0.234927</td>\n",
       "      <td>-0.260432</td>\n",
       "      <td>-0.214059</td>\n",
       "      <td>-0.212897</td>\n",
       "      <td>-0.217513</td>\n",
       "      <td>-0.261424</td>\n",
       "      <td>-0.163142</td>\n",
       "      <td>-0.151682</td>\n",
       "      <td>...</td>\n",
       "      <td>-0.812146</td>\n",
       "      <td>-0.446400</td>\n",
       "      <td>-0.398177</td>\n",
       "      <td>-0.200406</td>\n",
       "      <td>0.902857</td>\n",
       "      <td>-0.162822</td>\n",
       "      <td>-0.654904</td>\n",
       "      <td>-0.399112</td>\n",
       "      <td>-0.445491</td>\n",
       "      <td>5.0</td>\n",
       "    </tr>\n",
       "  </tbody>\n",
       "</table>\n",
       "<p>5 rows × 89 columns</p>\n",
       "</div>"
      ],
      "text/plain": [
       "   residence_puma_1  residence_puma_2  residence_puma_3  residence_puma_4  \\\n",
       "0         -0.183763         -0.210893         -0.234927         -0.260432   \n",
       "1         -0.183763         -0.210893         -0.234927         -0.260432   \n",
       "2         -0.183763         -0.210893         -0.234927         -0.260432   \n",
       "3         -0.183763         -0.210893         -0.234927         -0.260432   \n",
       "4         -0.183763         -0.210893         -0.234927         -0.260432   \n",
       "\n",
       "   residence_puma_5  residence_puma_6  residence_puma_7  residence_puma_8  \\\n",
       "0         -0.214059         -0.212897         -0.217513         -0.261424   \n",
       "1         -0.214059         -0.212897         -0.217513         -0.261424   \n",
       "2         -0.214059         -0.212897         -0.217513         -0.261424   \n",
       "3         -0.214059         -0.212897         -0.217513         -0.261424   \n",
       "4         -0.214059         -0.212897         -0.217513         -0.261424   \n",
       "\n",
       "   residence_puma_9  residence_puma_10  ...  residence_changes  \\\n",
       "0         -0.163142          -0.151682  ...           1.131788   \n",
       "1         -0.163142          -0.151682  ...           1.131788   \n",
       "2         -0.163142          -0.151682  ...          -0.812146   \n",
       "3         -0.163142          -0.151682  ...           2.103754   \n",
       "4         -0.163142          -0.151682  ...          -0.812146   \n",
       "\n",
       "   avg_days_per_drugtest  drugtests_thc_positive  drugtests_cocaine_positive  \\\n",
       "0               4.922330               -0.398177                   -0.200406   \n",
       "1              -0.331993               -0.398177                   -0.200406   \n",
       "2               0.196782                2.221204                   -0.200406   \n",
       "3              -0.425592               -0.398177                   -0.200406   \n",
       "4              -0.446400               -0.398177                   -0.200406   \n",
       "\n",
       "   drugtests_meth_positive  drugtests_other_positive  percent_days_employed  \\\n",
       "0                -0.194036                 -0.162822               0.016395   \n",
       "1                -0.194036                 -0.162822              -0.132771   \n",
       "2                 2.913829                 -0.162822              -1.134383   \n",
       "3                -0.194036                 -0.162822               1.221056   \n",
       "4                 0.902857                 -0.162822              -0.654904   \n",
       "\n",
       "   employment_exempt  gang_affiliated   id  \n",
       "0          -0.399112        -0.445491  1.0  \n",
       "1          -0.399112        -0.445491  2.0  \n",
       "2          -0.399112        -0.445491  3.0  \n",
       "3          -0.399112        -0.445491  4.0  \n",
       "4          -0.399112        -0.445491  5.0  \n",
       "\n",
       "[5 rows x 89 columns]"
      ]
     },
     "execution_count": 40,
     "metadata": {},
     "output_type": "execute_result"
    }
   ],
   "source": [
    "X_train_final.head()"
   ]
  },
  {
   "cell_type": "markdown",
   "id": "9889a27b-f49f-482a-b4a4-de89cf13559a",
   "metadata": {},
   "source": [
    "### Correlations"
   ]
  },
  {
   "cell_type": "code",
   "execution_count": 41,
   "id": "19f0d0f3-3910-484d-a912-a23ec768b2d0",
   "metadata": {},
   "outputs": [],
   "source": [
    "# #plot correlation of features to target val\n",
    "# plt.figure(figsize=(6,12))\n",
    "# sns.heatmap(pd.merge(X_train_knn, y_train, on='id').corr()[['recidivism_within_3years']].sort_values('recidivism_within_3years', ascending=False),\n",
    "#             annot=True);"
   ]
  },
  {
   "cell_type": "markdown",
   "id": "5541b8bf-cdf7-4e0f-bf32-a3252fad3d44",
   "metadata": {},
   "source": [
    "'percent_days_employed','employment_exempt', check to see if there is a theme between being exempt and working. Largest group is not exempt and 0 days worked. Pointing to a possible relationship to positive recidism  Could be clerical differences in how work is measured here. When looking at distribution the majority of the classes are in the 1 and 0 groups."
   ]
  },
  {
   "cell_type": "code",
   "execution_count": 42,
   "id": "a2b62b00-a81c-46ca-82a5-8d3f33308e10",
   "metadata": {},
   "outputs": [
    {
     "data": {
      "text/plain": [
       "percent_days_employed  employment_exempt\n",
       "0.000000               0                    0.277015\n",
       "1.000000               0                    0.184857\n",
       "0.000000               1                    0.044317\n",
       "1.000000               1                    0.020239\n",
       "0.500000               0                    0.000497\n",
       "                                              ...   \n",
       "0.420485               0                    0.000045\n",
       "0.420502               0                    0.000045\n",
       "0.420945               0                    0.000045\n",
       "0.421209               0                    0.000045\n",
       "0.629335               1                    0.000045\n",
       "Length: 9815, dtype: float64"
      ]
     },
     "execution_count": 42,
     "metadata": {},
     "output_type": "execute_result"
    }
   ],
   "source": [
    "employ_cols = ['percent_days_employed','employment_exempt']\n",
    "recid_df[employ_cols].value_counts(normalize = True)"
   ]
  },
  {
   "cell_type": "code",
   "execution_count": null,
   "id": "e0589f95-24cb-421d-98db-4c1a0c7d205d",
   "metadata": {},
   "outputs": [],
   "source": []
  }
 ],
 "metadata": {
  "kernelspec": {
   "display_name": "Python 3 (ipykernel)",
   "language": "python",
   "name": "python3"
  },
  "language_info": {
   "codemirror_mode": {
    "name": "ipython",
    "version": 3
   },
   "file_extension": ".py",
   "mimetype": "text/x-python",
   "name": "python",
   "nbconvert_exporter": "python",
   "pygments_lexer": "ipython3",
   "version": "3.9.7"
  }
 },
 "nbformat": 4,
 "nbformat_minor": 5
}
